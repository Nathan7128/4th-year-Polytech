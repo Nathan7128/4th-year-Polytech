{
 "cells": [
  {
   "cell_type": "markdown",
   "metadata": {},
   "source": [
    "# TP 2 : Classes et Objets\n",
    "\n",
    "## 1. Le guessing game\n",
    "\n",
    "On veut coder dans l'esprit orienté objét, le jeu qui consiste à deviner un nombre. Un tel jeu possède :\n",
    " - un joueur\n",
    " - un nombre secret\n",
    " - un statut (False ou True) selon que le jeu est résolu ou non.\n",
    " \n",
    "Un joueur a un nom et peut _deviner_ un nombre. \n",
    " \n",
    "Coder une classe ```Player``` qui initialise le nom du joueur et propose une méthode ```guess``` pour deviner un nombre. \n",
    "\n",
    "Coder une classe ```Game``` qui initialise un jeu pour un joueur donné et qui propose une méthode ```tryGuess``` qui récupère le guess du joueur et répond si la valeur est plus ou moins élevée."
   ]
  },
  {
   "cell_type": "code",
   "execution_count": 2,
   "metadata": {},
   "outputs": [],
   "source": [
    "# import libraries\n",
    "\n",
    "import numpy as np"
   ]
  },
  {
   "cell_type": "code",
   "execution_count": 25,
   "metadata": {},
   "outputs": [],
   "source": [
    "class Player(object) :\n",
    "    def __init__(self, name) -> None:\n",
    "        self.__name = name\n",
    "\n",
    "    @property\n",
    "    def name(self) :\n",
    "        return self.__name\n",
    "    \n",
    "    def guess(self) :\n",
    "        n = int(input(\"Give me a number : \"))\n",
    "        return n"
   ]
  },
  {
   "cell_type": "code",
   "execution_count": 26,
   "metadata": {},
   "outputs": [],
   "source": [
    "class Game(object) :\n",
    "\n",
    "    def __init__(self, player, int_max) -> None:\n",
    "        self.player = player\n",
    "        self.__secret = np.random.randint(0, int_max)\n",
    "        self.int_max = int_max\n",
    "        self.status = False\n",
    "\n",
    "    def tryGuess(self) :\n",
    "        guess = self.player.guess()\n",
    "        if guess == self.__secret :\n",
    "            print(\"Bravo {} ! Tu as gagné.\".format(self.player.name))\n",
    "            self.status = True\n",
    "        if guess < self.__secret :\n",
    "            print(\"Trop petit.\")\n",
    "        if guess > self.__secret :\n",
    "            print(\"Trop grand.\")\n",
    "    \n",
    "    def run(self) :\n",
    "        while not (self.status) :\n",
    "            self.tryGuess()"
   ]
  },
  {
   "cell_type": "code",
   "execution_count": 29,
   "metadata": {},
   "outputs": [
    {
     "name": "stdout",
     "output_type": "stream",
     "text": [
      "Trop petit.\n",
      "Trop grand.\n",
      "Trop petit.\n",
      "Trop petit.\n",
      "Trop petit.\n",
      "Trop petit.\n",
      "Trop petit.\n",
      "Trop petit.\n",
      "Trop grand.\n",
      "Bravo Laurent Beaudou ! Tu as gagné.\n"
     ]
    }
   ],
   "source": [
    "moi = Player(\"Laurent Beaudou\")\n",
    "monJeu = Game(moi, 50)\n",
    "monJeu.run()"
   ]
  },
  {
   "cell_type": "markdown",
   "metadata": {},
   "source": [
    "Supposons que l'on veuille distinguer les joueurs humains (nécessite une interaction graphique) des bots.\n",
    "\n",
    "On va remplacer la classe ```Player``` par une classe abstraite et lui donner deux classes en héritage:\n",
    " - la classe ```HumanPlayer```\n",
    " - la classe ```CompPlayer```\n",
    " \n",
    " Cette dernière aura des attributs supplémentaires (liste des essais tentés, liste des resultats obtenus). On lui ajoutera également une méthode ```update_results``` qui mettra à jour les résultats des tentatives.\n",
    " \n",
    " Il conviendra de modifier un tant soit peu la classe ```Game``` pour lancer la méthode spécifique après les essais de l'ordinateur (cf méthode ```isinstance()```)."
   ]
  },
  {
   "cell_type": "code",
   "execution_count": 34,
   "metadata": {},
   "outputs": [],
   "source": [
    "from abc import ABC, abstractmethod\n",
    "\n",
    "from random import randint\n",
    "\n",
    "class Player(ABC) :\n",
    "    def __init__(self, name) -> None:\n",
    "        self.__name = name\n",
    "    \n",
    "    @abstractmethod\n",
    "    def guess(self) :\n",
    "        pass\n",
    "\n",
    "    @property\n",
    "    def name(self) :\n",
    "        return self.__name\n",
    "    \n",
    "class HumanPlayer(Player) :\n",
    "    def guess(self) :\n",
    "        n = int(input(\"Donne moi un nombre :\"))\n",
    "        return n\n",
    "    \n",
    "class ComputerPlayer(Player) :\n",
    "    def __init__(self, name, guessAlgo) -> None:\n",
    "        super().__init__(name)\n",
    "        self.method = guessAlgo\n",
    "        self.low = 0\n",
    "        self.up = None\n",
    "\n",
    "    def updateUp(self, up) :\n",
    "        self.up = up\n",
    "\n",
    "    def guess(self) :\n",
    "        return self.method(self.low, self.up)\n",
    "    \n",
    "    def updateRecord(self, guess, ans) :\n",
    "        if ans == -1 :\n",
    "            self.low = max(self.low, guess)\n",
    "        if ans == 1 :\n",
    "            self.up = min(self.up, guess)\n",
    "\n",
    "class Game(object) :\n",
    "\n",
    "    def __init__(self, player, int_max) -> None:\n",
    "        self.player = player\n",
    "        self.__secret = np.random.randint(0, int_max)\n",
    "        self.int_max = int_max\n",
    "        self.__status = False\n",
    "\n",
    "    def tryGuess(self) :\n",
    "        guess = self.player.guess()\n",
    "        if guess == self.__secret :\n",
    "            print(\"Le joueur {} a guessé le nombre {}.\".format(self.player.name, str(guess)))\n",
    "            self.__status = True\n",
    "            ans = 0\n",
    "        if guess < self.__secret :\n",
    "            print(\"Trop petit.\")\n",
    "            ans = -1\n",
    "        if guess > self.__secret :\n",
    "            print(\"Trop grand.\")\n",
    "            ans = 1\n",
    "        if isinstance(self.player, ComputerPlayer) :\n",
    "            self.player.updateRecord(guess, ans)\n",
    "    \n",
    "    def run(self) :\n",
    "        print(\"J'ai choisi un nombre entre 0 et {}\".format(str(self.int_max)))\n",
    "        if isinstance(self.player, ComputerPlayer) :\n",
    "            self.player.updateUp(self.int_max)\n",
    "        while not (self.__status) :\n",
    "            self.tryGuess()"
   ]
  },
  {
   "cell_type": "code",
   "execution_count": 35,
   "metadata": {},
   "outputs": [],
   "source": [
    "def dicho(low, up) :\n",
    "    return int((low + up)/2)"
   ]
  },
  {
   "cell_type": "code",
   "execution_count": 39,
   "metadata": {},
   "outputs": [
    {
     "name": "stdout",
     "output_type": "stream",
     "text": [
      "J'ai choisi un nombre entre 0 et 1000000000\n",
      "Trop grand.\n",
      "Trop grand.\n",
      "Trop grand.\n",
      "Trop petit.\n",
      "Trop petit.\n",
      "Trop grand.\n",
      "Trop petit.\n",
      "Trop grand.\n",
      "Trop petit.\n",
      "Trop petit.\n",
      "Trop grand.\n",
      "Trop grand.\n",
      "Trop petit.\n",
      "Trop petit.\n",
      "Trop grand.\n",
      "Trop petit.\n",
      "Trop grand.\n",
      "Trop grand.\n",
      "Trop grand.\n",
      "Trop grand.\n",
      "Trop grand.\n",
      "Trop petit.\n",
      "Trop grand.\n",
      "Trop grand.\n",
      "Trop petit.\n",
      "Trop petit.\n",
      "Trop petit.\n",
      "Trop petit.\n",
      "Le joueur Dicho a guessé le nombre 104690845.\n"
     ]
    }
   ],
   "source": [
    "p1 = ComputerPlayer(\"Dicho\", dicho)\n",
    "g = Game(p1, 1000000000)\n",
    "g.run()"
   ]
  }
 ],
 "metadata": {
  "kernelspec": {
   "display_name": "env_python",
   "language": "python",
   "name": "python3"
  },
  "language_info": {
   "codemirror_mode": {
    "name": "ipython",
    "version": 3
   },
   "file_extension": ".py",
   "mimetype": "text/x-python",
   "name": "python",
   "nbconvert_exporter": "python",
   "pygments_lexer": "ipython3",
   "version": "3.12.6"
  }
 },
 "nbformat": 4,
 "nbformat_minor": 2
}
