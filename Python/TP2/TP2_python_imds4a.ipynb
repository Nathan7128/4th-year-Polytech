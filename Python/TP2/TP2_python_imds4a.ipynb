{
 "cells": [
  {
   "cell_type": "markdown",
   "id": "8270f566",
   "metadata": {},
   "source": [
    "# TP 2 : Classes et Objets\n",
    "\n",
    "## 1. Le guessing game\n",
    "\n",
    "On veut coder dans l'esprit orienté objét, le jeu qui consiste à deviner un nombre. Un tel jeu possède :\n",
    " - un joueur\n",
    " - un nombre secret\n",
    " - un statut (False ou True) selon que le jeu est résolu ou non.\n",
    " \n",
    "Un joueur a un nom et peut _deviner_ un nombre. \n",
    " \n",
    "Coder une classe ```Player``` qui initialise le nom du joueur et propose une méthode ```guess``` pour deviner un nombre. \n",
    "\n",
    "Coder une classe ```Game``` qui initialise un jeu pour un joueur donné et qui propose une méthode ```tryGuess``` qui récupère le guess du joueur et répond si la valeur est plus ou moins élevée."
   ]
  },
  {
   "cell_type": "code",
   "execution_count": null,
   "id": "8fad7a05",
   "metadata": {},
   "outputs": [],
   "source": [
    "class Player(object) :\n",
    "    def __init__(self, name) -> None:\n",
    "        self.nom = name\n",
    "    \n",
    "    def guess(nombre)"
   ]
  },
  {
   "cell_type": "code",
   "execution_count": null,
   "id": "f7784792",
   "metadata": {},
   "outputs": [],
   "source": [
    "moi = Player(\"Laurent Beaudou\")\n",
    "monJeu = Game(moi)\n",
    "monJeu.run()"
   ]
  },
  {
   "cell_type": "markdown",
   "id": "dbc0446a",
   "metadata": {},
   "source": [
    "Supposons que l'on veuille distinguer les joueurs humains (nécessite une interaction graphique) des bots.\n",
    "\n",
    "On va remplacer la classe ```Player``` par une classe abstraite et lui donner deux classes en héritage:\n",
    " - la classe ```HumanPlayer```\n",
    " - la classe ```CompPlayer```\n",
    " \n",
    " Cette dernière aura des attributs supplémentaires (liste des essais tentés, liste des resultats obtenus). On lui ajoutera également une méthode ```update_results``` qui mettra à jour les résultats des tentatives.\n",
    " \n",
    " Il conviendra de modifier un tant soit peu la classe ```Game``` pour lancer la méthode spécifique après les essais de l'ordinateur (cf méthode ```isinstance()```)."
   ]
  },
  {
   "cell_type": "code",
   "execution_count": null,
   "id": "a61e6f22",
   "metadata": {},
   "outputs": [],
   "source": [
    "# Votre code ici"
   ]
  },
  {
   "cell_type": "markdown",
   "id": "8e9f7bae",
   "metadata": {},
   "source": [
    "Mieux, on veut faire jouer les gens les uns contre les autres. Les guess sont publics, et il est obligatoire de réduire l'intervalle. Proposer différentes fonctions.\n",
    "\n",
    "Réécrire la classe ```ComputerPlayer``` pour qu'elle prenne une fonction en arguement qui lui servira de méthode de guess.\n",
    "\n",
    "Organiser un immense tournoi de vos IA ! "
   ]
  },
  {
   "cell_type": "code",
   "execution_count": null,
   "id": "0ec44c28",
   "metadata": {},
   "outputs": [],
   "source": []
  },
  {
   "cell_type": "markdown",
   "id": "12491235",
   "metadata": {},
   "source": [
    "## 2. Gestion civile\n",
    "\n",
    "Vous voilà employé de mairie. Vous devez gérer l'état civil.\n",
    "\n",
    "### 2.1 \n",
    "Créez la classe Date permettant de créer des dates et de les afficher. On ne vérifiera pas que le nombre de jours est correct par rapport au mois. Interdisez aux utilisateurs de modifier une date créée."
   ]
  },
  {
   "cell_type": "code",
   "execution_count": null,
   "id": "b0dd6e1e",
   "metadata": {},
   "outputs": [],
   "source": []
  },
  {
   "cell_type": "markdown",
   "id": "ae23821f",
   "metadata": {},
   "source": [
    "Ajoutez à votre classe une méthode de comparaison pour savoir si une date précède une autre."
   ]
  },
  {
   "cell_type": "code",
   "execution_count": null,
   "id": "b24c7305",
   "metadata": {},
   "outputs": [],
   "source": []
  },
  {
   "cell_type": "markdown",
   "id": "4a823af6",
   "metadata": {},
   "source": [
    "## 2.2 \n",
    "\n",
    "Une personne possède un nom, un prénom et une date de naissance. Créez une classe qui permet de manipuler ces informations. En particulier, une personne doit être en mesure de modifier son nom."
   ]
  },
  {
   "cell_type": "code",
   "execution_count": null,
   "id": "02f03df2",
   "metadata": {},
   "outputs": [],
   "source": []
  },
  {
   "cell_type": "markdown",
   "id": "30347053",
   "metadata": {},
   "source": [
    "Une personne peut être soit célibataire soit mariée. Si elle est mariée, la date du mariage est importante. Ajouter une méthode qui permet à deux personnes de se marier. On vérifiera dans la méthode que la date du mariage est postérieure à la naissance des deux personnes. Ajouter également une méthode permettant de savoir si la personne est mariée."
   ]
  },
  {
   "cell_type": "code",
   "execution_count": null,
   "id": "80343180",
   "metadata": {},
   "outputs": [],
   "source": []
  },
  {
   "cell_type": "markdown",
   "id": "7d17559e",
   "metadata": {},
   "source": [
    "## 2.3\n",
    "\n",
    "On ajoute maintenant la possibilité pour chaque individu d'avoir des parents. Ces parents sont optionnels au sens ou ils peuvent être inconnus.\n",
    "\n",
    "Codez une méthode qui permet de déterminer si la personne considérée est le frère ou la soeur d'une autre personne passée en paramètre (un seul parent commun suffit)."
   ]
  },
  {
   "cell_type": "code",
   "execution_count": null,
   "id": "9414a93a",
   "metadata": {},
   "outputs": [],
   "source": []
  },
  {
   "cell_type": "code",
   "execution_count": null,
   "id": "12dc87a6",
   "metadata": {},
   "outputs": [],
   "source": []
  },
  {
   "cell_type": "markdown",
   "id": "620bbbf5",
   "metadata": {},
   "source": [
    "On considère désormais que les personnes sont soit des hommes, soit des femmes et que les hommes n'ont pas le droit de changer leur nom (vous êtes dans une mairie traditionnaliste). Faîtes les modifications appropriées."
   ]
  },
  {
   "cell_type": "code",
   "execution_count": null,
   "id": "074d463d",
   "metadata": {},
   "outputs": [],
   "source": []
  }
 ],
 "metadata": {
  "kernelspec": {
   "display_name": "Python 3 (ipykernel)",
   "language": "python",
   "name": "python3"
  },
  "language_info": {
   "codemirror_mode": {
    "name": "ipython",
    "version": 3
   },
   "file_extension": ".py",
   "mimetype": "text/x-python",
   "name": "python",
   "nbconvert_exporter": "python",
   "pygments_lexer": "ipython3",
   "version": "3.11.2"
  }
 },
 "nbformat": 4,
 "nbformat_minor": 5
}
