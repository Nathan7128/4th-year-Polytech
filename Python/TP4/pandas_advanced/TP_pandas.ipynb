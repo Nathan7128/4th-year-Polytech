{
 "cells": [
  {
   "cell_type": "markdown",
   "id": "f494e021-727d-49fd-9be9-7caef053cd33",
   "metadata": {},
   "source": [
    "#  Analyse de données avec pandas.\n",
    "\n",
    "### À propos des données\n",
    "\n",
    "On va utiliser les statistiques de vol du département américain des statistiques de transports en 2019 (dispo [ici](https://www.transtats.bts.gov/DL_SelectFields.asp?gnoyr_VQ=FMF&QO_fu146_anzr=Nv4%20Pn44vr45) ou dans le fichier `./data/T100_MARKET_ALL_CARRIER.zip`). Chaque ligne contient des informations sur un laison donnée pour un mois fixé (par exmple, le vol de JFK &rarr; LAX sur Delta Airlines en Janvier). Il y a 321409 lignes et 41 colonnes. Il n'est pas nécessaire de dézipper le fichier pour le lire avec `pd.read_csv()`.\n",
    "\n",
    "#### Exercices\n",
    "\n",
    "##### 1. Lire la donnée et convertir les noms de colonnes en minuscules pour en faciliter la lecture."
   ]
  },
  {
   "cell_type": "code",
   "execution_count": null,
   "id": "66c20c07-36c7-4035-a382-edd0d5b65f10",
   "metadata": {},
   "outputs": [],
   "source": []
  },
  {
   "cell_type": "markdown",
   "id": "7583ee63-a49a-4ee4-a997-f3f15a67e8f5",
   "metadata": {},
   "source": [
    "##### 2. Quelles sont les colonnes dans ce dataset ?"
   ]
  },
  {
   "cell_type": "code",
   "execution_count": null,
   "id": "4b666eca-d4f7-42df-ae37-8d933c35b76f",
   "metadata": {},
   "outputs": [],
   "source": []
  },
  {
   "cell_type": "markdown",
   "id": "1b4b5dbb-9175-4f2a-88c9-0bd0b51227eb",
   "metadata": {},
   "source": [
    "##### 3. Combien de compagnies distinctes ?"
   ]
  },
  {
   "cell_type": "code",
   "execution_count": null,
   "id": "44a7eb68-f2ff-44bd-98c6-cb2e14fecf2e",
   "metadata": {},
   "outputs": [],
   "source": []
  },
  {
   "cell_type": "markdown",
   "id": "2f4cf587-5c27-49e4-b207-c88246fa407b",
   "metadata": {},
   "source": [
    "##### 4. Calculer les totaux des colonnes `freight`, `mail`, et `passengers` pour les vols du Royaume-Uni vers les États-Unis."
   ]
  },
  {
   "cell_type": "code",
   "execution_count": null,
   "id": "6b425e67-4c79-425a-a65e-3c9acec8caa5",
   "metadata": {},
   "outputs": [],
   "source": []
  },
  {
   "cell_type": "markdown",
   "id": "8646906c-90f1-492f-b7d1-ec8d9d5d2c4e",
   "metadata": {},
   "source": [
    "##### 5. Trouver les cinq compagnies dont la médiane des distances des liaisons sont les plus grandes."
   ]
  },
  {
   "cell_type": "code",
   "execution_count": null,
   "id": "77ad5f12-72f1-4d9c-8ee4-7bdd98ab4a63",
   "metadata": {},
   "outputs": [],
   "source": []
  },
  {
   "cell_type": "markdown",
   "id": "14df568e-e9c5-4ff4-9ba2-5afb9e813846",
   "metadata": {},
   "source": [
    "##### 6. Trouver le transport de marchandises (mail + freight) total et la distance moyenne pour les 10 compagnies qui ont tranporté le plus de marchandise."
   ]
  },
  {
   "cell_type": "code",
   "execution_count": null,
   "id": "dddd7f77-aef8-4cf1-91fe-c5aab118cb46",
   "metadata": {},
   "outputs": [],
   "source": []
  },
  {
   "cell_type": "markdown",
   "id": "e13054ce-a69d-4c86-b484-ee6cad664ae3",
   "metadata": {},
   "source": [
    "##### 7. Quelles sont les dix compagnies qui ont fait voyager le plus de passagers vers l'extérieur des États-Unis ?"
   ]
  },
  {
   "cell_type": "code",
   "execution_count": null,
   "id": "fff4f9df-8d9c-445b-bcce-05977aa72e4e",
   "metadata": {},
   "outputs": [],
   "source": []
  },
  {
   "cell_type": "markdown",
   "id": "c7ce2d15-42bd-48f3-9292-f0a7aeb57010",
   "metadata": {},
   "source": [
    "##### 8. Pour chacune des compagnies trouvées à la question précédente, quelle est la destination la plus populaire hors de US ?"
   ]
  },
  {
   "cell_type": "code",
   "execution_count": null,
   "id": "ee2eebe0-2384-4cf1-924c-99f1d62e481b",
   "metadata": {},
   "outputs": [],
   "source": []
  },
  {
   "cell_type": "markdown",
   "id": "d93b58d7-38a2-48a7-b780-e4358b02d5f8",
   "metadata": {},
   "source": [
    "##### 9. Pour toutes les compagnies trouvées en *#7*, trouver le nombre total de passagers sur des vols internationaux de/vers la destination trouvée en *#8* et les États-Unis."
   ]
  },
  {
   "cell_type": "code",
   "execution_count": null,
   "id": "1bc598b5-4cfd-4307-bbba-5952121043dd",
   "metadata": {},
   "outputs": [],
   "source": []
  },
  {
   "cell_type": "markdown",
   "id": "89d9952b-5f8f-4d3c-a320-be392ea76323",
   "metadata": {},
   "source": [
    "##### 10. Entre quelle paire de villes il y a eu le plus de passagers (dans les deux directions) ?"
   ]
  },
  {
   "cell_type": "code",
   "execution_count": null,
   "id": "00b6eda1-4591-422a-abd7-466b1e1d8128",
   "metadata": {},
   "outputs": [],
   "source": []
  },
  {
   "cell_type": "markdown",
   "id": "9a03d6bd-d654-49a2-9b19-ef9e422d984c",
   "metadata": {},
   "source": [
    "##### 11. Trouver les trois top compagnies de la liaison trouvée en *#10* et donner le pourcentage de passagers sur chacune d'entre elles."
   ]
  },
  {
   "cell_type": "code",
   "execution_count": null,
   "id": "a0e55857-ebe5-4d87-8660-dd92091580ff",
   "metadata": {},
   "outputs": [],
   "source": []
  },
  {
   "cell_type": "markdown",
   "id": "c4c7024c-dce5-46a3-a520-3bf6ae294bd3",
   "metadata": {},
   "source": [
    "##### 12. Trouver le pourcentage de voyages internationaux par pays en utilisant le nombre total de passagers dans les vols de classe F."
   ]
  },
  {
   "cell_type": "code",
   "execution_count": null,
   "id": "40c37867-16bf-4c8c-a1a8-46968ad2959b",
   "metadata": {},
   "outputs": [],
   "source": []
  },
  {
   "cell_type": "markdown",
   "id": "310d6c9c-1438-4391-aa97-a58193a9bde1",
   "metadata": {},
   "source": [
    "##### 13. Avec une table croisée, trouver le pourcentage des passagers totaux sur les vols internationaux entre des villes américaine et les pays trouvés en *#12* qui ont utilisé une compagnie trouvée en *#11*."
   ]
  },
  {
   "cell_type": "code",
   "execution_count": null,
   "id": "f7e37cde-8346-4617-9942-466a969d0da8",
   "metadata": {},
   "outputs": [],
   "source": []
  },
  {
   "cell_type": "markdown",
   "id": "c11ee42e-7dee-408f-9e42-d06e85ff9b8d",
   "metadata": {},
   "source": [
    "##### 14. Créer une table de pivot qui montre le nombre total de passagers transportés entre des villes des US et d'autres pays par les compagnies identifiées en *#7*. Sélectionner les 10 top villes US et les 10 top pays étrangers du résultat."
   ]
  },
  {
   "cell_type": "code",
   "execution_count": null,
   "id": "d88ef592-9686-4e07-bbd7-0a1429c5f2f6",
   "metadata": {},
   "outputs": [],
   "source": []
  }
 ],
 "metadata": {
  "kernelspec": {
   "display_name": "Python 3 (ipykernel)",
   "language": "python",
   "name": "python3"
  },
  "language_info": {
   "codemirror_mode": {
    "name": "ipython",
    "version": 3
   },
   "file_extension": ".py",
   "mimetype": "text/x-python",
   "name": "python",
   "nbconvert_exporter": "python",
   "pygments_lexer": "ipython3",
   "version": "3.11.2"
  }
 },
 "nbformat": 4,
 "nbformat_minor": 5
}
