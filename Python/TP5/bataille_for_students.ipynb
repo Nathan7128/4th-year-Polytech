{
 "cells": [
  {
   "cell_type": "markdown",
   "id": "b8d31269",
   "metadata": {},
   "source": [
    "# TP :  Un jeu de cartes pas très amusant\n",
    "\n",
    "Nous allons programmer un jeu de carte de type bataille pas forcément très enrichissant pour l'aspect fun... Mais enrichissant pour la pratique.\n",
    "\n",
    "Le jeu se joue avec un jeu de cinquante-deux cartes (quatre couleurs et treize valeurs pour chacune d'entre elles). À chaque tour, le premier joueur choisit et joue une carte, puis le deuxième choisit et joue une carte. Celui des deux qui a posé le plus grande carte remporte les deux cartes et les ajoute à sa main. Le jeu se termine si un des joueurs n'a plus de carte.\n",
    "\n",
    "Nous voulons implémenter les classes suivantes : \n",
    "  * Card : la classe qui représente les objets de type carte. Ils ont une valeur, une couleur et sont comparables ! Pour la comparaison de cartes de même valeur, on décidera arbitrairement un ordre sur les couleurs\n",
    "  * Deck : une collection de cartes qui sera utilisée pour représenter aussi bien le paquet de cartes initiales que les mains des joueurs\n",
    "  * Player : classe abstraite dont hériteront les classes Human et Computer\n",
    "  * Human : sous-classe de Player adaptée aux joueurs humains\n",
    "  * Computer : sous-classe de Player adaptée à l'ordinateur\n",
    "  * Game : la classe principale du jeu qui initialise la partie, distribue les cartes, initie les tours et décide quand la partie se termine\n",
    "  * UI : une classe un peu à part de la mécanique du jeu à laquelle on délègue les affichages et input\n",
    "  \n",
    "  Prenez un peu de temps pour vous familiariser avec le diagramme de classes que je suis en train de dessiner au tableau...\n",
    "  \n",
    "### 1.  Les cartes\n",
    "\n",
    "Nous allons utiliser une classe de type [Énumération](https://docs.python.org/fr/3/library/enum.html) pour les couleurs des cartes. Il faut donc commencer par importer la classe en question de la librairie concernée."
   ]
  },
  {
   "cell_type": "code",
   "execution_count": null,
   "id": "5d35b389",
   "metadata": {},
   "outputs": [],
   "source": [
    "from enum import Enum\n",
    "\n",
    "class Suit(Enum):\n",
    "    SPADE = 1\n",
    "    HEART = 2\n",
    "    DIAMOND = 3\n",
    "    CLUB = 4"
   ]
  },
  {
   "cell_type": "code",
   "execution_count": null,
   "id": "59c9d505",
   "metadata": {},
   "outputs": [],
   "source": [
    "for s in Suit:\n",
    "    print(s)"
   ]
  },
  {
   "cell_type": "markdown",
   "id": "5d26a95e",
   "metadata": {},
   "source": [
    "Complétez la classe ```Card``` suivante."
   ]
  },
  {
   "cell_type": "code",
   "execution_count": null,
   "id": "7837e3b2",
   "metadata": {},
   "outputs": [],
   "source": [
    "class Card(object):\n",
    "    \n",
    "    # __init__, __lt__ , __str__\n",
    "    \n",
    "    # l'initialisation prend en argument une valeur (qui sera \n",
    "    # comprise entre 1 et 13) et une couleur (de type SUIT)."
   ]
  },
  {
   "cell_type": "code",
   "execution_count": null,
   "id": "d6077ce3",
   "metadata": {},
   "outputs": [],
   "source": [
    "c1 = Card(3,Suit.SPADE)\n",
    "c2 = Card(12,Suit.HEART)\n",
    "c3 = Card(3,Suit.CLUB)\n",
    "print(c1)\n",
    "print(c2)\n",
    "print(str(c1)+\"<\"+str(c2)+\" : \"+str(c1 <c2))\n",
    "print(str(c3)+\"<\"+str(c1)+\" : \"+str(c3 <c1))"
   ]
  },
  {
   "cell_type": "markdown",
   "id": "811a464d",
   "metadata": {},
   "source": [
    "On veut maintenant implémenter la classe Deck qui est un aggrégat de cartes. En particulier, on veut pouvoir :\n",
    "  * afficher le deck (via la fonction ```__str__```)\n",
    "  * tester si le deck est vide\n",
    "  * accéder à sa taille\n",
    "  * le mélanger\n",
    "  * ajouter une carte spécifique au deck\n",
    "  * retirer une carte spécifique du deck\n",
    "  * accéder à la ième carte du deck pour un entier i inférieur à la taille du deck\n",
    "  "
   ]
  },
  {
   "cell_type": "code",
   "execution_count": null,
   "id": "744be7b8",
   "metadata": {},
   "outputs": [],
   "source": [
    "class Deck(object):\n",
    "    \n",
    "    # Votre code ici"
   ]
  },
  {
   "cell_type": "code",
   "execution_count": null,
   "id": "0a32b770",
   "metadata": {},
   "outputs": [],
   "source": [
    "d = Deck()\n",
    "d.add(c1)\n",
    "d.add(c2)\n",
    "d.add(c3)\n",
    "d.shuffle()\n",
    "print(d)\n",
    "print(d.pop())\n",
    "print(d)"
   ]
  },
  {
   "cell_type": "markdown",
   "id": "04ed2d97",
   "metadata": {},
   "source": [
    "### 2. Les joueurs\n",
    "\n",
    "Qu'attend on des joueurs ? Qu'ils jouent. Ils disposeront chacun d'un deck correspondant à leur main. Un joueur a également un nom.\n",
    "\n",
    "Nous allons utiliser la notion de méthode abstraite (méthode implémentées dans les sous-classe). Pour ce faire on importe l'[Abstract Base Classes](https://docs.python.org/3/library/abc.html)."
   ]
  },
  {
   "cell_type": "code",
   "execution_count": null,
   "id": "82d520f6",
   "metadata": {},
   "outputs": [],
   "source": [
    "import abc"
   ]
  },
  {
   "cell_type": "markdown",
   "id": "0cd5fc87",
   "metadata": {},
   "source": [
    "Les méthodes qui diffèrent sont les façons de choisir une carte (via interface pour l'humain, via algorithme de décision pour l'ordinateur). Ce sont donc ces méthodes que nous passeront en abstraites."
   ]
  },
  {
   "cell_type": "code",
   "execution_count": null,
   "id": "65c5bb59",
   "metadata": {},
   "outputs": [],
   "source": [
    "class Player(abc.ABC): # On hérite de la classe spéciale abstraite.\n",
    "    \n",
    "    def __init__(self, name):\n",
    "        self.name = name\n",
    "        self.hand = Deck()\n",
    "        \n",
    "    @abc.abstractmethod\n",
    "    def chooseCardFirst(self):\n",
    "        pass\n",
    "    \n",
    "    @abc.abstractmethod\n",
    "    def chooseCardSecond(self,firstCardPlayed):\n",
    "        pass\n",
    "    \n",
    "    def playFirst(self):\n",
    "        card1 = self.chooseCardFirst()\n",
    "        self.hand.remove(card1)\n",
    "        return card1\n",
    "    \n",
    "    def playSecond(self,firstCardPlayed):\n",
    "        card2 = self.chooseCardSecond(firstCardPlayed)\n",
    "        self.hand.remove(card2)\n",
    "        return card2\n",
    "        \n",
    "    def take(self, card):\n",
    "        self.hand.add(card)\n",
    "    \n",
    "    def hasLost(self):\n",
    "        return self.hand.isEmpty()\n",
    "    \n",
    "    def __str__(self):\n",
    "        return self.name"
   ]
  },
  {
   "cell_type": "markdown",
   "id": "d25f0d9e",
   "metadata": {},
   "source": [
    "Maintenant il convient de coder l'algorithme de la machine. Nous importons la bibliothèque ```random``` et considérons que si l'ordi joue en premier il joue une carte au hasard. Lorsqu'il joue deuxième, il joue sa meilleure carte si elle bat la première carte jouée et sa moins bonne dans l'autre cas."
   ]
  },
  {
   "cell_type": "code",
   "execution_count": null,
   "id": "8df6b066",
   "metadata": {},
   "outputs": [],
   "source": [
    "import random"
   ]
  },
  {
   "cell_type": "code",
   "execution_count": null,
   "id": "84d1f46a",
   "metadata": {},
   "outputs": [],
   "source": [
    "class Computer(Player):\n",
    "    \n",
    "    def chooseCardFirst(self):\n",
    "        # VOTRE CODE\n",
    "        \n",
    "    def chooseCardSecond(self, firstCardPlayed):\n",
    "        # VOTRE CODE"
   ]
  },
  {
   "cell_type": "markdown",
   "id": "5cbf70a9",
   "metadata": {},
   "source": [
    "Pour le joueur humain, on lui affiche ses cartes et on lui demande d'en désigner une."
   ]
  },
  {
   "cell_type": "code",
   "execution_count": null,
   "id": "42c2a542",
   "metadata": {},
   "outputs": [],
   "source": [
    "class Human(Player):\n",
    "    \n",
    "    def chooseCardFirst(self):\n",
    "        # VOTRE CODE\n",
    "        \n",
    "    def chooseCardSecond(self, firstCardPlayed):\n",
    "        # VOTRE CODE"
   ]
  },
  {
   "cell_type": "markdown",
   "id": "6276682e",
   "metadata": {},
   "source": [
    "### 3. L'interface\n",
    "\n",
    "On va déléguer les messages d'affichage à un objet dédié pour assurer ce rôle. Pour ce faire, on crée une classe UI."
   ]
  },
  {
   "cell_type": "code",
   "execution_count": null,
   "id": "1d2a3025",
   "metadata": {},
   "outputs": [],
   "source": [
    "class UI():\n",
    "    \n",
    "    def play(self, player, card):\n",
    "        print(\"-----\")\n",
    "        print(\"Le joueur \"+str(p)+\" a joué la carte \"+str(c)+\".\")\n",
    "    \n",
    "    def gameOver(self, winner):\n",
    "        print(\"GAME OVER... Le joueur \"+str(winner)+\" a gagné.\")\n",
    "        \n",
    "    def endOfTurn(self, winner):\n",
    "        print(\"--- Fin du tour ---\")\n",
    "        print(\"Le joueur \"+str(winner)+\" remporte le pli\")"
   ]
  },
  {
   "cell_type": "markdown",
   "id": "342c47ef",
   "metadata": {},
   "source": [
    "### 4. Le jeu !\n",
    "\n",
    "Enfin, on code la classe correspondant au jeu lui même."
   ]
  },
  {
   "cell_type": "code",
   "execution_count": null,
   "id": "c58541d7",
   "metadata": {},
   "outputs": [],
   "source": [
    "class Game(object):\n",
    "    \n",
    "    NB_VALS = 13\n",
    "    \n",
    "    def __init__(self, p1, p2):\n",
    "        self.ui = UI()\n",
    "        self.player1 = p1\n",
    "        self.player2 = p2\n",
    "        \n",
    "    def turn(self):\n",
    "        # VOTRE CODE POUR GÉRER UN TOUR\n",
    "        # le joueur 1 joue une carte\n",
    "        # le joueur 2 joue une carte\n",
    "        # le gagnant est déterminé\n",
    "        # il ramasse les deux cartes \n",
    "        # puis il devient le joueur 1 (pour jouer en premier au prochain tour)\n",
    "        \n",
    "    def createDeck(self):\n",
    "        # Crée un deck de 52 cartes\n",
    "        \n",
    "    def deal(self):\n",
    "        # mélange puis distribue les cartes aux joueurs\n",
    "        \n",
    "    def gameOver(self):\n",
    "        # teste si l'un des joueurs n'a plus de cartes\n",
    "        \n",
    "    def play(self):\n",
    "        # crée le deck, le distribue puis joue des tours \n",
    "        # successifs tant que ce n'est pas game over"
   ]
  },
  {
   "cell_type": "markdown",
   "id": "076b6a56",
   "metadata": {},
   "source": [
    "### 5. Le test.\n",
    "\n",
    "On essaie tout ça..."
   ]
  },
  {
   "cell_type": "code",
   "execution_count": null,
   "id": "b5cc297f",
   "metadata": {},
   "outputs": [],
   "source": [
    "p1 = Human(\"Adam\")\n",
    "p2 = Computer(\"Ève\")\n",
    "g = Game(p1,p2)\n",
    "g.play()"
   ]
  },
  {
   "cell_type": "markdown",
   "id": "8c7bde5e",
   "metadata": {},
   "source": [
    "### 6. Un coup de polish ?\n",
    "\n",
    "On améliore tout ça. Peut-être que l'interface UI est plus appropriée pour communiquer avec les joueurs humain ? On pourrait proposer de recommencer une partie en fin de jeu..."
   ]
  },
  {
   "cell_type": "code",
   "execution_count": null,
   "id": "0f2faf50",
   "metadata": {},
   "outputs": [],
   "source": [
    "# À vous de jouer."
   ]
  }
 ],
 "metadata": {
  "kernelspec": {
   "display_name": "Python 3 (ipykernel)",
   "language": "python",
   "name": "python3"
  },
  "language_info": {
   "codemirror_mode": {
    "name": "ipython",
    "version": 3
   },
   "file_extension": ".py",
   "mimetype": "text/x-python",
   "name": "python",
   "nbconvert_exporter": "python",
   "pygments_lexer": "ipython3",
   "version": "3.11.2"
  }
 },
 "nbformat": 4,
 "nbformat_minor": 5
}
