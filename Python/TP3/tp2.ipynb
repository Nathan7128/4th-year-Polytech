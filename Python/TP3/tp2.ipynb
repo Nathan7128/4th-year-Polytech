{
 "cells": [
  {
   "cell_type": "markdown",
   "id": "98d86c59",
   "metadata": {},
   "source": [
    "# NetworkX : librairie pour manipuler et analyser les graphes\n",
    "\n",
    "On va découvrir NetworkX qui considère les graphes comme des objets. La documentation est [ici](https://networkx.org/documentation/stable/reference/index.html).\n",
    "\n",
    "On commence par charger la librairie NetworkX."
   ]
  },
  {
   "cell_type": "code",
   "execution_count": 118,
   "id": "0ec2e92c",
   "metadata": {},
   "outputs": [],
   "source": [
    "import networkx as nx"
   ]
  },
  {
   "cell_type": "markdown",
   "id": "be3506e6",
   "metadata": {},
   "source": [
    "## 1. Intro à NetworkX\n",
    "\n",
    "### 1.1 Créer un graphe vide.\n",
    "\n",
    "On peut maintenant créer un graphe vide via le contructeur ```Graph()```"
   ]
  },
  {
   "cell_type": "code",
   "execution_count": 119,
   "id": "920132fd",
   "metadata": {},
   "outputs": [],
   "source": [
    "G = nx.Graph()"
   ]
  },
  {
   "cell_type": "code",
   "execution_count": 120,
   "id": "69699e9c",
   "metadata": {},
   "outputs": [
    {
     "data": {
      "text/plain": [
       "<networkx.classes.graph.Graph at 0x1fe39f451c0>"
      ]
     },
     "execution_count": 120,
     "metadata": {},
     "output_type": "execute_result"
    }
   ],
   "source": [
    "G"
   ]
  },
  {
   "cell_type": "code",
   "execution_count": 121,
   "id": "ba8381af",
   "metadata": {},
   "outputs": [
    {
     "name": "stdout",
     "output_type": "stream",
     "text": [
      "Graph with 0 nodes and 0 edges\n"
     ]
    }
   ],
   "source": [
    "print(G)"
   ]
  },
  {
   "cell_type": "code",
   "execution_count": 122,
   "id": "c5af2aba",
   "metadata": {},
   "outputs": [
    {
     "data": {
      "text/plain": [
       "NodeView(())"
      ]
     },
     "execution_count": 122,
     "metadata": {},
     "output_type": "execute_result"
    }
   ],
   "source": [
    "G.nodes()"
   ]
  },
  {
   "cell_type": "markdown",
   "id": "2da13f43",
   "metadata": {},
   "source": [
    "### 1.2 Sommets\n",
    "\n",
    "On peut ajouter des sommets un par un via ```add_node(v)```"
   ]
  },
  {
   "cell_type": "code",
   "execution_count": 123,
   "id": "a6b46fa3",
   "metadata": {},
   "outputs": [
    {
     "data": {
      "text/plain": [
       "NodeView((1,))"
      ]
     },
     "execution_count": 123,
     "metadata": {},
     "output_type": "execute_result"
    }
   ],
   "source": [
    "G.add_node(1)\n",
    "G.nodes()"
   ]
  },
  {
   "cell_type": "markdown",
   "id": "4cb709f7",
   "metadata": {},
   "source": [
    "On peut aussi ajouter plusieurs sommets à la fois via des listes."
   ]
  },
  {
   "cell_type": "code",
   "execution_count": 124,
   "id": "0a2ea98d",
   "metadata": {},
   "outputs": [
    {
     "data": {
      "text/plain": [
       "NodeView((1, 2, 3))"
      ]
     },
     "execution_count": 124,
     "metadata": {},
     "output_type": "execute_result"
    }
   ],
   "source": [
    "G.add_nodes_from([2,3])\n",
    "G.nodes()"
   ]
  },
  {
   "cell_type": "markdown",
   "id": "c8a3bbf9",
   "metadata": {},
   "source": [
    "On peut enfin ajouter des sommets ainsi que des attributs aux sommets via une des listes de couples ```(sommet, dictionnaire d'attributs)```"
   ]
  },
  {
   "cell_type": "code",
   "execution_count": 125,
   "id": "f346ffaa",
   "metadata": {},
   "outputs": [
    {
     "data": {
      "text/plain": [
       "NodeView((1, 2, 3, 4, 5))"
      ]
     },
     "execution_count": 125,
     "metadata": {},
     "output_type": "execute_result"
    }
   ],
   "source": [
    "G.add_nodes_from([(4,{\"color\":\"red\"}), (5,{\"color\":\"green\", \"weight\":12})])\n",
    "G.nodes()"
   ]
  },
  {
   "cell_type": "markdown",
   "id": "b89b89fa",
   "metadata": {},
   "source": [
    "Si on veut accéder aux attributs des sommets on utilise ```G.nodes.data```"
   ]
  },
  {
   "cell_type": "code",
   "execution_count": 126,
   "id": "f828d6a8",
   "metadata": {},
   "outputs": [
    {
     "data": {
      "text/plain": [
       "NodeDataView({1: {}, 2: {}, 3: {}, 4: {'color': 'red'}, 5: {'color': 'green', 'weight': 12}})"
      ]
     },
     "execution_count": 126,
     "metadata": {},
     "output_type": "execute_result"
    }
   ],
   "source": [
    "G.nodes.data()"
   ]
  },
  {
   "cell_type": "markdown",
   "id": "663ea16a",
   "metadata": {},
   "source": [
    "Les sommets d'un graphe peuvent être ajoutés aux sommets d'un autre."
   ]
  },
  {
   "cell_type": "code",
   "execution_count": 127,
   "id": "39465be2",
   "metadata": {},
   "outputs": [],
   "source": [
    "H = nx.path_graph(10)\n",
    "G.add_nodes_from(H.nodes())"
   ]
  },
  {
   "cell_type": "markdown",
   "id": "e6f33e58",
   "metadata": {},
   "source": [
    "Attention, si les sommets de ```G``` ont le même nom que les sommets de ```H```. On fait alors l'union.\n",
    "\n",
    "Comme les sommets peuvent être n'importe quoi, on peut aussi ajouter ```H``` lui-même comme un sommet de ```G```."
   ]
  },
  {
   "cell_type": "code",
   "execution_count": 128,
   "id": "1659b105",
   "metadata": {},
   "outputs": [],
   "source": [
    "G.add_node(H)"
   ]
  },
  {
   "cell_type": "code",
   "execution_count": 129,
   "id": "360f9db5",
   "metadata": {},
   "outputs": [
    {
     "data": {
      "text/plain": [
       "NodeView((1, 2, 3, 4, 5, 0, 6, 7, 8, 9, <networkx.classes.graph.Graph object at 0x000001FF000CD5B0>))"
      ]
     },
     "execution_count": 129,
     "metadata": {},
     "output_type": "execute_result"
    }
   ],
   "source": [
    "G.nodes()"
   ]
  },
  {
   "cell_type": "code",
   "execution_count": 130,
   "id": "7203a9ce",
   "metadata": {},
   "outputs": [
    {
     "data": {
      "text/plain": [
       "NodeDataView({1: {}, 2: {}, 3: {}, 4: {'color': 'red'}, 5: {'color': 'green', 'weight': 12}, 0: {}, 6: {}, 7: {}, 8: {}, 9: {}, <networkx.classes.graph.Graph object at 0x000001FF000CD5B0>: {}})"
      ]
     },
     "execution_count": 130,
     "metadata": {},
     "output_type": "execute_result"
    }
   ],
   "source": [
    "G.nodes.data()"
   ]
  },
  {
   "cell_type": "markdown",
   "id": "54bae070",
   "metadata": {},
   "source": [
    "### 1.3 Arêtes\n",
    "\n",
    "On peut aussi créer un graphe en ajoutant des arêtes directement."
   ]
  },
  {
   "cell_type": "code",
   "execution_count": 131,
   "id": "43538b9c",
   "metadata": {},
   "outputs": [],
   "source": [
    "G = nx.Graph()\n",
    "G.add_edge(1,2)"
   ]
  },
  {
   "cell_type": "code",
   "execution_count": 132,
   "id": "319d5f54",
   "metadata": {},
   "outputs": [
    {
     "data": {
      "text/plain": [
       "EdgeView([(1, 2)])"
      ]
     },
     "execution_count": 132,
     "metadata": {},
     "output_type": "execute_result"
    }
   ],
   "source": [
    "G.edges()"
   ]
  },
  {
   "cell_type": "markdown",
   "id": "52b77342",
   "metadata": {},
   "source": [
    "Par liste d'arêtes..."
   ]
  },
  {
   "cell_type": "code",
   "execution_count": 133,
   "id": "e4bf8343",
   "metadata": {},
   "outputs": [],
   "source": [
    "G.add_edges_from([(2,3),('a',8)])"
   ]
  },
  {
   "cell_type": "code",
   "execution_count": 134,
   "id": "298a3e86",
   "metadata": {},
   "outputs": [
    {
     "data": {
      "text/plain": [
       "NodeView((1, 2, 3, 'a', 8))"
      ]
     },
     "execution_count": 134,
     "metadata": {},
     "output_type": "execute_result"
    }
   ],
   "source": [
    "G.nodes()"
   ]
  },
  {
   "cell_type": "markdown",
   "id": "c6055ead",
   "metadata": {},
   "source": [
    "Une arête est un couple ou un triplet (auquel cas, le troisième élément du triplet est un dictionnaire d'attibuts associés à l'arête)"
   ]
  },
  {
   "cell_type": "code",
   "execution_count": 135,
   "id": "8a9c50c5",
   "metadata": {},
   "outputs": [],
   "source": [
    "G.add_edges_from([(2, 3, {'weight': 3.1415})])"
   ]
  },
  {
   "cell_type": "markdown",
   "id": "e0f86ec0",
   "metadata": {},
   "source": [
    "Pour \"nettoyer\" un graphe, on invoque ```G.clear()```. Alors ```G``` ne contient plus ni sommet ni arête."
   ]
  },
  {
   "cell_type": "code",
   "execution_count": 136,
   "id": "5f766278",
   "metadata": {},
   "outputs": [
    {
     "name": "stdout",
     "output_type": "stream",
     "text": [
      "Graph with 0 nodes and 0 edges\n"
     ]
    }
   ],
   "source": [
    "G.clear()\n",
    "print(G)"
   ]
  },
  {
   "cell_type": "markdown",
   "id": "0f7d8998",
   "metadata": {},
   "source": [
    "### 1.4 Observer les caractéristiques d'un graphe\n",
    "\n",
    "On a accès à quatre propriétés d'un graphe pour l'étudier : ```G.nodes```, ```G.edges```, ```G.degree``` et ```G.adj```."
   ]
  },
  {
   "cell_type": "code",
   "execution_count": 137,
   "id": "febc8da8",
   "metadata": {},
   "outputs": [],
   "source": [
    "G = nx.cycle_graph(7)"
   ]
  },
  {
   "cell_type": "code",
   "execution_count": 138,
   "id": "5eed313f",
   "metadata": {},
   "outputs": [
    {
     "data": {
      "text/plain": [
       "NodeView((0, 1, 2, 3, 4, 5, 6))"
      ]
     },
     "execution_count": 138,
     "metadata": {},
     "output_type": "execute_result"
    }
   ],
   "source": [
    "G.nodes"
   ]
  },
  {
   "cell_type": "code",
   "execution_count": 139,
   "id": "3391014e",
   "metadata": {},
   "outputs": [
    {
     "data": {
      "text/plain": [
       "EdgeView([(0, 1), (0, 6), (1, 2), (2, 3), (3, 4), (4, 5), (5, 6)])"
      ]
     },
     "execution_count": 139,
     "metadata": {},
     "output_type": "execute_result"
    }
   ],
   "source": [
    "G.edges"
   ]
  },
  {
   "cell_type": "code",
   "execution_count": 140,
   "id": "733cc75d",
   "metadata": {},
   "outputs": [
    {
     "data": {
      "text/plain": [
       "DegreeView({0: 2, 1: 2, 2: 2, 3: 2, 4: 2, 5: 2, 6: 2})"
      ]
     },
     "execution_count": 140,
     "metadata": {},
     "output_type": "execute_result"
    }
   ],
   "source": [
    "G.degree"
   ]
  },
  {
   "cell_type": "code",
   "execution_count": 141,
   "id": "d51fe148",
   "metadata": {},
   "outputs": [
    {
     "data": {
      "text/plain": [
       "AdjacencyView({0: {1: {}, 6: {}}, 1: {0: {}, 2: {}}, 2: {1: {}, 3: {}}, 3: {2: {}, 4: {}}, 4: {3: {}, 5: {}}, 5: {4: {}, 6: {}}, 6: {5: {}, 0: {}}})"
      ]
     },
     "execution_count": 141,
     "metadata": {},
     "output_type": "execute_result"
    }
   ],
   "source": [
    "G.adj"
   ]
  },
  {
   "cell_type": "markdown",
   "id": "3ca49329",
   "metadata": {},
   "source": [
    "On peut les consulter simplement, les transformer en liste, set, dict ou tuples."
   ]
  },
  {
   "cell_type": "code",
   "execution_count": 142,
   "id": "313bf5d2",
   "metadata": {},
   "outputs": [
    {
     "data": {
      "text/plain": [
       "[0, 1, 2, 3, 4, 5, 6]"
      ]
     },
     "execution_count": 142,
     "metadata": {},
     "output_type": "execute_result"
    }
   ],
   "source": [
    "list(G.nodes)"
   ]
  },
  {
   "cell_type": "code",
   "execution_count": 143,
   "id": "da29f002",
   "metadata": {},
   "outputs": [
    {
     "data": {
      "text/plain": [
       "{(0, 1), (0, 6), (1, 2), (2, 3), (3, 4), (4, 5), (5, 6)}"
      ]
     },
     "execution_count": 143,
     "metadata": {},
     "output_type": "execute_result"
    }
   ],
   "source": [
    "set(G.edges)"
   ]
  },
  {
   "cell_type": "code",
   "execution_count": 144,
   "id": "7012eaa3",
   "metadata": {},
   "outputs": [
    {
     "data": {
      "text/plain": [
       "{0: 2, 1: 2, 2: 2, 3: 2, 4: 2, 5: 2, 6: 2}"
      ]
     },
     "execution_count": 144,
     "metadata": {},
     "output_type": "execute_result"
    }
   ],
   "source": [
    "dict(G.degree)"
   ]
  },
  {
   "cell_type": "code",
   "execution_count": 145,
   "id": "c263e7d5",
   "metadata": {},
   "outputs": [
    {
     "data": {
      "text/plain": [
       "{0: AtlasView({1: {}, 6: {}}),\n",
       " 1: AtlasView({0: {}, 2: {}}),\n",
       " 2: AtlasView({1: {}, 3: {}}),\n",
       " 3: AtlasView({2: {}, 4: {}}),\n",
       " 4: AtlasView({3: {}, 5: {}}),\n",
       " 5: AtlasView({4: {}, 6: {}}),\n",
       " 6: AtlasView({5: {}, 0: {}})}"
      ]
     },
     "execution_count": 145,
     "metadata": {},
     "output_type": "execute_result"
    }
   ],
   "source": [
    "dict(G.adj)"
   ]
  },
  {
   "cell_type": "markdown",
   "id": "b0a5fff5",
   "metadata": {},
   "source": [
    "### 1.5 Lire un graphe\n",
    "\n",
    "NetworkX comprend plusieurs types de format de graphes qui peuvent être stockés dans des fichiers. Voir [ici](https://networkx.org/documentation/stable/reference/readwrite/index.html) pour les détails.\n",
    "\n",
    "### 1.6 Utiliser les constructeurs déjà dans NetworkX\n",
    "\n",
    "Les grandes familles de graphe sont facilement accessibles."
   ]
  },
  {
   "cell_type": "code",
   "execution_count": 146,
   "id": "16cdfbd6",
   "metadata": {},
   "outputs": [
    {
     "data": {
      "text/plain": [
       "(NodeView((0, 1, 2, 3, 4, 5, 6, 7, 8, 9)),\n",
       " EdgeView([(0, 1), (0, 4), (0, 5), (1, 2), (1, 6), (2, 3), (2, 7), (3, 4), (3, 8), (4, 9), (5, 7), (5, 8), (6, 8), (6, 9), (7, 9)]))"
      ]
     },
     "execution_count": 146,
     "metadata": {},
     "output_type": "execute_result"
    }
   ],
   "source": [
    "P = nx.petersen_graph()\n",
    "P.nodes(), P.edges"
   ]
  },
  {
   "cell_type": "code",
   "execution_count": 147,
   "id": "7b521e12",
   "metadata": {},
   "outputs": [
    {
     "data": {
      "text/plain": [
       "(NodeView((0, 1, 2, 3, 4, 5, 6, 7, 8, 9)),\n",
       " EdgeView([(0, 1), (0, 9), (1, 2), (2, 3), (3, 4), (4, 5), (5, 6), (6, 7), (7, 8), (8, 9)]))"
      ]
     },
     "execution_count": 147,
     "metadata": {},
     "output_type": "execute_result"
    }
   ],
   "source": [
    "C = nx.cycle_graph(10)\n",
    "C.nodes(), C.edges()"
   ]
  },
  {
   "cell_type": "code",
   "execution_count": 148,
   "id": "318008dd",
   "metadata": {},
   "outputs": [
    {
     "data": {
      "text/plain": [
       "EdgeView([(0, 1), (0, 4), (0, 5), (0, 6), (0, 7), (0, 8), (0, 10), (0, 11), (0, 12), (0, 13), (0, 14), (0, 15), (0, 16), (0, 17), (0, 18), (0, 19), (1, 2), (1, 4), (1, 5), (1, 6), (1, 8), (1, 9), (1, 12), (1, 13), (1, 14), (1, 15), (1, 16), (1, 18), (2, 3), (2, 4), (2, 5), (2, 6), (2, 7), (2, 11), (2, 12), (2, 15), (2, 16), (2, 17), (2, 18), (3, 4), (3, 5), (3, 7), (3, 8), (3, 9), (3, 10), (3, 11), (3, 13), (3, 14), (3, 15), (3, 17), (3, 18), (3, 19), (4, 5), (4, 6), (4, 9), (4, 10), (4, 11), (4, 12), (4, 13), (4, 14), (4, 16), (4, 17), (4, 18), (5, 7), (5, 11), (5, 15), (5, 16), (5, 18), (6, 8), (6, 9), (6, 11), (6, 12), (6, 13), (6, 14), (6, 16), (6, 17), (6, 18), (6, 19), (7, 9), (7, 10), (7, 11), (7, 12), (7, 13), (7, 14), (7, 15), (7, 17), (8, 11), (8, 15), (8, 16), (8, 18), (8, 19), (9, 10), (9, 12), (9, 13), (9, 14), (9, 15), (9, 17), (9, 18), (10, 11), (10, 12), (10, 13), (10, 14), (10, 15), (10, 17), (10, 18), (11, 12), (11, 13), (11, 15), (11, 16), (11, 17), (11, 18), (11, 19), (12, 13), (12, 14), (12, 15), (12, 16), (12, 18), (12, 19), (13, 15), (13, 17), (13, 18), (13, 19), (14, 16), (14, 17), (14, 18), (15, 16), (15, 17), (15, 18), (15, 19), (16, 19), (17, 18), (18, 19)])"
      ]
     },
     "execution_count": 148,
     "metadata": {},
     "output_type": "execute_result"
    }
   ],
   "source": [
    "G = nx.erdos_renyi_graph(20,0.7)\n",
    "G.edges()"
   ]
  },
  {
   "cell_type": "markdown",
   "id": "b9b71a98",
   "metadata": {},
   "source": [
    "### 1.7 Analyse du graphe\n",
    "\n",
    "Observez le comportement des fonctions suivantes."
   ]
  },
  {
   "cell_type": "code",
   "execution_count": 149,
   "id": "6032e09a",
   "metadata": {},
   "outputs": [],
   "source": [
    "G = nx.Graph()\n",
    "G.add_edges_from([(1,2), (1,3), (2,3), (4,5)])"
   ]
  },
  {
   "cell_type": "code",
   "execution_count": 150,
   "id": "521364b1",
   "metadata": {},
   "outputs": [
    {
     "data": {
      "text/plain": [
       "[{1, 2, 3}, {4, 5}]"
      ]
     },
     "execution_count": 150,
     "metadata": {},
     "output_type": "execute_result"
    }
   ],
   "source": [
    "list(nx.connected_components(G))"
   ]
  },
  {
   "cell_type": "code",
   "execution_count": 151,
   "id": "d8458b1a",
   "metadata": {},
   "outputs": [
    {
     "data": {
      "text/plain": [
       "[1, 1, 2, 2, 2]"
      ]
     },
     "execution_count": 151,
     "metadata": {},
     "output_type": "execute_result"
    }
   ],
   "source": [
    "sorted([d for n,d in G.degree])"
   ]
  },
  {
   "cell_type": "code",
   "execution_count": 152,
   "id": "762d8660",
   "metadata": {},
   "outputs": [
    {
     "data": {
      "text/plain": [
       "{1: 1.0, 2: 1.0, 3: 1.0, 4: 0, 5: 0}"
      ]
     },
     "execution_count": 152,
     "metadata": {},
     "output_type": "execute_result"
    }
   ],
   "source": [
    "nx.clustering(G)"
   ]
  },
  {
   "cell_type": "markdown",
   "id": "0480aff3",
   "metadata": {},
   "source": [
    "### 1.8 Représentation des graphes\n",
    "\n",
    "Même si NetworkX n'est pas destiné à la représentation des graphes (voir plutôt GraphViz ou Gephi ou autres logiciels). Il est possible de représenter les graphes manipulés."
   ]
  },
  {
   "cell_type": "code",
   "execution_count": 153,
   "id": "08e0e24c",
   "metadata": {},
   "outputs": [
    {
     "data": {
      "image/png": "[encoded data removed]",
      "text/plain": [
       "<Figure size 640x480 with 1 Axes>"
      ]
     },
     "metadata": {},
     "output_type": "display_data"
    }
   ],
   "source": [
    "G = nx.cycle_graph(9)\n",
    "nx.draw_networkx(G)"
   ]
  },
  {
   "cell_type": "code",
   "execution_count": 154,
   "id": "485aeaf3",
   "metadata": {},
   "outputs": [
    {
     "data": {
      "image/png": "[encoded data removed]",
      "text/plain": [
       "<Figure size 640x480 with 1 Axes>"
      ]
     },
     "metadata": {},
     "output_type": "display_data"
    }
   ],
   "source": [
    "G = nx.karate_club_graph()\n",
    "nx.draw_networkx(G)"
   ]
  },
  {
   "cell_type": "code",
   "execution_count": 155,
   "id": "1c500042",
   "metadata": {},
   "outputs": [
    {
     "data": {
      "image/png": "[encoded data removed]",
      "text/plain": [
       "<Figure size 640x480 with 2 Axes>"
      ]
     },
     "metadata": {},
     "output_type": "display_data"
    }
   ],
   "source": [
    "import matplotlib.pyplot as plt\n",
    "\n",
    "G = nx.petersen_graph()\n",
    "subax1 = plt.subplot(121)\n",
    "nx.draw(G, with_labels=True, font_weight='bold')\n",
    "subax2 = plt.subplot(122)\n",
    "nx.draw_shell(G, nlist=[range(5, 10), range(5)], with_labels=True, font_weight='bold')"
   ]
  },
  {
   "cell_type": "markdown",
   "id": "3e88bdf7",
   "metadata": {},
   "source": [
    "## 2. Cinéphilie\n",
    "\n",
    "Nous allons étudier le graphe des acteurs d'Hollywood. Regardez à quoi ressemble le fichier ```movies.txt```. Chaque ligne est le titre d'un film suivi des acteurs qui y jouent. Chargez le graphe à l'aide de la commande ```nx.read_adjlist(...,...)```."
   ]
  },
  {
   "cell_type": "code",
   "execution_count": 156,
   "id": "2f748bbe",
   "metadata": {},
   "outputs": [],
   "source": [
    "M = nx.read_adjlist(\"movies.txt\", delimiter = \"/\")"
   ]
  },
  {
   "cell_type": "code",
   "execution_count": 157,
   "id": "0b997287",
   "metadata": {},
   "outputs": [
    {
     "data": {
      "text/plain": [
       "(119394, 202875)"
      ]
     },
     "execution_count": 157,
     "metadata": {},
     "output_type": "execute_result"
    }
   ],
   "source": [
    "len(M.nodes), len(M.edges)"
   ]
  },
  {
   "cell_type": "markdown",
   "id": "27df432f",
   "metadata": {},
   "source": [
    "Les grands graphes de la vraie vie sont souvent remplis de petites composantes connexes et d'une unique géante. On veut garder la géante."
   ]
  },
  {
   "cell_type": "code",
   "execution_count": 158,
   "id": "8a4e2b3c",
   "metadata": {},
   "outputs": [
    {
     "data": {
      "text/plain": [
       "(118738, 202249)"
      ]
     },
     "execution_count": 158,
     "metadata": {},
     "output_type": "execute_result"
    }
   ],
   "source": [
    "largest_cc = max(nx.connected_components(M), key=len)\n",
    "Mlarge = M.subgraph(largest_cc)\n",
    "Mlarge.number_of_nodes(),Mlarge.number_of_edges()"
   ]
  },
  {
   "cell_type": "markdown",
   "id": "d83dd8c5",
   "metadata": {},
   "source": [
    "Le [Bacon Number](https://en.wikipedia.org/wiki/Six_Degrees_of_Kevin_Bacon#Bacon_numbers) d'un acteur (inspiré par le [Erdős number](https://en.wikipedia.org/wiki/Erd%C5%91s_number) pour les mathématiciens) est défini comme suit :\n",
    "* Kevin Bacon a le nombre 0,\n",
    "* Étant donné un acteur, son Bacon number est le plus petit Bacon number de ses co-acteurs augmenté de 1.\n",
    "\n",
    "Kevin Bacon a été choisi en raison de sa filmographie conséquente. Il fait effectivement partie de notre composante géante du graphe de tournages.\n",
    "\n",
    "### À vous de jouer \n",
    "\n",
    "_Écrire une fonction qui prend un nom d'acteur en argument et renvoie son Bacon number._"
   ]
  },
  {
   "cell_type": "code",
   "execution_count": 159,
   "id": "cad1390a",
   "metadata": {},
   "outputs": [],
   "source": [
    "def bacon_number(actor) :\n",
    "    return int(nx.shortest_path_length(Mlarge, \"Bacon, Kevin\", actor)/2)"
   ]
  },
  {
   "cell_type": "code",
   "execution_count": 160,
   "id": "84a706bf",
   "metadata": {},
   "outputs": [
    {
     "data": {
      "text/plain": [
       "3"
      ]
     },
     "execution_count": 160,
     "metadata": {},
     "output_type": "execute_result"
    }
   ],
   "source": [
    "bacon_number(\"Perrin-Hunter, Nathan\")"
   ]
  },
  {
   "cell_type": "markdown",
   "id": "d012f503",
   "metadata": {},
   "source": [
    "On se fiche un peu des films en commun. \n",
    "\n",
    "_Comment restreindre le graphe uniquement aux acteurs (une arête si deux acteurs on joué dans un film en commun)?_"
   ]
  },
  {
   "cell_type": "code",
   "execution_count": 161,
   "id": "222752c9",
   "metadata": {},
   "outputs": [],
   "source": [
    "films, actor = nx.algorithms.bipartite.basic.sets(Mlarge)\n",
    "M2 = nx.power(Mlarge, 2)"
   ]
  },
  {
   "cell_type": "code",
   "execution_count": 162,
   "id": "24c57b82",
   "metadata": {},
   "outputs": [],
   "source": [
    "Act = M2.subgraph(list(actor))"
   ]
  },
  {
   "cell_type": "markdown",
   "id": "e7118431",
   "metadata": {},
   "source": [
    "_Rédiger une fonction alternative qui renvoie le Bacon number en explorant ce nouveau graphe._"
   ]
  },
  {
   "cell_type": "code",
   "execution_count": 163,
   "id": "17c0bbbc",
   "metadata": {},
   "outputs": [],
   "source": [
    "bacon_dist = nx.shortest_path_length(Act, \"Bacon, Kevin\")"
   ]
  },
  {
   "cell_type": "code",
   "execution_count": 164,
   "id": "cbae4ff3",
   "metadata": {},
   "outputs": [
    {
     "data": {
      "text/plain": [
       "{'Bacon, Kevin': 0,\n",
       " 'Howard, Rance': 1,\n",
       " 'Hanks, Tom': 1,\n",
       " 'Saiontz, Donald': 1,\n",
       " 'Aquino, John (I)': 1,\n",
       " 'Harris, Baxter': 1,\n",
       " 'Rosenberg, Arthur': 1,\n",
       " 'Lucking, William': 1,\n",
       " 'Tucker, Jonathan (I)': 1,\n",
       " 'Ruffalo, Mark': 1,\n",
       " 'DeBonis, Marcia': 1,\n",
       " 'Willis, Susan': 1,\n",
       " 'Dean, Loren': 1,\n",
       " 'Dunn, Kevin (I)': 1,\n",
       " 'Margolis, Mark': 1,\n",
       " 'Herman, Paul (I)': 1,\n",
       " 'De Niro, Robert': 1,\n",
       " 'Grier, David Alan': 1,\n",
       " 'Theron, Charlize': 1,\n",
       " 'Def, Mos': 1,\n",
       " 'McRobbie, Peter': 1,\n",
       " 'Stern, Jenna': 1,\n",
       " 'Belushi, John': 1,\n",
       " 'McKean, Michael (I)': 1,\n",
       " 'Rourke, Mickey': 1,\n",
       " 'Candy, John': 1,\n",
       " 'Aykroyd, Dan': 1,\n",
       " 'Matheson, Tim (I)': 1,\n",
       " 'Marshall, Penny (I)': 1,\n",
       " 'Macaulay, Marc': 1,\n",
       " 'Barry, Thom': 1,\n",
       " 'Mohr, Jay': 1,\n",
       " 'Love, Courtney': 1,\n",
       " 'Lithgow, John': 1,\n",
       " 'Penn, Sean (I)': 1,\n",
       " 'Chapman, Kevin (I)': 1,\n",
       " \"O'Neal, Patrice\": 1,\n",
       " 'Perkins, Elizabeth (I)': 1,\n",
       " 'Guttenberg, Steve': 1,\n",
       " 'Danson, Ted': 1,\n",
       " 'Marta, Lynne': 1,\n",
       " 'Wong, Victor (III)': 1,\n",
       " 'Slade, Max Elliott': 1,\n",
       " 'Pollak, Kevin': 1,\n",
       " 'Costner, Kevin': 1,\n",
       " 'Slater, Christian': 1,\n",
       " 'Anderson, Stanley': 1,\n",
       " 'Dodds Frank, Marilyn': 1,\n",
       " 'Keane, James (I)': 1,\n",
       " 'Rose, Margot': 1,\n",
       " 'Strus, Lusia': 1,\n",
       " 'Reynolds, Michael J.': 1,\n",
       " 'MacVittie, Bruce': 1,\n",
       " 'Nascarella, Arthur J.': 1,\n",
       " 'Alexander, Erika': 1,\n",
       " 'Campbell, Neve': 1,\n",
       " 'von Huene, Walter': 1,\n",
       " 'Rooker, Michael': 1,\n",
       " 'Hules, Endre': 1,\n",
       " 'Louiso, Todd': 1,\n",
       " 'Pesci, Joe': 1,\n",
       " 'Cannon, Dyan': 1,\n",
       " 'Shannon, Michael (V)': 1,\n",
       " 'Byrd, Eugene': 1,\n",
       " 'Bratt, Benjamin (I)': 1,\n",
       " 'Ward, Fred (I)': 1,\n",
       " 'Moore, Demi': 1,\n",
       " 'Nicholson, Jack': 1,\n",
       " 'Davis, Hope (I)': 1,\n",
       " 'Ross, Chelcie': 1,\n",
       " 'Milanovich, Tom': 1,\n",
       " 'Kosala, Joseph F.': 1,\n",
       " 'Nixon, Richard': 1,\n",
       " 'Stone, Sharon (I)': 1,\n",
       " 'Bartsch, Ted': 1,\n",
       " 'Harris, Ed (I)': 1,\n",
       " 'Linney, Laura': 1,\n",
       " 'Duffy, Thomas F.': 1,\n",
       " 'Nelson, Adam (I)': 1,\n",
       " 'Scott, Kimberly (I)': 1,\n",
       " 'Chalk, Gary': 1,\n",
       " 'Martin, Pamela (I)': 1,\n",
       " 'Corone, Antoni': 1,\n",
       " 'Evans, Troy (I)': 1,\n",
       " 'Peace, Margo': 1,\n",
       " 'Gunton, Bob': 1,\n",
       " 'Leong, Al': 1,\n",
       " 'Tobolowsky, Stephen': 1,\n",
       " 'Lenehan, Nancy': 1,\n",
       " 'Streep, Meryl': 1,\n",
       " 'Holihan, Ryan': 1,\n",
       " 'Lane, Nathan': 1,\n",
       " 'Ellis, Chris (I)': 1,\n",
       " 'Broderick, Matthew (I)': 1,\n",
       " 'Rosin, James': 1,\n",
       " 'Ryan, Meg (I)': 1,\n",
       " \"D'Onofrio, Vincent (I)\": 1,\n",
       " 'Davidovich, Lolita': 1,\n",
       " 'Shue, Elisabeth': 1,\n",
       " 'Ashton, John (I)': 1,\n",
       " 'Barkin, Ellen': 1,\n",
       " 'Bowe, David': 1,\n",
       " 'Baldwin, Alec': 1,\n",
       " 'Douglas, Illeana': 1,\n",
       " 'Grodénchik, Max': 1,\n",
       " 'Rankin, Steve': 1,\n",
       " 'Spacek, Sissy': 1,\n",
       " 'Pinchot, Bronson': 1,\n",
       " 'Bloom, Verna': 1,\n",
       " 'Harrelson, Woody': 1,\n",
       " 'Penn, Chris (I)': 1,\n",
       " 'Cajano, Pasquale': 1,\n",
       " 'Fowler, Clement': 1,\n",
       " 'David, Keith (I)': 1,\n",
       " 'Muniz, Frankie': 1,\n",
       " 'Grover, Deborah': 1,\n",
       " 'Berkeley, Xander': 1,\n",
       " 'Preston, J.A.': 1,\n",
       " 'Oldman, Gary': 1,\n",
       " 'Macy, William H.': 1,\n",
       " 'Crawford, Thomas (I)': 1,\n",
       " 'Morshower, Glenn': 1,\n",
       " 'Hurst, Michelle': 1,\n",
       " 'Hays, Robert (I)': 1,\n",
       " 'McNamara, Pat (I)': 1,\n",
       " 'Vernon, John (I)': 1,\n",
       " 'Bodison, Wolfgang': 1,\n",
       " 'Fishburne, Laurence': 1,\n",
       " 'Patric, Jason': 1,\n",
       " 'Davies, John S.': 1,\n",
       " 'Dillon, Matt (I)': 1,\n",
       " 'Sinise, Gary': 1,\n",
       " 'Wilson, Luke (I)': 1,\n",
       " 'Macintosh, Laird': 1,\n",
       " 'Paolo, Connor': 1,\n",
       " 'Frye, Angela': 1,\n",
       " 'Smith Jr., Eddie Bo': 1,\n",
       " 'De Paul, Vincent (I)': 1,\n",
       " 'Cray, Ed (I)': 1,\n",
       " 'McGill, Bruce': 1,\n",
       " 'Stolte, Christian': 1,\n",
       " 'Mitra, Rhona': 1,\n",
       " 'Taylor, Holland': 1,\n",
       " 'Dern, Laura': 1,\n",
       " 'James, Jessica (I)': 1,\n",
       " 'Gilborn, Steven': 1,\n",
       " 'Woodruff Jr., Tom': 1,\n",
       " 'Dourif, Brad': 1,\n",
       " 'Paxton, Bill': 1,\n",
       " 'Reiser, Paul': 1,\n",
       " 'Fields, Christopher John': 1,\n",
       " 'DeLorenzo, Michael': 1,\n",
       " 'Martin, Steve (I)': 1,\n",
       " 'Cronkite, Walter': 1,\n",
       " 'Hoffman, Dustin': 1,\n",
       " 'Herd, Richard (I)': 1,\n",
       " 'Nixon, Pat': 1,\n",
       " 'Mouton, Benjamin': 1,\n",
       " 'Cruise, Tom': 1,\n",
       " 'Crudup, Billy': 1,\n",
       " 'Del Sherman, Barry': 1,\n",
       " 'Clemenson, Christian': 1,\n",
       " 'Baker, Dylan (I)': 1,\n",
       " 'Sanders, Jay O.': 1,\n",
       " 'Aniston, Jennifer': 1,\n",
       " 'Larroquette, John': 1,\n",
       " 'Dye, Dale': 1,\n",
       " 'Hulce, Tom': 1,\n",
       " 'Loftin, Lennie': 1,\n",
       " 'McClure, Marc (I)': 1,\n",
       " 'Hankin, Larry': 1,\n",
       " 'Nakahara, Kellye': 1,\n",
       " 'Roberts, Julia (I)': 1,\n",
       " 'Suvari, Mena': 1,\n",
       " 'Harden, Marcia Gay': 1,\n",
       " 'Bruce, Carol': 1,\n",
       " 'Spano, Joe (I)': 1,\n",
       " 'Quinlan, Kathleen': 1,\n",
       " 'Sutherland, Donald (I)': 1,\n",
       " 'Cox, Darryl': 1,\n",
       " 'Caan, Scott': 1,\n",
       " 'Sheen, Martin': 1,\n",
       " 'Gress, Googy': 1,\n",
       " 'Cavestani, Frank': 1,\n",
       " 'Saks, Matthew': 1,\n",
       " 'Senzy, Arthur': 1,\n",
       " 'Jarret, Gabriel': 1,\n",
       " 'Malina, Joshua': 1,\n",
       " 'Sorkin, Aaron': 1,\n",
       " 'Winchester, Maud': 1,\n",
       " 'Finnegan, John (I)': 1,\n",
       " 'Irving, Amy': 1,\n",
       " 'Paton, Angela': 1,\n",
       " 'Milian, Tomas': 1,\n",
       " 'Hounsou, Djimon': 1,\n",
       " 'Borgman, Eric Bruno': 1,\n",
       " 'Maloney, Peter (I)': 1,\n",
       " 'Komenich, Rich': 1,\n",
       " 'Anthony, Leonor': 1,\n",
       " 'LaPaglia, Anthony': 1,\n",
       " 'Vella, Vinny': 1,\n",
       " 'Harkins, Michael': 1,\n",
       " 'Eliot, Drew': 1,\n",
       " 'Robbins, Tim (I)': 1,\n",
       " 'Bergeron, Loys T.': 1,\n",
       " 'Vince, Pruitt Taylor': 1,\n",
       " 'Simpkins, Joseph Quinn': 1,\n",
       " 'Chanock, Bundy': 1,\n",
       " 'Genaro, Tony': 1,\n",
       " 'Reilly, John C. (I)': 1,\n",
       " 'Thigpen, Lynne': 1,\n",
       " 'Von Roehm, David': 1,\n",
       " 'Roehm Sr., David C.': 1,\n",
       " 'Daniel, Joshua (I)': 1,\n",
       " 'Miller, Chris (III)': 1,\n",
       " 'Farmer, Reginald': 1,\n",
       " 'Metcalf, Mark': 1,\n",
       " 'Elliott, Robert (II)': 1,\n",
       " 'Freeman, John (III)': 1,\n",
       " 'Bishop, Stephen (I)': 1,\n",
       " 'Robinson, Raymone': 1,\n",
       " 'Kenney, Douglas': 1,\n",
       " 'Dumas, Jebidiah R.': 1,\n",
       " 'Greenough, Rick': 1,\n",
       " 'Jessie, DeWayne': 1,\n",
       " 'Eby, Rick': 1,\n",
       " 'McCartin, Sean (I)': 1,\n",
       " 'Danova, Cesare': 1,\n",
       " 'Furst, Stephen': 1,\n",
       " 'Widdoes, James': 1,\n",
       " 'Daughton, James': 1,\n",
       " 'Riegert, Peter': 1,\n",
       " 'Simonds, Fred': 1,\n",
       " 'Bonnheim, Bruce': 1,\n",
       " 'Cray, Robert': 1,\n",
       " 'Holcomb, Sarah': 1,\n",
       " 'Vick, Helen': 1,\n",
       " 'Grooman, Stacy': 1,\n",
       " 'Jurgenson, Aseneth': 1,\n",
       " 'Denning, Katherine': 1,\n",
       " 'Lauris, Priscilla': 1,\n",
       " 'Smith, Martha': 1,\n",
       " 'Johnson, Sunny (II)': 1,\n",
       " 'Weller, Mary Louise': 1,\n",
       " 'Belushi-Pisano, Judith': 1,\n",
       " 'Allen, Karen (I)': 1,\n",
       " 'Baur, Lisa': 1,\n",
       " 'Roberts, Eliza': 1,\n",
       " 'Corman, Roger': 1,\n",
       " 'Lipschultz, Andrew': 1,\n",
       " 'Goodall, Taylor': 1,\n",
       " 'Goodall, Matthew Michael': 1,\n",
       " 'Christopher, Tory': 1,\n",
       " 'Yorke, Carl Gabriel': 1,\n",
       " 'Altman, Walter': 1,\n",
       " 'Mathews, John M.': 1,\n",
       " 'Ritz, James (I)': 1,\n",
       " 'Williams, Larry (XII)': 1,\n",
       " 'Bernie, Steve': 1,\n",
       " 'Vaughn, Ned': 1,\n",
       " 'Dullaghan, John (I)': 1,\n",
       " 'Jefferson Jr., Herb': 1,\n",
       " 'Armstrong, Neil (I)': 1,\n",
       " 'Newman, Mark D.': 1,\n",
       " 'Markinson, Brian': 1,\n",
       " 'Wheeler, John (I)': 1,\n",
       " 'Short, John': 1,\n",
       " 'Allen, Ivan (I)': 1,\n",
       " 'Mickler, Patrick': 1,\n",
       " 'Wheeler, Mark (I)': 1,\n",
       " 'Culp, Joseph': 1,\n",
       " 'Hughes, Miko (I)': 1,\n",
       " 'Ruge, Steve': 1,\n",
       " 'Duvall, Wayne': 1,\n",
       " 'Cullen, Brett': 1,\n",
       " 'West, Ted': 1,\n",
       " 'Hallowell, Todd (I)': 1,\n",
       " 'Bishop, John (I)': 1,\n",
       " 'Rudy, Reed': 1,\n",
       " 'Howard, Clint': 1,\n",
       " 'Bergman, Jules': 1,\n",
       " 'Bode, Ben': 1,\n",
       " 'Meskimen, Jim': 1,\n",
       " 'Kluger, Jeffrey': 1,\n",
       " 'Conley, Jack': 1,\n",
       " 'Connolly, Michael S.': 1,\n",
       " 'McKeel, Mark': 1,\n",
       " 'Wright, Bruce (I)': 1,\n",
       " 'Milder, Andy': 1,\n",
       " 'Blake, Geoffrey': 1,\n",
       " 'Wood, Tom (II)': 1,\n",
       " 'McKinnon, Ray': 1,\n",
       " 'Pope Paul VI': 1,\n",
       " 'Mantee, Paul': 1,\n",
       " 'Andrews, David (I)': 1,\n",
       " \"O'Brien, Austin\": 1,\n",
       " 'White, Kenneth (I)': 1,\n",
       " 'Bruno, Jon': 1,\n",
       " 'Marley, Ben': 1,\n",
       " 'Lovell, Jim': 1,\n",
       " 'Dickinson, Misty': 1,\n",
       " 'Donatt, Julie': 1,\n",
       " 'Marie, Louisa': 1,\n",
       " 'Little, Michele (I)': 1,\n",
       " 'Raya, Patty': 1,\n",
       " 'Schellhardt, Mary Kate': 1,\n",
       " 'Jenkins, Jane (I)': 1,\n",
       " 'Hanley, Maureen': 1,\n",
       " 'Lovell, Marilyn (II)': 1,\n",
       " 'Reiner, Tracy (I)': 1,\n",
       " 'Howard, Jean Speegle': 1,\n",
       " 'Howard, Cheryl (I)': 1,\n",
       " 'Howard, Bryce Dallas': 1,\n",
       " 'Matusek, Lee Anne': 1,\n",
       " 'Lloyd, Emily Ann': 1,\n",
       " 'Williams, Meadow': 1,\n",
       " 'Martin, Karen': 1,\n",
       " 'McBride, Jamie': 1,\n",
       " 'Levitas, Andrew': 1,\n",
       " 'Holmes, Jim (I)': 1,\n",
       " 'JJ, Little': 1,\n",
       " 'Rogers, Carlos A.': 1,\n",
       " 'Page, John Fitzgerald': 1,\n",
       " 'Valderrama, Wilmer': 1,\n",
       " 'Best, Otis': 1,\n",
       " 'Hardwick, Omari': 1,\n",
       " 'Williams, Brian (X)': 1,\n",
       " 'Wilson, Bryce': 1,\n",
       " 'Lane, Chris L.': 1,\n",
       " 'Bordere, Larissa': 1,\n",
       " 'Hayes, Laura (I)': 1,\n",
       " \"Sims, Car'ynn\": 1,\n",
       " 'Gardner, Stream': 1,\n",
       " 'Wickliffe, Mary': 1,\n",
       " 'Latifah, Queen': 1,\n",
       " 'Shaffer, Michelle': 1,\n",
       " 'Hurd, Paige': 1,\n",
       " 'Shepherd, Sherri': 1,\n",
       " 'Corinealdi, Emayatzy E.': 1,\n",
       " 'Lee, Kimora': 1,\n",
       " 'Givens, Adele': 1,\n",
       " 'Woodard, Alfre': 1,\n",
       " 'Garrett, Crystal S.': 1,\n",
       " 'MacDowell, Andie': 1,\n",
       " 'Gomez-Preston, Reagan': 1,\n",
       " 'Brooks, Golden': 1,\n",
       " 'Spencer, Octavia': 1,\n",
       " 'Wyler, Melissa': 1,\n",
       " 'Dahl, Tawny': 1,\n",
       " 'LisaRaye': 1,\n",
       " 'Covington, Suzanne': 1,\n",
       " 'Reese, Della': 1,\n",
       " 'Silverstone, Alicia': 1,\n",
       " 'Underwood, Sheryl': 1,\n",
       " 'Johnson, Ki Toy': 1,\n",
       " 'Drake, Joyful': 1,\n",
       " 'Knight Pulliam, Keshia': 1,\n",
       " 'Benchley, Nat': 1,\n",
       " 'Silverman, Howard': 1,\n",
       " 'Hennessy, Frank': 1,\n",
       " 'Cooperstock, Aryeh': 1,\n",
       " 'Levinson, Herb': 1,\n",
       " 'Bafaloukos, Ted': 1,\n",
       " 'Daly, Timothy (I)': 1,\n",
       " 'Tucker, Michael (I)': 1,\n",
       " 'Smith, Steve (III)': 1,\n",
       " 'Elliott, Bruce (I)': 1,\n",
       " 'Tabakin, Ralph': 1,\n",
       " 'Hunter, Marvin': 1,\n",
       " 'Case, Lee': 1,\n",
       " 'Kluger, Bruce': 1,\n",
       " 'Cohen, Barney (II)': 1,\n",
       " 'Kaplan, Alan (I)': 1,\n",
       " 'Costantini, Brian': 1,\n",
       " 'Stockman, Todd': 1,\n",
       " 'Stern, Daniel (I)': 1,\n",
       " 'Tammi, Tom': 1,\n",
       " 'Pierson, Richard': 1,\n",
       " 'Ruppert, Tait': 1,\n",
       " 'Stoegerer, Frank': 1,\n",
       " 'Gordon, Chief': 1,\n",
       " 'Vukov, Mary Lou': 1,\n",
       " 'Kipp, Kelle': 1,\n",
       " 'Cron, Claudia': 1,\n",
       " 'Sheehan, Beverly': 1,\n",
       " 'Blonigan, Colette': 1,\n",
       " 'Ziman, Sharon': 1,\n",
       " 'Dowling, Kathryn': 1,\n",
       " 'Zaganas, Lauren': 1,\n",
       " 'Caine, Allison': 1,\n",
       " 'Gail, Pam': 1,\n",
       " 'Copeland, Carole': 1,\n",
       " 'Glick, Lorraine D.': 1,\n",
       " 'Moody, Florence': 1,\n",
       " 'Clare, Dusty': 1,\n",
       " 'Munroe, Jan': 1,\n",
       " 'Thor, Cameron': 1,\n",
       " 'Lowe, Lawrence': 1,\n",
       " 'Walsh, J.T.': 1,\n",
       " 'Madrid, Bernard': 1,\n",
       " 'Marshall, James (I)': 1,\n",
       " 'Wexo, Alex': 1,\n",
       " 'Caesar, Harry': 1,\n",
       " 'Gooding Jr., Cuba': 1,\n",
       " 'Whittington, Gene': 1,\n",
       " 'Jordan, Oscar': 1,\n",
       " 'Jackson, John M.': 1,\n",
       " 'Guest, Christopher (I)': 1,\n",
       " 'Sutherland, Kiefer': 1,\n",
       " 'Craven, Matt (I)': 1,\n",
       " 'Wyle, Noah': 1,\n",
       " 'Nauffts, Geoffrey': 1,\n",
       " 'Ostrow, Ron': 1,\n",
       " 'Rudoy, Joshua': 1,\n",
       " 'Fink, John': 1,\n",
       " 'Milmeister, Jared': 1,\n",
       " 'Ortlieb, Jim': 1,\n",
       " 'Gonzalez, Gonzo': 1,\n",
       " 'Platt, Oliver': 1,\n",
       " 'Egan, Aeryk': 1,\n",
       " 'Hanis, Raymond': 1,\n",
       " 'Baldwin, William': 1,\n",
       " 'Gleeson, Patrick (II)': 1,\n",
       " 'Williams, Afram Bill': 1,\n",
       " 'Johnson, Cage S.': 1,\n",
       " 'Martin, John Benjamin': 1,\n",
       " 'Kurlander, Tom': 1,\n",
       " 'Duda, John': 1,\n",
       " 'Delgado, Miguel (I)': 1,\n",
       " 'Fernández, Evelina': 1,\n",
       " 'Oliu, Ingrid': 1,\n",
       " 'French, Susan (I)': 1,\n",
       " 'Vraa, Sanna': 1,\n",
       " 'Grant, Beth': 1,\n",
       " \"O'Connell, Elinore\": 1,\n",
       " \"B'tiste, Iilana\": 1,\n",
       " 'Bassham, Cynthia': 1,\n",
       " 'Rochelle, Amy': 1,\n",
       " 'Tucek, Sarabeth': 1,\n",
       " 'Odums, Lyne': 1,\n",
       " \"O'Brien, Shauna\": 1,\n",
       " 'Reed, Kesha': 1,\n",
       " 'McKee, Michelle (I)': 1,\n",
       " 'James, Anne (III)': 1,\n",
       " 'Thomas, Tressa': 1,\n",
       " 'Latinopoulos, Dede': 1,\n",
       " 'Thompson Duda, Deborah': 1,\n",
       " 'Moran, Nancy': 1,\n",
       " 'Goomas, Deborah': 1,\n",
       " 'LeRoy, Zoaunne': 1,\n",
       " 'Warner, Julie': 1,\n",
       " 'Crain, Carrie Courtney': 1,\n",
       " 'Torchio, Deborah': 1,\n",
       " 'Margolis, Ilona': 1,\n",
       " 'Dodds, K.K.': 1,\n",
       " 'Ohama, Natsuko': 1,\n",
       " 'Belcher, Patricia': 1,\n",
       " 'Levi, Nili': 1,\n",
       " 'Stewart, Megan': 1,\n",
       " 'Niblack, Nicole': 1,\n",
       " 'Dirkson, Douglas': 1,\n",
       " 'Scott, Timothy (I)': 1,\n",
       " 'Kemp, Ken': 1,\n",
       " 'Wimmer, Brian': 1,\n",
       " 'Laughlin, John (I)': 1,\n",
       " 'Telmont, Michael': 1,\n",
       " 'Redford, H.E.D.': 1,\n",
       " 'Dalton, Sam (I)': 1,\n",
       " 'Geter, Leo': 1,\n",
       " 'Broadhead, J. Paul': 1,\n",
       " 'Valenza, David': 1,\n",
       " 'McGinn, Russ': 1,\n",
       " 'Haufrect, Alan': 1,\n",
       " 'Pack, Gene': 1,\n",
       " 'McCarty, Brian L.': 1,\n",
       " 'Bernard, Jay (I)': 1,\n",
       " 'Rowland, Oscar': 1,\n",
       " 'Perryman, John': 1,\n",
       " 'Youngs, Jim': 1,\n",
       " 'Broadhead, Meghan': 1,\n",
       " 'Broadhead, Mimi': 1,\n",
       " 'Frazier, Deborah': 1,\n",
       " 'Gorcey, Elizabeth': 1,\n",
       " 'Wiest, Dianne': 1,\n",
       " 'Singer, Lori (I)': 1,\n",
       " 'Ulmer, Terri Gay': 1,\n",
       " 'McCain, Frances Lee': 1,\n",
       " 'Trevino, Carmen': 1,\n",
       " 'Reider, Marcia': 1,\n",
       " 'Graehl, Melissa Renee': 1,\n",
       " 'Jensen, Kim (I)': 1,\n",
       " 'MacEwen, Linda': 1,\n",
       " 'Gregory, Mary Ethel': 1,\n",
       " 'Da Silva, Monica M.': 1,\n",
       " 'Parker, Sarah Jessica': 1,\n",
       " 'Keyes, Irwin': 1,\n",
       " 'Cunningham, Noel': 1,\n",
       " 'Millkie, Ron': 1,\n",
       " 'Carroll, Ronn': 1,\n",
       " 'Nelson, Mark (I)': 1,\n",
       " 'Crosby, Harry (II)': 1,\n",
       " 'Adams, Willie (I)': 1,\n",
       " 'Lehman, Ari': 1,\n",
       " 'Parker, Ken L.': 1,\n",
       " 'Brouwer, Peter': 1,\n",
       " 'Everhart, Rex': 1,\n",
       " 'Gorney, Walt': 1,\n",
       " 'Hayes, Debra S.': 1,\n",
       " 'Palmer, Betsy (I)': 1,\n",
       " 'Bartram, Laurie': 1,\n",
       " 'Rocco, Mary': 1,\n",
       " 'Kobs, Dorothy': 1,\n",
       " 'King, Adrienne': 1,\n",
       " 'Taylor, Jeannine': 1,\n",
       " 'Golden, Sally Anne': 1,\n",
       " 'Morgan, Robbi': 1,\n",
       " 'Leeds, Phil': 1,\n",
       " 'Brutsche, Mark': 1,\n",
       " 'Harris, Michael (I)': 1,\n",
       " 'Britt, Bill': 1,\n",
       " 'Michael, Dennis (I)': 1,\n",
       " 'Mandon, Jeff': 1,\n",
       " 'B., Bobby': 1,\n",
       " 'Shipman, William': 1,\n",
       " 'Almendarez, Val': 1,\n",
       " 'Martin, George (II)': 1,\n",
       " 'Stone, Danton': 1,\n",
       " 'Hohlfeld, Brian': 1,\n",
       " 'Smith, Dave (I)': 1,\n",
       " 'Tymchyshyn, Mark': 1,\n",
       " 'Leake, Damien': 1,\n",
       " 'Warner, Rick (I)': 1,\n",
       " 'Lee, Bernard (II)': 1,\n",
       " 'Chaban, Michael': 1,\n",
       " 'Efrems, Maury': 1,\n",
       " 'Parker, F. William': 1,\n",
       " 'Holden, Larry (I)': 1,\n",
       " 'Butler, Paul (I)': 1,\n",
       " 'Long, David (I)': 1,\n",
       " 'McDermott, Tom (I)': 1,\n",
       " 'Lay, Bart': 1,\n",
       " 'Wendl, Alan J.': 1,\n",
       " 'Storey, David (I)': 1,\n",
       " 'Russom, Leon': 1,\n",
       " 'Cale, David': 1,\n",
       " 'Parks, Van Dyke': 1,\n",
       " 'Tesh, John': 1,\n",
       " 'Hohlfeld, Lisa': 1,\n",
       " 'Brightman, Lucy': 1,\n",
       " 'North, Shelley': 1,\n",
       " 'Biechler, Merri (I)': 1,\n",
       " 'Hennessy, Rita': 1,\n",
       " 'Eustis, Ida': 1,\n",
       " 'Karin, Rita': 1,\n",
       " 'Miles, Hope': 1,\n",
       " 'Silver, Claudia': 1,\n",
       " 'Andersen, Dana (I)': 1,\n",
       " 'Perkins, Petie': 1,\n",
       " 'Berezin, Tanya': 1,\n",
       " 'Suchanec, Jenn': 1,\n",
       " 'Miller, Cindy (II)': 1,\n",
       " 'Kirschenbauer, Karen': 1,\n",
       " 'Krimski, Rebecca': 1,\n",
       " 'Gardner, Ashley (I)': 1,\n",
       " 'Williams, Helen R.': 1,\n",
       " 'Shulman, Constance': 1,\n",
       " 'Baylis, Alycea': 1,\n",
       " 'Brower, Elizabeth': 1,\n",
       " 'Woodard, Charlayne': 1,\n",
       " 'Fritz, Lauren (I)': 1,\n",
       " 'Gibbons, Leeza': 1,\n",
       " \"O'Connor, Alice\": 1,\n",
       " 'Vogt, David (I)': 1,\n",
       " 'Hecker, Gary A.': 1,\n",
       " 'Sultan, Darius A.': 1,\n",
       " 'Altes, Steve': 1,\n",
       " 'Slotnick, Joey': 1,\n",
       " 'Skaggs, Jimmie F.': 1,\n",
       " 'Devane, William': 1,\n",
       " 'Brolin, Josh': 1,\n",
       " 'McCormack, J. Patrick': 1,\n",
       " 'Scaperrotta, Jeffrey': 1,\n",
       " 'Grunberg, Greg': 1,\n",
       " 'Espinosa, Pablo (I)': 1,\n",
       " 'Scott, Kelli (I)': 1,\n",
       " 'Randle, Mary': 1,\n",
       " 'Dickens, Kim': 1,\n",
       " 'Bowles, Sarah (I)': 1,\n",
       " 'Booth, Daniel T.': 1,\n",
       " 'Maxy, Max H.': 1,\n",
       " 'Damici, Nick': 1,\n",
       " 'Wegner, Zach': 1,\n",
       " 'Aries, Dominick': 1,\n",
       " 'Riddick, Jacinto Taras': 1,\n",
       " 'Clyde, Cordell': 1,\n",
       " 'Firo, James': 1,\n",
       " 'Harts, Frank': 1,\n",
       " 'Nuccio, Micheal': 1,\n",
       " 'House, Tim (I)': 1,\n",
       " 'Sherman, Hal (I)': 1,\n",
       " 'Upendran, Panicker': 1,\n",
       " 'Sozzi, Sebastian': 1,\n",
       " 'LeFlore, Julius': 1,\n",
       " 'Pugh, Sharrieff': 1,\n",
       " 'Martini Jr., Lou': 1,\n",
       " 'Gardner, Susan': 1,\n",
       " 'Zimmerman, Kendra': 1,\n",
       " 'Nega, Allison': 1,\n",
       " 'Duval, Funda': 1,\n",
       " 'King, Yaani': 1,\n",
       " 'Leigh, Jennifer Jason': 1,\n",
       " 'DiBenedetti, Michelle': 1,\n",
       " 'Goodheart, Ami': 1,\n",
       " 'Vital, Sandy': 1,\n",
       " 'Lubotsky, Dana': 1,\n",
       " 'Litteer, Heather': 1,\n",
       " 'Coigney, Sunrise': 1,\n",
       " 'Spruill, Nicole': 1,\n",
       " 'Kogan, Theo': 1,\n",
       " 'La Scala, Nancy': 1,\n",
       " 'Riggins, Sharon': 1,\n",
       " 'Riggins, Karen': 1,\n",
       " 'Lumumba, Patrice': 1,\n",
       " 'Roselli, Johnny (I)': 1,\n",
       " 'Kosiciuk, Christopher': 1,\n",
       " 'Mitchell, Red (II)': 1,\n",
       " 'de Gaulle, Charles': 1,\n",
       " 'Mills, Zeke': 1,\n",
       " 'Cooper, Christopher E.': 1,\n",
       " 'Carter, Gary (I)': 1,\n",
       " 'Gough, Jim (I)': 1,\n",
       " 'Alciatore, Henri': 1,\n",
       " 'Buck, Raymond': 1,\n",
       " 'Jones, Tommy Lee': 1,\n",
       " 'McNamara, Robert (I)': 1,\n",
       " 'Nadell, Joseph': 1,\n",
       " 'Hill, Clint': 1,\n",
       " 'Price Jr., Steve F.': 1,\n",
       " 'Castro, Fidel (I)': 1,\n",
       " 'Melton, Larry (I)': 1,\n",
       " 'Krueger, Scott': 1,\n",
       " 'Groden, Robert J.': 1,\n",
       " 'Dulles, Allen': 1,\n",
       " 'Pennebaker, Ted': 1,\n",
       " 'Chambers, Barry': 1,\n",
       " 'Brehm, Charles': 1,\n",
       " 'Jackson, Doug (I)': 1,\n",
       " 'Matthau, Walter': 1,\n",
       " 'Selassie, Haile': 1,\n",
       " 'Barnitt, Roy': 1,\n",
       " 'Fernández, Jorge (II)': 1,\n",
       " 'Feagin, Hugh': 1,\n",
       " 'Kennedy Jr., John': 1,\n",
       " 'Lansdale, Edward G.': 1,\n",
       " 'Oltmans, Willem': 1,\n",
       " 'Cabell, Earle': 1,\n",
       " 'McLendon, Errol': 1,\n",
       " 'Cabell, Charles': 1,\n",
       " 'Scott, Nathan (II)': 1,\n",
       " 'Lemmon, Jack': 1,\n",
       " 'Spicuzza, Alvin': 1,\n",
       " 'Howard, Tom (II)': 1,\n",
       " 'Brink, Johnny': 1,\n",
       " 'Bissell, Richard (II)': 1,\n",
       " 'Boggs, Hale': 1,\n",
       " 'Vicini, Eric A.': 1,\n",
       " 'Grubbs, Gary': 1,\n",
       " 'Aranas, Raul': 1,\n",
       " 'Tull III, Henry': 1,\n",
       " 'Witt, Louis Steven': 1,\n",
       " 'McIntyre, Tim': 1,\n",
       " 'Stoneburner, Sam': 1,\n",
       " 'Carson, Price': 1,\n",
       " 'Gelb, Bruce': 1,\n",
       " 'Douglas, Jerry (I)': 1,\n",
       " 'Wade, Henry M.': 1,\n",
       " 'Martin, John C.': 1,\n",
       " 'Kelly, George (II)': 1,\n",
       " 'Harrell, James N.': 1,\n",
       " 'Hoffa, Jimmy': 1,\n",
       " 'Bornstein, Jeff': 1,\n",
       " 'Jackson, Jesse (I)': 1,\n",
       " 'Rutowski, Richard': 1,\n",
       " 'Gifford, Alec': 1,\n",
       " 'Breaux, Walter': 1,\n",
       " 'Stone, Sean': 1,\n",
       " 'Grey, Duane': 1,\n",
       " 'Powers, Francis Gary': 1,\n",
       " 'Longman, Mike': 1,\n",
       " 'Martin, B.J.': 1,\n",
       " \"O'Connell, Ruary\": 1,\n",
       " 'Reneau, John (I)': 1,\n",
       " 'Cooper, John Sherman': 1,\n",
       " 'Kennedy, John F.': 1,\n",
       " 'Rudenko, Roman': 1,\n",
       " 'Ozag, Michael': 1,\n",
       " 'Doyle-Murray, Brian': 1,\n",
       " 'Seitz, John': 1,\n",
       " 'Kellerman, Roy': 1,\n",
       " 'Dane, Benjamin': 1,\n",
       " 'McCarthy, Eugene (III)': 1,\n",
       " 'Rodine, Alex': 1,\n",
       " 'Kennedy, Joseph P.': 1,\n",
       " 'Asner, Edward': 1,\n",
       " 'Erhard, Ludwig': 1,\n",
       " 'Walters, Mark Edward': 1,\n",
       " 'Neal, Edwin': 1,\n",
       " 'Johnson, Lyndon (I)': 1,\n",
       " 'King, Martin Luther': 1,\n",
       " 'Rifkin, Ron': 1,\n",
       " 'Gurievsky, Michael': 1,\n",
       " 'Larsen, William': 1,\n",
       " 'Kennedy, Mike (VI)': 1,\n",
       " 'Giancana, Sam': 1,\n",
       " 'Bolender, Bill': 1,\n",
       " 'von Klaussen, Ronald': 1,\n",
       " 'Wells, John B.': 1,\n",
       " 'Hargis, Bobby': 1,\n",
       " 'MacArthur, James (I)': 1,\n",
       " 'Ngo, Dinh Diem': 1,\n",
       " 'Russell, Richard (II)': 1,\n",
       " 'Minor, Willie': 1,\n",
       " 'Warren, Earl (I)': 1,\n",
       " 'Kennedy, Robert F.': 1,\n",
       " 'Kelley, Chuck (II)': 1,\n",
       " 'Sexton, Merlyn': 1,\n",
       " 'Willis, Phillip L.': 1,\n",
       " 'X, Malcolm': 1,\n",
       " 'Pahlavi, Shah Mohammed Reza': 1,\n",
       " 'Eisenhower, Dwight D.': 1,\n",
       " 'Day, J.C.': 1,\n",
       " 'Greer, William (II)': 1,\n",
       " 'Khrushchev, Nikita': 1,\n",
       " 'Tippit, Wayne': 1,\n",
       " 'Ramirez, Anthony (I)': 1,\n",
       " 'Logue, Spain': 1,\n",
       " 'Powers, David F.': 1,\n",
       " 'Kennedy, T.J.': 1,\n",
       " 'Kennedy, Ted (I)': 1,\n",
       " 'Redd, Ray': 1,\n",
       " 'Mossadegh, Mohammed': 1,\n",
       " 'Anderson, George (IV)': 1,\n",
       " 'Taylor, Maxwell (I)': 1,\n",
       " 'Brezhnev, Leonid': 1,\n",
       " 'LeMay, Curtis': 1,\n",
       " 'Russo, Perry R.': 1,\n",
       " 'Jackson, Ron (I)': 1,\n",
       " 'Marshall, Robert (II)': 1,\n",
       " 'LePere, Ray': 1,\n",
       " 'Knight, Wayne (I)': 1,\n",
       " 'Galt, John William': 1,\n",
       " 'Orwig, Bob': 1,\n",
       " 'Robertson, George R. (I)': 1,\n",
       " 'Benn, David (I)': 1,\n",
       " 'Lawford, Peter': 1,\n",
       " 'Brickman, I.D.': 1,\n",
       " 'MacDonald, Ryan (I)': 1,\n",
       " 'Connally, John (I)': 1,\n",
       " 'Lodge, Henry Cabot': 1,\n",
       " 'Wynne III, Angus G.': 1,\n",
       " 'Mobbs, Robert (I)': 1,\n",
       " 'Stokes, Murray': 1,\n",
       " 'Scott, Codie (I)': 1,\n",
       " 'St. Paul, John': 1,\n",
       " 'Renna, Chris (I)': 1,\n",
       " 'Pickle, Bill': 1,\n",
       " 'Beard, Kevin (I)': 1,\n",
       " 'Rooney, Carl': 1,\n",
       " 'Rockefeller, Nelson': 1,\n",
       " 'Davis, Norman (II)': 1,\n",
       " 'Langford, Odin K.': 1,\n",
       " 'Bullock, Tom (V)': 1,\n",
       " 'Newman, John M.': 1,\n",
       " 'Herthum, Harold G.': 1,\n",
       " 'Hoover, J. Edgar': 1,\n",
       " 'Elliott, R. Bruce': 1,\n",
       " 'Perella, Marco': 1,\n",
       " 'Plana, Tony': 1,\n",
       " 'Kempster, Victor': 1,\n",
       " 'Dearborn, Dalton': 1,\n",
       " 'Gromyko, Andrei': 1,\n",
       " 'Humphrey, Hubert H.': 1,\n",
       " 'Garrison, Jim (I)': 1,\n",
       " 'Gilpatric, Roswell': 1,\n",
       " 'White, Stanley': 1,\n",
       " 'Shoup, David M.': 1,\n",
       " 'McCloy, John J.': 1,\n",
       " 'Johnston, J.J. (I)': 1,\n",
       " 'Skipper, Michael (I)': 1,\n",
       " 'Brandt, Willy (I)': 1,\n",
       " 'Robinson, Chris (II)': 1,\n",
       " 'Whaley, Frank': 1,\n",
       " 'Glasgow, Gil': 1,\n",
       " 'Taggart, Gary': 1,\n",
       " 'Stevenson, Adlai': 1,\n",
       " 'Willis, Rosemary': 1,\n",
       " 'Strub, Ann': 1,\n",
       " 'McElduff, Ellen': 1,\n",
       " 'Bowman, Melodee': 1,\n",
       " 'Nystuen, Sally': 1,\n",
       " 'Connally, Nellie': 1,\n",
       " 'Perkins, Pat': 1,\n",
       " 'Kirkland, Sally (I)': 1,\n",
       " 'Frnka, Roxie M.': 1,\n",
       " 'Kennedy, Rose': 1,\n",
       " 'Cronauer, Gail': 1,\n",
       " 'Anderson, Jo (I)': 1,\n",
       " 'Penland, Cheryl': 1,\n",
       " 'Chaves, Mykel': 1,\n",
       " 'Moorman, Mary': 1,\n",
       " 'Hill, Jeanne (II)': 1,\n",
       " 'McCullough, Carolina': 1,\n",
       " 'Long, Amy': 1,\n",
       " 'Davis, Allison Pratt': 1,\n",
       " 'Metcalf, Laurie': 1,\n",
       " 'Morris, E.J.': 1,\n",
       " 'Kennedy, Jacqueline (I)': 1,\n",
       " 'Pozniak, Beata': 1,\n",
       " 'Farabee, Carol': 1,\n",
       " 'Miller, Helen (I)': 1,\n",
       " 'Wright, Carolyn T.': 1,\n",
       " 'Johnson, Lady Bird': 1,\n",
       " 'Kennedy, Ethel (II)': 1,\n",
       " 'Crosthwaite-Eyre, Caroline': 1,\n",
       " 'Hare, Kristina': 1,\n",
       " 'Aurelio, Agnes': 1,\n",
       " 'Kennedy, Caroline (I)': 1,\n",
       " 'Wade, Linda Flores': 1,\n",
       " 'Mason, Maria': 1,\n",
       " 'Kovacs, Danny': 1,\n",
       " 'Barr, Tony': 1,\n",
       " 'Maguire, George (I)': 1,\n",
       " 'Summers, Neil': 1,\n",
       " 'Davis, Gary Lee': 1,\n",
       " 'Cleere, William': 1,\n",
       " 'Winters, Time': 1,\n",
       " 'Boswell, Charles': 1,\n",
       " 'Mayes, Theo': 1,\n",
       " 'Dudley, Randall': 1,\n",
       " 'Kwong, Richard': 1,\n",
       " 'Gierasch, Stefan': 1,\n",
       " 'Swan, James A.': 1,\n",
       " 'Melvin, Michael (I)': 1,\n",
       " 'Nisbet, Stuart': 1,\n",
       " 'Randall, Douglas W.': 1,\n",
       " 'Ballard, Gary': 1,\n",
       " 'Franklin, Fred': 1,\n",
       " 'Allan, Richie': 1,\n",
       " 'Feldner, Sheldon': 1,\n",
       " 'Bowz, Eddie': 1,\n",
       " 'Sterling, David Michael': 1,\n",
       " 'King, Sonny (I)': 1,\n",
       " 'Ermey, R. Lee': 1,\n",
       " 'Bookston, Alex': 1,\n",
       " 'Merrins, Michael': 1,\n",
       " 'Cole, Joseph': 1,\n",
       " 'Spottiswood, Warren': 1,\n",
       " 'Varnado, Julius': 1,\n",
       " 'Lee, Robert (X)': 1,\n",
       " 'Brady, Lance': 1,\n",
       " 'Fenske, Thomas': 1,\n",
       " 'Bennett, Douglas (II)': 1,\n",
       " 'Scoggin, Nick (I)': 1,\n",
       " 'Mathis, Lee E.': 1,\n",
       " 'Nicholas, Colin': 1,\n",
       " 'Richards, Joseph (I)': 1,\n",
       " 'Hall, William (II)': 1,\n",
       " 'Slack, Ben': 1,\n",
       " 'Quartermus, Ray': 1,\n",
       " 'Lucas, Joseph': 1,\n",
       " 'Parks, Wayne': 1,\n",
       " 'Barretta, Bill': 1,\n",
       " 'Ritts, Herb': 1,\n",
       " 'Rose, Wally': 1,\n",
       " 'Leckner, Brian': 1,\n",
       " 'Pelish, Randy': 1,\n",
       " 'Davidtz, Embeth': 1,\n",
       " 'Kirshner, Mia': 1,\n",
       " 'Brenner, Eve': 1,\n",
       " 'Borden, Amanda (I)': 1,\n",
       " 'Sedgwick, Kyra': 1,\n",
       " 'Coryell, Bradley': 1,\n",
       " 'Wimberly, Wayne': 1,\n",
       " 'Dog, Enzo the': 1,\n",
       " 'Lee Jr., Nathaniel': 1,\n",
       " 'Williams, Jordan (I)': 1,\n",
       " 'Gordy, Graham': 1,\n",
       " 'Butler, William (I)': 1,\n",
       " 'Crombie, Peter (I)': 1,\n",
       " 'Sullivan II, John M.': 1,\n",
       " 'Pickens, David': 1,\n",
       " 'Honeycutt, Daylan': 1,\n",
       " 'Jerald, Jerome': 1,\n",
       " 'Moose (III)': 1,\n",
       " 'Fraiser, Jim': 1,\n",
       " 'Swaim, Gordon': 1,\n",
       " 'Beech, Mark (I)': 1,\n",
       " 'Boutwell, Owen': 1,\n",
       " 'Stiritz, John': 1,\n",
       " 'Hayes, Hunter': 1,\n",
       " 'Yates, Josh (I)': 1,\n",
       " 'Witt, Brian': 1,\n",
       " 'Greenwell, Stuart': 1,\n",
       " 'Berkshire, Michael': 1,\n",
       " 'Thweat, James': 1,\n",
       " 'Bynum, Nate': 1,\n",
       " 'Connick Jr., Harry': 1,\n",
       " 'Hood, Harry (II)': 1,\n",
       " 'Linley, Cody': 1,\n",
       " 'Smith, Cannon (II)': 1,\n",
       " 'Blackenship, Joann': 1,\n",
       " 'Davis, Susan Carol': 1,\n",
       " 'Wachs, Caitlin': 1,\n",
       " 'Ewing, Lucile Doan': 1,\n",
       " 'Doublin, Stacie': 1,\n",
       " 'Shoulders, Katherine': 1,\n",
       " 'Rice, Elizabeth (I)': 1,\n",
       " 'Cross, Chaon': 1,\n",
       " 'Craig, Polly': 1,\n",
       " 'Brown, Courtney (II)': 1,\n",
       " 'Lane, Diane (I)': 1,\n",
       " 'Putney, Duncan': 1,\n",
       " 'Kemp, Tom (I)': 1,\n",
       " 'Doherty, Sean Patrick': 1,\n",
       " 'Taurasi, Anthony': 1,\n",
       " 'Farmer, Lonnie': 1,\n",
       " 'Doman, John': 1,\n",
       " 'Trupiano, Jerry': 1,\n",
       " 'Joyce, John (IX)': 1,\n",
       " 'Bowen, Cameron': 1,\n",
       " 'Thorpe, Bill': 1,\n",
       " 'Fogarty, Shawn': 1,\n",
       " 'Stechman, Greg': 1,\n",
       " 'Togo, Jonathan': 1,\n",
       " 'Wilder, Bates': 1,\n",
       " 'Shea, Patrick (III)': 1,\n",
       " 'Frates, Brian': 1,\n",
       " 'Fitzgibbon, Shawn': 1,\n",
       " 'Kyle, Stephen (I)': 1,\n",
       " 'Kelley, Mikey': 1,\n",
       " 'Peavey, Michael': 1,\n",
       " 'Guiry, Tom': 1,\n",
       " 'Derrah, Thomas': 1,\n",
       " \"O'Keefe, Ed\": 1,\n",
       " 'Stapleton, Joe (II)': 1,\n",
       " 'Dow, Scott': 1,\n",
       " 'Richards, Bill (III)': 1,\n",
       " 'Gould, Bill (I)': 1,\n",
       " 'Van Kay, Brian': 1,\n",
       " 'LaFramboise, Adam': 1,\n",
       " 'Page, T. Bruce': 1,\n",
       " 'Bowen Flynn, Douglass': 1,\n",
       " 'Boyd, Cayden': 1,\n",
       " 'Clark, Spencer Treat': 1,\n",
       " 'Blake, Matty': 1,\n",
       " 'Mackin, Andrew': 1,\n",
       " 'White, Brian (XVII)': 1,\n",
       " 'Douglas, Brad R.': 1,\n",
       " 'Smith, Jim (I)': 1,\n",
       " 'Blesser, Andrew': 1,\n",
       " \"O'Neil Martin, Stephen\": 1,\n",
       " 'Lyman, Will': 1,\n",
       " 'Rosario, José Ramón': 1,\n",
       " 'Kelly, Jason (III)': 1,\n",
       " 'Bronk, Paul': 1,\n",
       " 'Pungitore, John': 1,\n",
       " 'Murphy, Brett (II)': 1,\n",
       " 'Norris, Lance': 1,\n",
       " 'Lee, Loy': 1,\n",
       " 'Cheeseman, Ken': 1,\n",
       " 'Winters, Scott': 1,\n",
       " 'Wallach, Eli': 1,\n",
       " 'Ridley, Frank': 1,\n",
       " 'Garison, Dave Zee': 1,\n",
       " 'Wahlberg, Robert': 1,\n",
       " 'McGovern, Michael (V)': 1,\n",
       " 'Herter, Miles': 1,\n",
       " 'Conway, Kevin (I)': 1,\n",
       " 'Ferus, John': 1,\n",
       " 'Broderick, Charley': 1,\n",
       " 'du Tertre, Celine': 1,\n",
       " 'Russell, Zabeth': 1,\n",
       " 'Davis, Tori': 1,\n",
       " 'Rossum, Emmy': 1,\n",
       " 'Williams, Kris (III)': 1,\n",
       " 'Oliva, Celeste': 1,\n",
       " \"O'Hara, Jenny\": 1,\n",
       " 'Graynor, Ari': 1,\n",
       " 'Wheeler, Jillian': 1,\n",
       " 'Peyankov, Yasen': 1,\n",
       " 'Rostenkowski, Tyler': 1,\n",
       " 'Lugg, George': 1,\n",
       " 'Peeples, Roderick': 1,\n",
       " 'Bajenski, Len': 1,\n",
       " 'Cerny, JoBe': 1,\n",
       " 'Glasgow, Christopher': 1,\n",
       " 'Wong, Quincy': 1,\n",
       " 'Hytower, Roy': 1,\n",
       " 'West, Dean (II)': 1,\n",
       " 'Koteas, Elias': 1,\n",
       " ...}"
      ]
     },
     "execution_count": 164,
     "metadata": {},
     "output_type": "execute_result"
    }
   ],
   "source": [
    "bacon_dist"
   ]
  },
  {
   "cell_type": "markdown",
   "id": "a800f7f7",
   "metadata": {},
   "source": [
    "_Quel est le Bacon number moyen des acteurs du graphe ?_"
   ]
  },
  {
   "cell_type": "code",
   "execution_count": 165,
   "id": "39f74b7c",
   "metadata": {},
   "outputs": [
    {
     "data": {
      "text/plain": [
       "2.3757734432953703"
      ]
     },
     "execution_count": 165,
     "metadata": {},
     "output_type": "execute_result"
    }
   ],
   "source": [
    "sum(bacon_dist.values())/len(bacon_dist)"
   ]
  },
  {
   "cell_type": "markdown",
   "id": "d4964d23",
   "metadata": {},
   "source": [
    "On se demande pourquoi on a choisi Kevin Bacon comme point de référence. \n",
    "\n",
    "_Afficher l'histogramme des degrés du graphes pour déterminer qui sont les acteurs ayant co-joué avec le plus de monde._"
   ]
  },
  {
   "cell_type": "code",
   "execution_count": 173,
   "id": "df5c5dac",
   "metadata": {},
   "outputs": [
    {
     "data": {
      "image/png": "[encoded data removed]",
      "text/plain": [
       "<Figure size 640x480 with 1 Axes>"
      ]
     },
     "metadata": {},
     "output_type": "display_data"
    }
   ],
   "source": [
    "plt.hist(dict(Act.degree).values(), bins = 100) ;"
   ]
  },
  {
   "cell_type": "code",
   "execution_count": 179,
   "id": "1699112b",
   "metadata": {},
   "outputs": [
    {
     "data": {
      "image/png": "[encoded data removed]",
      "text/plain": [
       "<Figure size 640x480 with 1 Axes>"
      ]
     },
     "metadata": {},
     "output_type": "display_data"
    }
   ],
   "source": [
    "plt.hist(dict(Act.degree).values(), bins = 20, range = (1200, 3500)) ;"
   ]
  },
  {
   "cell_type": "markdown",
   "id": "618720be",
   "metadata": {},
   "source": [
    "_Écrire une fonction qui renvoie le 'Actor' number moyen pour un 'Actor' donné._"
   ]
  },
  {
   "cell_type": "code",
   "execution_count": 184,
   "id": "442b2957",
   "metadata": {},
   "outputs": [],
   "source": [
    "def mean_actor(actor) :\n",
    "    actor_dist = nx.shortest_path_length(Act, actor)\n",
    "    return sum(actor_dist.values())/len(actor_dist)"
   ]
  },
  {
   "cell_type": "code",
   "execution_count": 188,
   "id": "31ac7387",
   "metadata": {},
   "outputs": [],
   "source": [
    "degree_actor = sorted(Act.degree(), key = lambda x : x[1], reverse = True)"
   ]
  },
  {
   "cell_type": "markdown",
   "id": "b339c40c",
   "metadata": {},
   "source": [
    "_Quel est l'acteur de plus gros degré dans le graphe ?_"
   ]
  },
  {
   "cell_type": "code",
   "execution_count": 190,
   "id": "57cd2dbb",
   "metadata": {},
   "outputs": [
    {
     "data": {
      "text/plain": [
       "('Flowers, Bess', 3012)"
      ]
     },
     "execution_count": 190,
     "metadata": {},
     "output_type": "execute_result"
    }
   ],
   "source": [
    "degree_actor[0]"
   ]
  },
  {
   "cell_type": "markdown",
   "id": "bbb2b96f",
   "metadata": {},
   "source": [
    "_Lister les 10 premiers acteurs en terme de degré._"
   ]
  },
  {
   "cell_type": "code",
   "execution_count": 191,
   "id": "39fb2996",
   "metadata": {},
   "outputs": [
    {
     "data": {
      "text/plain": [
       "[('Flowers, Bess', 3012),\n",
       " ('Jackson, Samuel L.', 2774),\n",
       " ('De Niro, Robert', 2757),\n",
       " ('Harris, Sam (II)', 2739),\n",
       " ('Willis, Bruce', 2612),\n",
       " ('Holmes, Stuart', 2342),\n",
       " ('Aykroyd, Dan', 2319),\n",
       " ('Welker, Frank', 2315),\n",
       " ('Farnum, Franklyn', 2275),\n",
       " ('Stevens, Bert (I)', 2208)]"
      ]
     },
     "execution_count": 191,
     "metadata": {},
     "output_type": "execute_result"
    }
   ],
   "source": [
    "degree_actor[:10]"
   ]
  },
  {
   "cell_type": "markdown",
   "id": "24af084d",
   "metadata": {},
   "source": [
    "_Représenter le diagramme des co-starring vs nb de films._"
   ]
  },
  {
   "cell_type": "code",
   "execution_count": null,
   "id": "a4c38310",
   "metadata": {},
   "outputs": [],
   "source": []
  },
  {
   "cell_type": "markdown",
   "id": "aed0ab05",
   "metadata": {},
   "source": [
    "_Donner un bon candidat pour le prochain Bacon number._"
   ]
  },
  {
   "cell_type": "code",
   "execution_count": null,
   "id": "fcde08f7",
   "metadata": {},
   "outputs": [],
   "source": []
  }
 ],
 "metadata": {
  "kernelspec": {
   "display_name": "env_python",
   "language": "python",
   "name": "python3"
  },
  "language_info": {
   "codemirror_mode": {
    "name": "ipython",
    "version": 3
   },
   "file_extension": ".py",
   "mimetype": "text/x-python",
   "name": "python",
   "nbconvert_exporter": "python",
   "pygments_lexer": "ipython3",
   "version": "3.12.6"
  }
 },
 "nbformat": 4,
 "nbformat_minor": 5
}
