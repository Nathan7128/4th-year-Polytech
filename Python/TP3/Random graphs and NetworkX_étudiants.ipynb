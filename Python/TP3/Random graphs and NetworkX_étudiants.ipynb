{
 "cells": [
  {
   "cell_type": "markdown",
   "id": "98d86c59",
   "metadata": {},
   "source": [
    "# NetworkX : librairie pour manipuler et analyser les graphes\n",
    "\n",
    "On va découvrir NetworkX qui considère les graphes comme des objets. La documentation est [ici](https://networkx.org/documentation/stable/reference/index.html).\n",
    "\n",
    "On commence par charger la librairie NetworkX."
   ]
  },
  {
   "cell_type": "code",
   "execution_count": 1,
   "id": "0ec2e92c",
   "metadata": {},
   "outputs": [],
   "source": [
    "import networkx as nx"
   ]
  },
  {
   "cell_type": "markdown",
   "id": "be3506e6",
   "metadata": {},
   "source": [
    "## 1. Intro à NetworkX\n",
    "\n",
    "### 1.1 Créer un graphe vide.\n",
    "\n",
    "On peut maintenant créer un graphe vide via le contructeur ```Graph()```"
   ]
  },
  {
   "cell_type": "code",
   "execution_count": 2,
   "id": "920132fd",
   "metadata": {},
   "outputs": [],
   "source": [
    "G = nx.Graph()"
   ]
  },
  {
   "cell_type": "code",
   "execution_count": 3,
   "id": "69699e9c",
   "metadata": {},
   "outputs": [
    {
     "data": {
      "text/plain": [
       "<networkx.classes.graph.Graph at 0x1c771a27890>"
      ]
     },
     "execution_count": 3,
     "metadata": {},
     "output_type": "execute_result"
    }
   ],
   "source": [
    "G"
   ]
  },
  {
   "cell_type": "code",
   "execution_count": 4,
   "id": "ba8381af",
   "metadata": {},
   "outputs": [
    {
     "name": "stdout",
     "output_type": "stream",
     "text": [
      "Graph with 0 nodes and 0 edges\n"
     ]
    }
   ],
   "source": [
    "print(G)"
   ]
  },
  {
   "cell_type": "code",
   "execution_count": 5,
   "id": "c5af2aba",
   "metadata": {},
   "outputs": [
    {
     "data": {
      "text/plain": [
       "NodeView(())"
      ]
     },
     "execution_count": 5,
     "metadata": {},
     "output_type": "execute_result"
    }
   ],
   "source": [
    "G.nodes()"
   ]
  },
  {
   "cell_type": "markdown",
   "id": "2da13f43",
   "metadata": {},
   "source": [
    "### 1.2 Sommets\n",
    "\n",
    "On peut ajouter des sommets un par un via ```add_node(v)```"
   ]
  },
  {
   "cell_type": "code",
   "execution_count": 6,
   "id": "a6b46fa3",
   "metadata": {},
   "outputs": [
    {
     "data": {
      "text/plain": [
       "NodeView((1,))"
      ]
     },
     "execution_count": 6,
     "metadata": {},
     "output_type": "execute_result"
    }
   ],
   "source": [
    "G.add_node(1)\n",
    "G.nodes()"
   ]
  },
  {
   "cell_type": "markdown",
   "id": "4cb709f7",
   "metadata": {},
   "source": [
    "On peut aussi ajouter plusieurs sommets à la fois via des listes."
   ]
  },
  {
   "cell_type": "code",
   "execution_count": 7,
   "id": "0a2ea98d",
   "metadata": {},
   "outputs": [
    {
     "data": {
      "text/plain": [
       "NodeView((1, 2, 3))"
      ]
     },
     "execution_count": 7,
     "metadata": {},
     "output_type": "execute_result"
    }
   ],
   "source": [
    "G.add_nodes_from([2,3])\n",
    "G.nodes()"
   ]
  },
  {
   "cell_type": "markdown",
   "id": "c8a3bbf9",
   "metadata": {},
   "source": [
    "On peut enfin ajouter des sommets ainsi que des attributs aux sommets via une des listes de couples ```(sommet, dictionnaire d'attributs)```"
   ]
  },
  {
   "cell_type": "code",
   "execution_count": 8,
   "id": "f346ffaa",
   "metadata": {},
   "outputs": [
    {
     "data": {
      "text/plain": [
       "NodeView((1, 2, 3, 4, 5))"
      ]
     },
     "execution_count": 8,
     "metadata": {},
     "output_type": "execute_result"
    }
   ],
   "source": [
    "G.add_nodes_from([(4,{\"color\":\"red\"}), (5,{\"color\":\"green\", \"weight\":12})])\n",
    "G.nodes()"
   ]
  },
  {
   "cell_type": "markdown",
   "id": "b89b89fa",
   "metadata": {},
   "source": [
    "Si on veut accéder aux attributs des sommets on utilise ```G.nodes.data```"
   ]
  },
  {
   "cell_type": "code",
   "execution_count": 9,
   "id": "f828d6a8",
   "metadata": {},
   "outputs": [
    {
     "data": {
      "text/plain": [
       "NodeDataView({1: {}, 2: {}, 3: {}, 4: {'color': 'red'}, 5: {'color': 'green', 'weight': 12}})"
      ]
     },
     "execution_count": 9,
     "metadata": {},
     "output_type": "execute_result"
    }
   ],
   "source": [
    "G.nodes.data()"
   ]
  },
  {
   "cell_type": "markdown",
   "id": "663ea16a",
   "metadata": {},
   "source": [
    "Les sommets d'un graphe peuvent être ajoutés aux sommets d'un autre."
   ]
  },
  {
   "cell_type": "code",
   "execution_count": 10,
   "id": "39465be2",
   "metadata": {},
   "outputs": [],
   "source": [
    "H = nx.path_graph(10)\n",
    "G.add_nodes_from(H.nodes())"
   ]
  },
  {
   "cell_type": "markdown",
   "id": "e6f33e58",
   "metadata": {},
   "source": [
    "Attention, si les sommets de ```G``` ont le même nom que les sommets de ```H```. On fait alors l'union.\n",
    "\n",
    "Comme les sommets peuvent être n'importe quoi, on peut aussi ajouter ```H``` lui-même comme un sommet de ```G```."
   ]
  },
  {
   "cell_type": "code",
   "execution_count": 11,
   "id": "1659b105",
   "metadata": {},
   "outputs": [],
   "source": [
    "G.add_node(H)"
   ]
  },
  {
   "cell_type": "code",
   "execution_count": 12,
   "id": "360f9db5",
   "metadata": {},
   "outputs": [
    {
     "data": {
      "text/plain": [
       "NodeView((1, 2, 3, 4, 5, 0, 6, 7, 8, 9, <networkx.classes.graph.Graph object at 0x000001C771951EB0>))"
      ]
     },
     "execution_count": 12,
     "metadata": {},
     "output_type": "execute_result"
    }
   ],
   "source": [
    "G.nodes()"
   ]
  },
  {
   "cell_type": "code",
   "execution_count": 13,
   "id": "7203a9ce",
   "metadata": {},
   "outputs": [
    {
     "data": {
      "text/plain": [
       "NodeDataView({1: {}, 2: {}, 3: {}, 4: {'color': 'red'}, 5: {'color': 'green', 'weight': 12}, 0: {}, 6: {}, 7: {}, 8: {}, 9: {}, <networkx.classes.graph.Graph object at 0x000001C771951EB0>: {}})"
      ]
     },
     "execution_count": 13,
     "metadata": {},
     "output_type": "execute_result"
    }
   ],
   "source": [
    "G.nodes.data()"
   ]
  },
  {
   "cell_type": "markdown",
   "id": "54bae070",
   "metadata": {},
   "source": [
    "### 1.3 Arêtes\n",
    "\n",
    "On peut aussi créer un graphe en ajoutant des arêtes directement."
   ]
  },
  {
   "cell_type": "code",
   "execution_count": 14,
   "id": "43538b9c",
   "metadata": {},
   "outputs": [],
   "source": [
    "G = nx.Graph()\n",
    "G.add_edge(1,2)"
   ]
  },
  {
   "cell_type": "code",
   "execution_count": 15,
   "id": "319d5f54",
   "metadata": {},
   "outputs": [
    {
     "data": {
      "text/plain": [
       "EdgeView([(1, 2)])"
      ]
     },
     "execution_count": 15,
     "metadata": {},
     "output_type": "execute_result"
    }
   ],
   "source": [
    "G.edges()"
   ]
  },
  {
   "cell_type": "markdown",
   "id": "52b77342",
   "metadata": {},
   "source": [
    "Par liste d'arêtes..."
   ]
  },
  {
   "cell_type": "code",
   "execution_count": 16,
   "id": "e4bf8343",
   "metadata": {},
   "outputs": [],
   "source": [
    "G.add_edges_from([(2,3),('a',8)])"
   ]
  },
  {
   "cell_type": "code",
   "execution_count": 17,
   "id": "298a3e86",
   "metadata": {},
   "outputs": [
    {
     "data": {
      "text/plain": [
       "NodeView((1, 2, 3, 'a', 8))"
      ]
     },
     "execution_count": 17,
     "metadata": {},
     "output_type": "execute_result"
    }
   ],
   "source": [
    "G.nodes()"
   ]
  },
  {
   "cell_type": "markdown",
   "id": "c6055ead",
   "metadata": {},
   "source": [
    "Une arête est un couple ou un triplet (auquel cas, le troisième élément du triplet est un dictionnaire d'attibuts associés à l'arête)"
   ]
  },
  {
   "cell_type": "code",
   "execution_count": 18,
   "id": "8a9c50c5",
   "metadata": {},
   "outputs": [],
   "source": [
    "G.add_edges_from([(2, 3, {'weight': 3.1415})])"
   ]
  },
  {
   "cell_type": "markdown",
   "id": "e0f86ec0",
   "metadata": {},
   "source": [
    "Pour \"nettoyer\" un graphe, on invoque ```G.clear()```. Alors ```G``` ne contient plus ni sommet ni arête."
   ]
  },
  {
   "cell_type": "code",
   "execution_count": 19,
   "id": "5f766278",
   "metadata": {},
   "outputs": [
    {
     "name": "stdout",
     "output_type": "stream",
     "text": [
      "Graph with 0 nodes and 0 edges\n"
     ]
    }
   ],
   "source": [
    "G.clear()\n",
    "print(G)"
   ]
  },
  {
   "cell_type": "markdown",
   "id": "0f7d8998",
   "metadata": {},
   "source": [
    "### 1.4 Observer les caractéristiques d'un graphe\n",
    "\n",
    "On a accès à quatre propriétés d'un graphe pour l'étudier : ```G.nodes```, ```G.edges```, ```G.degree``` et ```G.adj```."
   ]
  },
  {
   "cell_type": "code",
   "execution_count": 20,
   "id": "febc8da8",
   "metadata": {},
   "outputs": [],
   "source": [
    "G = nx.cycle_graph(7)"
   ]
  },
  {
   "cell_type": "code",
   "execution_count": 21,
   "id": "5eed313f",
   "metadata": {},
   "outputs": [
    {
     "data": {
      "text/plain": [
       "NodeView((0, 1, 2, 3, 4, 5, 6))"
      ]
     },
     "execution_count": 21,
     "metadata": {},
     "output_type": "execute_result"
    }
   ],
   "source": [
    "G.nodes"
   ]
  },
  {
   "cell_type": "code",
   "execution_count": 22,
   "id": "3391014e",
   "metadata": {},
   "outputs": [
    {
     "data": {
      "text/plain": [
       "EdgeView([(0, 1), (0, 6), (1, 2), (2, 3), (3, 4), (4, 5), (5, 6)])"
      ]
     },
     "execution_count": 22,
     "metadata": {},
     "output_type": "execute_result"
    }
   ],
   "source": [
    "G.edges"
   ]
  },
  {
   "cell_type": "code",
   "execution_count": 23,
   "id": "733cc75d",
   "metadata": {},
   "outputs": [
    {
     "data": {
      "text/plain": [
       "DegreeView({0: 2, 1: 2, 2: 2, 3: 2, 4: 2, 5: 2, 6: 2})"
      ]
     },
     "execution_count": 23,
     "metadata": {},
     "output_type": "execute_result"
    }
   ],
   "source": [
    "G.degree"
   ]
  },
  {
   "cell_type": "code",
   "execution_count": 24,
   "id": "d51fe148",
   "metadata": {},
   "outputs": [
    {
     "data": {
      "text/plain": [
       "AdjacencyView({0: {1: {}, 6: {}}, 1: {0: {}, 2: {}}, 2: {1: {}, 3: {}}, 3: {2: {}, 4: {}}, 4: {3: {}, 5: {}}, 5: {4: {}, 6: {}}, 6: {5: {}, 0: {}}})"
      ]
     },
     "execution_count": 24,
     "metadata": {},
     "output_type": "execute_result"
    }
   ],
   "source": [
    "G.adj"
   ]
  },
  {
   "cell_type": "markdown",
   "id": "3ca49329",
   "metadata": {},
   "source": [
    "On peut les consulter simplement, les transformer en liste, set, dict ou tuples."
   ]
  },
  {
   "cell_type": "code",
   "execution_count": 25,
   "id": "313bf5d2",
   "metadata": {},
   "outputs": [
    {
     "data": {
      "text/plain": [
       "[0, 1, 2, 3, 4, 5, 6]"
      ]
     },
     "execution_count": 25,
     "metadata": {},
     "output_type": "execute_result"
    }
   ],
   "source": [
    "list(G.nodes)"
   ]
  },
  {
   "cell_type": "code",
   "execution_count": 26,
   "id": "da29f002",
   "metadata": {},
   "outputs": [
    {
     "data": {
      "text/plain": [
       "{(0, 1), (0, 6), (1, 2), (2, 3), (3, 4), (4, 5), (5, 6)}"
      ]
     },
     "execution_count": 26,
     "metadata": {},
     "output_type": "execute_result"
    }
   ],
   "source": [
    "set(G.edges)"
   ]
  },
  {
   "cell_type": "code",
   "execution_count": 27,
   "id": "7012eaa3",
   "metadata": {},
   "outputs": [
    {
     "data": {
      "text/plain": [
       "{0: 2, 1: 2, 2: 2, 3: 2, 4: 2, 5: 2, 6: 2}"
      ]
     },
     "execution_count": 27,
     "metadata": {},
     "output_type": "execute_result"
    }
   ],
   "source": [
    "dict(G.degree)"
   ]
  },
  {
   "cell_type": "code",
   "execution_count": 28,
   "id": "c263e7d5",
   "metadata": {},
   "outputs": [
    {
     "data": {
      "text/plain": [
       "{0: AtlasView({1: {}, 6: {}}),\n",
       " 1: AtlasView({0: {}, 2: {}}),\n",
       " 2: AtlasView({1: {}, 3: {}}),\n",
       " 3: AtlasView({2: {}, 4: {}}),\n",
       " 4: AtlasView({3: {}, 5: {}}),\n",
       " 5: AtlasView({4: {}, 6: {}}),\n",
       " 6: AtlasView({5: {}, 0: {}})}"
      ]
     },
     "execution_count": 28,
     "metadata": {},
     "output_type": "execute_result"
    }
   ],
   "source": [
    "dict(G.adj)"
   ]
  },
  {
   "cell_type": "markdown",
   "id": "b0a5fff5",
   "metadata": {},
   "source": [
    "### 1.5 Lire un graphe\n",
    "\n",
    "NetworkX comprend plusieurs types de format de graphes qui peuvent être stockés dans des fichiers. Voir [ici](https://networkx.org/documentation/stable/reference/readwrite/index.html) pour les détails.\n",
    "\n",
    "### 1.6 Utiliser les constructeurs déjà dans NetworkX\n",
    "\n",
    "Les grandes familles de graphe sont facilement accessibles."
   ]
  },
  {
   "cell_type": "code",
   "execution_count": 29,
   "id": "16cdfbd6",
   "metadata": {},
   "outputs": [
    {
     "data": {
      "text/plain": [
       "(NodeView((0, 1, 2, 3, 4, 5, 6, 7, 8, 9)),\n",
       " EdgeView([(0, 1), (0, 4), (0, 5), (1, 2), (1, 6), (2, 3), (2, 7), (3, 4), (3, 8), (4, 9), (5, 7), (5, 8), (6, 8), (6, 9), (7, 9)]))"
      ]
     },
     "execution_count": 29,
     "metadata": {},
     "output_type": "execute_result"
    }
   ],
   "source": [
    "P = nx.petersen_graph()\n",
    "P.nodes(), P.edges"
   ]
  },
  {
   "cell_type": "code",
   "execution_count": 30,
   "id": "7b521e12",
   "metadata": {},
   "outputs": [
    {
     "data": {
      "text/plain": [
       "(NodeView((0, 1, 2, 3, 4, 5, 6, 7, 8, 9)),\n",
       " EdgeView([(0, 1), (0, 9), (1, 2), (2, 3), (3, 4), (4, 5), (5, 6), (6, 7), (7, 8), (8, 9)]))"
      ]
     },
     "execution_count": 30,
     "metadata": {},
     "output_type": "execute_result"
    }
   ],
   "source": [
    "C = nx.cycle_graph(10)\n",
    "C.nodes(), C.edges()"
   ]
  },
  {
   "cell_type": "code",
   "execution_count": 31,
   "id": "318008dd",
   "metadata": {},
   "outputs": [
    {
     "data": {
      "text/plain": [
       "EdgeView([(0, 3), (0, 4), (0, 5), (0, 8), (0, 9), (0, 10), (0, 11), (0, 13), (0, 14), (0, 15), (0, 18), (0, 19), (1, 3), (1, 4), (1, 6), (1, 8), (1, 10), (1, 11), (1, 12), (1, 14), (1, 15), (1, 16), (1, 17), (1, 18), (2, 4), (2, 5), (2, 6), (2, 8), (2, 9), (2, 12), (2, 13), (2, 14), (2, 18), (3, 4), (3, 5), (3, 6), (3, 8), (3, 9), (3, 10), (3, 12), (3, 13), (3, 14), (3, 15), (3, 16), (4, 5), (4, 6), (4, 7), (4, 8), (4, 9), (4, 11), (4, 12), (4, 13), (4, 14), (4, 15), (4, 16), (4, 17), (4, 18), (4, 19), (5, 6), (5, 7), (5, 8), (5, 9), (5, 10), (5, 11), (5, 12), (5, 13), (5, 14), (5, 15), (5, 18), (6, 8), (6, 10), (6, 11), (6, 12), (6, 13), (6, 15), (6, 16), (6, 18), (6, 19), (7, 8), (7, 9), (7, 10), (7, 12), (7, 15), (7, 16), (7, 17), (7, 18), (8, 9), (8, 10), (8, 11), (8, 12), (8, 13), (8, 15), (8, 17), (8, 18), (8, 19), (9, 10), (9, 12), (9, 14), (9, 15), (9, 19), (10, 11), (10, 12), (10, 13), (10, 14), (10, 15), (10, 17), (10, 18), (11, 12), (11, 13), (11, 15), (11, 16), (11, 17), (11, 19), (12, 13), (12, 14), (12, 15), (12, 16), (12, 17), (12, 19), (13, 14), (13, 15), (13, 16), (13, 18), (14, 15), (14, 16), (14, 18), (15, 17), (15, 18), (15, 19), (16, 19), (17, 18), (18, 19)])"
      ]
     },
     "execution_count": 31,
     "metadata": {},
     "output_type": "execute_result"
    }
   ],
   "source": [
    "G = nx.erdos_renyi_graph(20,0.7)\n",
    "G.edges()"
   ]
  },
  {
   "cell_type": "markdown",
   "id": "b9b71a98",
   "metadata": {},
   "source": [
    "### 1.7 Analyse du graphe\n",
    "\n",
    "Observez le comportement des fonctions suivantes."
   ]
  },
  {
   "cell_type": "code",
   "execution_count": 32,
   "id": "6032e09a",
   "metadata": {},
   "outputs": [],
   "source": [
    "G = nx.Graph()\n",
    "G.add_edges_from([(1,2), (1,3), (2,3), (4,5)])"
   ]
  },
  {
   "cell_type": "code",
   "execution_count": 33,
   "id": "521364b1",
   "metadata": {},
   "outputs": [
    {
     "data": {
      "text/plain": [
       "[{1, 2, 3}, {4, 5}]"
      ]
     },
     "execution_count": 33,
     "metadata": {},
     "output_type": "execute_result"
    }
   ],
   "source": [
    "list(nx.connected_components(G))"
   ]
  },
  {
   "cell_type": "code",
   "execution_count": 34,
   "id": "d8458b1a",
   "metadata": {},
   "outputs": [
    {
     "data": {
      "text/plain": [
       "[1, 1, 2, 2, 2]"
      ]
     },
     "execution_count": 34,
     "metadata": {},
     "output_type": "execute_result"
    }
   ],
   "source": [
    "sorted([d for n,d in G.degree])"
   ]
  },
  {
   "cell_type": "code",
   "execution_count": 35,
   "id": "762d8660",
   "metadata": {},
   "outputs": [
    {
     "data": {
      "text/plain": [
       "{1: 1.0, 2: 1.0, 3: 1.0, 4: 0, 5: 0}"
      ]
     },
     "execution_count": 35,
     "metadata": {},
     "output_type": "execute_result"
    }
   ],
   "source": [
    "nx.clustering(G)"
   ]
  },
  {
   "cell_type": "markdown",
   "id": "0480aff3",
   "metadata": {},
   "source": [
    "### 1.8 Représentation des graphes\n",
    "\n",
    "Même si NetworkX n'est pas destiné à la représentation des graphes (voir plutôt GraphViz ou Gephi ou autres logiciels). Il est possible de représenter les graphes manipulés."
   ]
  },
  {
   "cell_type": "code",
   "execution_count": 36,
   "id": "08e0e24c",
   "metadata": {},
   "outputs": [
    {
     "data": {
      "image/png": "[encoded data removed]",
      "text/plain": [
       "<Figure size 640x480 with 1 Axes>"
      ]
     },
     "metadata": {},
     "output_type": "display_data"
    }
   ],
   "source": [
    "G = nx.cycle_graph(9)\n",
    "nx.draw_networkx(G)"
   ]
  },
  {
   "cell_type": "code",
   "execution_count": 37,
   "id": "485aeaf3",
   "metadata": {},
   "outputs": [
    {
     "data": {
      "image/png": "[encoded data removed]",
      "text/plain": [
       "<Figure size 640x480 with 1 Axes>"
      ]
     },
     "metadata": {},
     "output_type": "display_data"
    }
   ],
   "source": [
    "G = nx.karate_club_graph()\n",
    "nx.draw_networkx(G)"
   ]
  },
  {
   "cell_type": "code",
   "execution_count": 38,
   "id": "1c500042",
   "metadata": {},
   "outputs": [
    {
     "data": {
      "image/png": "[encoded data removed]",
      "text/plain": [
       "<Figure size 640x480 with 2 Axes>"
      ]
     },
     "metadata": {},
     "output_type": "display_data"
    }
   ],
   "source": [
    "import matplotlib.pyplot as plt\n",
    "\n",
    "G = nx.petersen_graph()\n",
    "subax1 = plt.subplot(121)\n",
    "nx.draw(G, with_labels=True, font_weight='bold')\n",
    "subax2 = plt.subplot(122)\n",
    "nx.draw_shell(G, nlist=[range(5, 10), range(5)], with_labels=True, font_weight='bold')"
   ]
  },
  {
   "cell_type": "markdown",
   "id": "3e88bdf7",
   "metadata": {},
   "source": [
    "## 2. Cinéphilie\n",
    "\n",
    "Nous allons étudier le graphe des acteurs d'Hollywood. Regardez à quoi ressemble le fichier ```movies.txt```. Chaque ligne est le titre d'un film suivi des acteurs qui y jouent. Chargez le graphe à l'aide de la commande ```nx.read_adjlist(...,...)```."
   ]
  },
  {
   "cell_type": "code",
   "execution_count": 39,
   "id": "2f748bbe",
   "metadata": {},
   "outputs": [],
   "source": [
    "# Votre code (on appellera le graphe M)"
   ]
  },
  {
   "cell_type": "code",
   "execution_count": 40,
   "id": "0b997287",
   "metadata": {},
   "outputs": [
    {
     "ename": "NameError",
     "evalue": "name 'M' is not defined",
     "output_type": "error",
     "traceback": [
      "\u001b[1;31m---------------------------------------------------------------------------\u001b[0m",
      "\u001b[1;31mNameError\u001b[0m                                 Traceback (most recent call last)",
      "Cell \u001b[1;32mIn[40], line 1\u001b[0m\n\u001b[1;32m----> 1\u001b[0m \u001b[38;5;28mlen\u001b[39m(\u001b[43mM\u001b[49m\u001b[38;5;241m.\u001b[39mnodes), \u001b[38;5;28mlen\u001b[39m(M\u001b[38;5;241m.\u001b[39medges)\n",
      "\u001b[1;31mNameError\u001b[0m: name 'M' is not defined"
     ]
    }
   ],
   "source": [
    "len(M.nodes), len(M.edges)"
   ]
  },
  {
   "cell_type": "markdown",
   "id": "27df432f",
   "metadata": {},
   "source": [
    "Les grands graphes de la vraie vie sont souvent remplis de petites composantes connexes et d'une unique géante. On veut garder la géante."
   ]
  },
  {
   "cell_type": "code",
   "execution_count": null,
   "id": "8a4e2b3c",
   "metadata": {},
   "outputs": [],
   "source": [
    "largest_cc = max(nx.connected_components(M), key=len)\n",
    "Mlarge = M.subgraph(largest_cc)\n",
    "Mlarge.number_of_nodes(),Mlarge.number_of_edges()"
   ]
  },
  {
   "cell_type": "markdown",
   "id": "d83dd8c5",
   "metadata": {},
   "source": [
    "Le [Bacon Number](https://en.wikipedia.org/wiki/Six_Degrees_of_Kevin_Bacon#Bacon_numbers) d'un acteur (inspiré par le [Erdős number](https://en.wikipedia.org/wiki/Erd%C5%91s_number) pour les mathématiciens) est défini comme suit :\n",
    "* Kevin Bacon a le nombre 0,\n",
    "* Étant donné un acteur, son Bacon number est le plus petit Bacon number de ses co-acteurs augmenté de 1.\n",
    "\n",
    "Kevin Bacon a été choisi en raison de sa filmographie conséquente. Il fait effectivement partie de notre composante géante du graphe de tournages.\n",
    "\n",
    "### À vous de jouer \n",
    "\n",
    "_Écrire une fonction qui prend un nom d'acteur en argument et renvoie son Bacon number._"
   ]
  },
  {
   "cell_type": "code",
   "execution_count": null,
   "id": "cad1390a",
   "metadata": {},
   "outputs": [],
   "source": [
    "# Votre code"
   ]
  },
  {
   "cell_type": "markdown",
   "id": "d012f503",
   "metadata": {},
   "source": [
    "On se fiche un peu des films en commun. \n",
    "\n",
    "_Comment restreindre le graphe uniquement aux acteurs (une arête si deux acteurs on joué dans un film en commun)?_"
   ]
  },
  {
   "cell_type": "code",
   "execution_count": null,
   "id": "222752c9",
   "metadata": {},
   "outputs": [],
   "source": [
    "# Votre code"
   ]
  },
  {
   "cell_type": "markdown",
   "id": "e7118431",
   "metadata": {},
   "source": [
    "_Rédiger une fonction alternative qui renvoie le Bacon number en explorant ce nouveau graphe._"
   ]
  },
  {
   "cell_type": "code",
   "execution_count": null,
   "id": "24c57b82",
   "metadata": {},
   "outputs": [],
   "source": [
    "# Votre code"
   ]
  },
  {
   "cell_type": "markdown",
   "id": "a800f7f7",
   "metadata": {},
   "source": [
    "_Quel est le Bacon number moyen des acteurs du graphe ?_"
   ]
  },
  {
   "cell_type": "code",
   "execution_count": null,
   "id": "39f74b7c",
   "metadata": {},
   "outputs": [],
   "source": []
  },
  {
   "cell_type": "markdown",
   "id": "d4964d23",
   "metadata": {},
   "source": [
    "On se demande pourquoi on a choisi Kevin Bacon comme point de référence. \n",
    "\n",
    "_Afficher l'histogramme des degrés du graphes pour déterminer qui sont les acteurs ayant co-joué avec le plus de monde._"
   ]
  },
  {
   "cell_type": "code",
   "execution_count": null,
   "id": "11cceb25",
   "metadata": {},
   "outputs": [],
   "source": []
  },
  {
   "cell_type": "code",
   "execution_count": null,
   "id": "df5c5dac",
   "metadata": {},
   "outputs": [],
   "source": []
  },
  {
   "cell_type": "markdown",
   "id": "618720be",
   "metadata": {},
   "source": [
    "_Écrire une fonction qui renvoie le 'Actor' number moyen pour un 'Actor' donné._"
   ]
  },
  {
   "cell_type": "code",
   "execution_count": null,
   "id": "442b2957",
   "metadata": {},
   "outputs": [],
   "source": []
  },
  {
   "cell_type": "markdown",
   "id": "b339c40c",
   "metadata": {},
   "source": [
    "_Quel est l'acteur de plus gros degré dans le graphe ?_"
   ]
  },
  {
   "cell_type": "code",
   "execution_count": null,
   "id": "4c4538f4",
   "metadata": {},
   "outputs": [],
   "source": []
  },
  {
   "cell_type": "markdown",
   "id": "bbb2b96f",
   "metadata": {},
   "source": [
    "_Lister les 10 premiers acteurs en terme de degré._"
   ]
  },
  {
   "cell_type": "code",
   "execution_count": null,
   "id": "39fb2996",
   "metadata": {},
   "outputs": [],
   "source": []
  },
  {
   "cell_type": "markdown",
   "id": "24af084d",
   "metadata": {},
   "source": [
    "_Représenter le diagramme des co-starring vs nb de films._"
   ]
  },
  {
   "cell_type": "code",
   "execution_count": null,
   "id": "a4c38310",
   "metadata": {},
   "outputs": [],
   "source": []
  },
  {
   "cell_type": "markdown",
   "id": "aed0ab05",
   "metadata": {},
   "source": [
    "_Donner un bon candidat pour le prochain Bacon number._"
   ]
  },
  {
   "cell_type": "code",
   "execution_count": null,
   "id": "fcde08f7",
   "metadata": {},
   "outputs": [],
   "source": []
  }
 ],
 "metadata": {
  "kernelspec": {
   "display_name": "env_python",
   "language": "python",
   "name": "python3"
  },
  "language_info": {
   "codemirror_mode": {
    "name": "ipython",
    "version": 3
   },
   "file_extension": ".py",
   "mimetype": "text/x-python",
   "name": "python",
   "nbconvert_exporter": "python",
   "pygments_lexer": "ipython3",
   "version": "3.12.6"
  }
 },
 "nbformat": 4,
 "nbformat_minor": 5
}
