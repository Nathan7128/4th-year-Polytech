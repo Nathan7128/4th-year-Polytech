{
 "cells": [
  {
   "cell_type": "code",
   "execution_count": 1,
   "id": "3a362cdf",
   "metadata": {},
   "outputs": [],
   "source": [
    "%reset -f"
   ]
  },
  {
   "cell_type": "code",
   "execution_count": 2,
   "id": "de0063cd",
   "metadata": {},
   "outputs": [],
   "source": [
    "import numpy as np\n",
    "import time\n",
    "from numpy import linalg as la\n",
    "import scipy.sparse as sp\n",
    "from scipy.sparse.linalg import spsolve\n",
    "import matplotlib.pyplot as plt"
   ]
  },
  {
   "cell_type": "markdown",
   "id": "2fec4e55",
   "metadata": {},
   "source": [
    "# Données :"
   ]
  },
  {
   "cell_type": "raw",
   "id": "bb882fe1",
   "metadata": {},
   "source": [
    "u(x) = x**10"
   ]
  },
  {
   "cell_type": "code",
   "execution_count": 3,
   "id": "8e38b8e8",
   "metadata": {},
   "outputs": [],
   "source": [
    "def f(x):\n",
    "    return -90*x**8 + 20*x**9"
   ]
  },
  {
   "cell_type": "markdown",
   "id": "f51618e8",
   "metadata": {},
   "source": [
    "# Partie A"
   ]
  },
  {
   "cell_type": "markdown",
   "id": "a08cf078",
   "metadata": {},
   "source": [
    "## Première Méthode"
   ]
  },
  {
   "cell_type": "markdown",
   "id": "a78d0dcc",
   "metadata": {},
   "source": [
    "### Avec Numpy"
   ]
  },
  {
   "cell_type": "code",
   "execution_count": 4,
   "id": "44f04286",
   "metadata": {},
   "outputs": [
    {
     "name": "stdout",
     "output_type": "stream",
     "text": [
      "N = 100 et h = 0.01\n",
      "L'erreur est de : 0.0002375627736551228\n",
      "elapsed time : 0.007772684097290039\n",
      "\n"
     ]
    }
   ],
   "source": [
    "start_time = time.time()\n",
    "N = 100\n",
    "h = 1.0/N\n",
    "print(f\"N = {N} et h = {h}\")\n",
    "\n",
    "alpha = 0\n",
    "beta = 1\n",
    "d = 2/h**2\n",
    "v = (-1/h**2) + 1/h\n",
    "l = (-1/h**2) - 1/h\n",
    "\n",
    "# Matrice A\n",
    "A = np.diag(np.zeros(N-1)+d,k=0)\n",
    "A = A + np.diag(np.zeros(N-2)+l,k=-1)\n",
    "A = A + np.diag(np.zeros(N-2)+v,k=1)\n",
    "\n",
    "G = np.zeros(N-1)\n",
    "G[0] = alpha/h**2 + alpha/h\n",
    "G[-1] = beta/h**2 - beta/h\n",
    "\n",
    "x = np.arange(1,N)*h\n",
    "\n",
    "b = f(x) + G\n",
    "\n",
    "sol = x**10\n",
    "\n",
    "y = la.solve(A,b)\n",
    "\n",
    "print(f\"L'erreur est de : {la.norm(y-sol,np.inf)}\")\n",
    "print(f\"elapsed time : {time.time()-start_time}\\n\")"
   ]
  },
  {
   "cell_type": "markdown",
   "id": "ec7b785c",
   "metadata": {},
   "source": [
    "### Avec Scipy"
   ]
  },
  {
   "cell_type": "code",
   "execution_count": 21,
   "id": "0dffcdad",
   "metadata": {},
   "outputs": [
    {
     "name": "stdout",
     "output_type": "stream",
     "text": [
      "N = 100 et h = 0.01\n",
      "L'erreur est de : 0.00023756277365544198\n",
      "elapsed time : 0.0019979476928710938\n",
      "\n"
     ]
    }
   ],
   "source": [
    "start_time = time.time()\n",
    "N = 100\n",
    "h = 1.0/N\n",
    "print(f\"N = {N} et h = {h}\")\n",
    "\n",
    "alpha = 0\n",
    "beta = 1\n",
    "d = 2/h**2\n",
    "v = (-1/h**2) + 1/h\n",
    "l = (-1/h**2) - 1/h\n",
    "\n",
    "offsets = np.array([-1,0,1])\n",
    "data = [l*np.ones(N-1), d*np.ones(N-1), v*np.ones(N-1)]\n",
    "\n",
    "A = sp.dia_matrix((data,offsets), shape=(N-1,N-1))\n",
    "A = sp.csc_matrix(A)\n",
    "\n",
    "G = np.zeros(N-1)\n",
    "G[0] = alpha/h**2 + alpha/h\n",
    "G[-1] = beta/h**2 - beta/h\n",
    "\n",
    "x = np.arange(1,N)*h\n",
    "\n",
    "b = f(x) + G\n",
    "\n",
    "sol = x**10\n",
    "\n",
    "y = spsolve(A,b)\n",
    "\n",
    "print(f\"L'erreur est de : {la.norm(y-sol,np.inf)}\")\n",
    "print(f\"elapsed time : {time.time()-start_time}\\n\")"
   ]
  },
  {
   "cell_type": "markdown",
   "id": "5d645f63",
   "metadata": {},
   "source": [
    "## Deuxième Méthode"
   ]
  },
  {
   "cell_type": "markdown",
   "id": "9740caca",
   "metadata": {},
   "source": [
    "### Avec Numpy"
   ]
  },
  {
   "cell_type": "code",
   "execution_count": 22,
   "id": "dd5ac79e",
   "metadata": {},
   "outputs": [
    {
     "name": "stdout",
     "output_type": "stream",
     "text": [
      "N = 100 et h = 0.01\n",
      "L'erreur est de : 0.0002375627736418695\n",
      "elapsed time : 0.007980108261108398\n",
      "\n"
     ]
    }
   ],
   "source": [
    "start_time = time.time()\n",
    "N = 100\n",
    "h = 1.0/N\n",
    "print(f\"N = {N} et h = {h}\")\n",
    "\n",
    "alpha = 0\n",
    "beta = 1\n",
    "d = 2/h**2\n",
    "v = (-1/h**2) + 1/h\n",
    "l = (-1/h**2) - 1/h\n",
    "\n",
    "# Matrice A\n",
    "A = np.diag(np.zeros(N+1)+d,k=0)\n",
    "A = A + np.diag(np.zeros(N)+l,k=-1)\n",
    "A = A + np.diag(np.zeros(N)+v,k=1)\n",
    "A[0,0],A[0,1] = 1,0\n",
    "A[-1,-1],A[-1,-2] = 1,0\n",
    "\n",
    "x = np.arange(1,N)*h\n",
    "\n",
    "b = np.zeros(N+1)\n",
    "b[0] = alpha\n",
    "b[-1] = beta\n",
    "b[1:N] = f(x)\n",
    "\n",
    "sol = np.zeros(N+1)\n",
    "sol[0] = alpha\n",
    "sol[-1] = beta\n",
    "sol[1:N] = x**10\n",
    "\n",
    "y = la.solve(A,b)\n",
    "\n",
    "print(f\"L'erreur est de : {la.norm(y-sol,np.inf)}\")\n",
    "print(f\"elapsed time : {time.time()-start_time}\\n\")"
   ]
  },
  {
   "cell_type": "markdown",
   "id": "cfd8d7b2",
   "metadata": {},
   "source": [
    "### Avec Scipy"
   ]
  },
  {
   "cell_type": "code",
   "execution_count": 25,
   "id": "d4b5679b",
   "metadata": {},
   "outputs": [
    {
     "name": "stdout",
     "output_type": "stream",
     "text": [
      "N = 100 et h = 0.01\n",
      "L'erreur est de : 0.0002375627736540542\n",
      "elapsed time : 0.001990079879760742\n",
      "\n"
     ]
    }
   ],
   "source": [
    "start_time = time.time()\n",
    "N = 100\n",
    "h = 1.0/N\n",
    "print(f\"N = {N} et h = {h}\")\n",
    "\n",
    "alpha = 0\n",
    "beta = 1\n",
    "d = 2/h**2\n",
    "v = (-1/h**2) + 1/h\n",
    "l = (-1/h**2) - 1/h\n",
    "\n",
    "offsets = np.array([-1,0,1])\n",
    "data = [l*np.ones(N+1), d*np.ones(N+1), v*np.ones(N+1)]\n",
    "\n",
    "A = sp.dia_matrix((data,offsets), shape=(N+1,N+1))\n",
    "A = sp.csc_matrix(A)\n",
    "A[0,0],A[0,1] = 1,0\n",
    "A[-1,-1],A[-1,-2] = 1,0\n",
    "\n",
    "x = np.arange(1,N)*h\n",
    "\n",
    "b = np.zeros(N+1)\n",
    "b[0] = alpha\n",
    "b[-1] = beta\n",
    "b[1:N] = f(x)\n",
    "\n",
    "sol = np.zeros(N+1)\n",
    "sol[0] = alpha\n",
    "sol[-1] = beta\n",
    "sol[1:N] = x**10\n",
    "\n",
    "y = spsolve(A,b)\n",
    "\n",
    "print(f\"L'erreur est de : {la.norm(y-sol,np.inf)}\")\n",
    "print(f\"elapsed time : {time.time()-start_time}\\n\")"
   ]
  },
  {
   "cell_type": "markdown",
   "id": "4e082a3c",
   "metadata": {},
   "source": [
    "# Partie B"
   ]
  },
  {
   "cell_type": "markdown",
   "id": "751157d9",
   "metadata": {},
   "source": [
    "## Schéma n°1"
   ]
  },
  {
   "cell_type": "markdown",
   "id": "d8ae59c8",
   "metadata": {},
   "source": [
    "### Première méthode"
   ]
  },
  {
   "cell_type": "markdown",
   "id": "6d3d6b41",
   "metadata": {},
   "source": [
    "#### Avec Numpy"
   ]
  },
  {
   "cell_type": "code",
   "execution_count": 26,
   "id": "00946cbb",
   "metadata": {},
   "outputs": [
    {
     "name": "stdout",
     "output_type": "stream",
     "text": [
      "N = 100 et h = 0.01\n",
      "L'erreur est de : 0.18815068585518302\n",
      "elapsed time : 0.019986867904663086\n",
      "\n"
     ]
    }
   ],
   "source": [
    "start_time = time.time()\n",
    "N = 100\n",
    "h = 1.0/N\n",
    "print(f\"N = {N} et h = {h}\")\n",
    "\n",
    "alpha = 0\n",
    "beta = 10\n",
    "d = 2/h**2\n",
    "v = (-1/h**2) + 1/h\n",
    "l = (-1/h**2) - 1/h\n",
    "\n",
    "# Matrice A\n",
    "A = np.diag(np.zeros(N-1)+d,k=0)\n",
    "A = A + np.diag(np.zeros(N-2)+l,k=-1)\n",
    "A = A + np.diag(np.zeros(N-2)+v,k=1)\n",
    "A[-1,-1] = 1/h**2 + 1/h\n",
    "\n",
    "G = np.zeros(N-1)\n",
    "G[0] = alpha/h**2 + alpha/h\n",
    "G[-1] = beta/h - beta\n",
    "\n",
    "x = np.arange(1,N)*h\n",
    "\n",
    "b = f(x) + G\n",
    "\n",
    "sol = x**10\n",
    "\n",
    "y = la.solve(A,b)\n",
    "\n",
    "print(f\"L'erreur est de : {la.norm(y-sol,np.inf)}\")\n",
    "print(f\"elapsed time : {time.time()-start_time}\\n\")"
   ]
  },
  {
   "cell_type": "markdown",
   "id": "c89891d1",
   "metadata": {},
   "source": [
    "#### Avec Scipy"
   ]
  },
  {
   "cell_type": "code",
   "execution_count": 28,
   "id": "f4db0528",
   "metadata": {},
   "outputs": [
    {
     "name": "stdout",
     "output_type": "stream",
     "text": [
      "N = 100 et h = 0.01\n",
      "L'erreur est de : 0.18815068585519013\n",
      "elapsed time : 0.0025985240936279297\n",
      "\n"
     ]
    }
   ],
   "source": [
    "start_time = time.time()\n",
    "N = 100\n",
    "h = 1.0/N\n",
    "print(f\"N = {N} et h = {h}\")\n",
    "\n",
    "alpha = 0\n",
    "beta = 10\n",
    "d = 2/h**2\n",
    "v = (-1/h**2) + 1/h\n",
    "l = (-1/h**2) - 1/h\n",
    "\n",
    "offsets = np.array([-1,0,1])\n",
    "data = [l*np.ones(N-1), d*np.ones(N-1), v*np.ones(N-1)]\n",
    "\n",
    "A = sp.dia_matrix((data,offsets), shape=(N-1,N-1))\n",
    "A = sp.csc_matrix(A)\n",
    "A[-1,-1] = 1/h**2 + 1/h\n",
    "\n",
    "G = np.zeros(N-1)\n",
    "G[0] = alpha/h**2 + alpha/h\n",
    "G[-1] = beta/h - beta\n",
    "\n",
    "x = np.arange(1,N)*h\n",
    "\n",
    "b = f(x) + G\n",
    "\n",
    "sol = x**10\n",
    "\n",
    "y = spsolve(A,b)\n",
    "\n",
    "print(f\"L'erreur est de : {la.norm(y-sol,np.inf)}\")\n",
    "print(f\"elapsed time : {time.time()-start_time}\\n\")"
   ]
  },
  {
   "cell_type": "markdown",
   "id": "4691154c",
   "metadata": {},
   "source": [
    "### Deuxième méthode"
   ]
  },
  {
   "cell_type": "markdown",
   "id": "27c520a7",
   "metadata": {},
   "source": [
    "#### Avec Numpy"
   ]
  },
  {
   "cell_type": "code",
   "execution_count": 29,
   "id": "505581bb",
   "metadata": {},
   "outputs": [
    {
     "name": "stdout",
     "output_type": "stream",
     "text": [
      "N = 100 et h = 0.01\n",
      "L'erreur est de : 0.192532760863938\n",
      "elapsed time : 0.007977724075317383\n",
      "\n"
     ]
    }
   ],
   "source": [
    "start_time = time.time()\n",
    "N = 100\n",
    "h = 1.0/N\n",
    "print(f\"N = {N} et h = {h}\")\n",
    "\n",
    "alpha = 0\n",
    "beta = 10\n",
    "d = 2/h**2\n",
    "v = (-1/h**2) + 1/h\n",
    "l = (-1/h**2) - 1/h\n",
    "\n",
    "# Matrice A\n",
    "A = np.diag(np.zeros(N+1)+d,k=0)\n",
    "A = A + np.diag(np.zeros(N)+l,k=-1)\n",
    "A = A + np.diag(np.zeros(N)+v,k=1)\n",
    "A[0,0],A[0,1] = 1,0\n",
    "A[-1,-1], A[-1,-2] = 1/h,-1/h\n",
    "\n",
    "x = np.arange(1,N)*h\n",
    "\n",
    "b = np.zeros(N+1)\n",
    "b[0] = alpha\n",
    "b[-1] = beta\n",
    "b[1:N] = f(x)\n",
    "\n",
    "sol = np.zeros(N+1)\n",
    "sol[0] = alpha\n",
    "sol[-1] = 1\n",
    "sol[1:N] = x**10\n",
    "\n",
    "y = la.solve(A,b)\n",
    "\n",
    "print(f\"L'erreur est de : {la.norm(y-sol,np.inf)}\")\n",
    "print(f\"elapsed time : {time.time()-start_time}\\n\")"
   ]
  },
  {
   "cell_type": "markdown",
   "id": "788188a5",
   "metadata": {},
   "source": [
    "#### Avec Scipy"
   ]
  },
  {
   "cell_type": "code",
   "execution_count": 31,
   "id": "24f4e730",
   "metadata": {},
   "outputs": [
    {
     "name": "stdout",
     "output_type": "stream",
     "text": [
      "N = 100 et h = 0.01\n",
      "L'erreur est de : 0.1925327608639722\n",
      "elapsed time : 0.001993417739868164\n",
      "\n"
     ]
    }
   ],
   "source": [
    "start_time = time.time()\n",
    "N = 100\n",
    "h = 1.0/N\n",
    "print(f\"N = {N} et h = {h}\")\n",
    "\n",
    "alpha = 0\n",
    "beta = 10\n",
    "d = 2/h**2\n",
    "v = (-1/h**2) + 1/h\n",
    "l = (-1/h**2) - 1/h\n",
    "\n",
    "offsets = np.array([-1,0,1])\n",
    "data = [l*np.ones(N+1), d*np.ones(N+1), v*np.ones(N+1)]\n",
    "\n",
    "A = sp.dia_matrix((data,offsets), shape=(N+1,N+1))\n",
    "A = sp.csc_matrix(A)\n",
    "A[0,0],A[0,1] = 1,0\n",
    "A[-1,-1], A[-1,-2] = 1/h,-1/h\n",
    "\n",
    "x = np.arange(1,N)*h\n",
    "\n",
    "b = np.zeros(N+1)\n",
    "b[0] = alpha\n",
    "b[-1] = beta\n",
    "b[1:N] = f(x)\n",
    "\n",
    "sol = np.zeros(N+1)\n",
    "sol[0] = alpha\n",
    "sol[-1] = 1\n",
    "sol[1:N] = x**10\n",
    "\n",
    "y = spsolve(A,b)\n",
    "\n",
    "print(f\"L'erreur est de : {la.norm(y-sol,np.inf)}\")\n",
    "print(f\"elapsed time : {time.time()-start_time}\\n\")"
   ]
  },
  {
   "cell_type": "markdown",
   "id": "7128ed67",
   "metadata": {},
   "source": [
    "## Schéma n°2"
   ]
  },
  {
   "cell_type": "markdown",
   "id": "eb5a5cea",
   "metadata": {},
   "source": [
    "### Première méthode"
   ]
  },
  {
   "cell_type": "markdown",
   "id": "daf9dbe8",
   "metadata": {},
   "source": [
    "#### Avec Numpy"
   ]
  },
  {
   "cell_type": "code",
   "execution_count": 37,
   "id": "961d9a5f",
   "metadata": {},
   "outputs": [
    {
     "name": "stdout",
     "output_type": "stream",
     "text": [
      "N = 100 et h = 0.01\n",
      "L'erreur est de : 3.416957577247845\n",
      "elapsed time : 0.03544282913208008\n",
      "\n"
     ]
    }
   ],
   "source": [
    "start_time = time.time()\n",
    "N = 100\n",
    "h = 1.0/N\n",
    "print(f\"N = {N} et h = {h}\")\n",
    "\n",
    "alpha = 0\n",
    "beta = 10\n",
    "d = 2/h**2\n",
    "v = (-1/h**2) + 1/h\n",
    "l = (-1/h**2) - 1/h\n",
    "\n",
    "# Matrice A\n",
    "A = np.diag(np.zeros(N-1)+d,k=0)\n",
    "A = A + np.diag(np.zeros(N-2)+l,k=-1)\n",
    "A = A + np.diag(np.zeros(N-2)+v,k=1)\n",
    "A[-1,-1] = 2/h**2 + 2/h\n",
    "A[-1,-2] = -2/h**2 - 1/h\n",
    "\n",
    "G = np.zeros(N-1)\n",
    "G[0] = alpha/h**2 + alpha/h\n",
    "G[-1] = beta*(2/3)*h - beta\n",
    "\n",
    "x = np.arange(1,N)*h\n",
    "\n",
    "b = f(x) + G\n",
    "\n",
    "sol = x**10\n",
    "\n",
    "y = la.solve(A,b)\n",
    "\n",
    "print(f\"L'erreur est de : {la.norm(y-sol,np.inf)}\")\n",
    "print(f\"elapsed time : {time.time()-start_time}\\n\")"
   ]
  },
  {
   "cell_type": "markdown",
   "id": "8cdb36d3",
   "metadata": {},
   "source": [
    "#### Avec Scipy"
   ]
  },
  {
   "cell_type": "code",
   "execution_count": null,
   "id": "ed065c47",
   "metadata": {},
   "outputs": [],
   "source": []
  },
  {
   "cell_type": "markdown",
   "id": "0a3b17a3",
   "metadata": {},
   "source": [
    "### Deuxième méthode"
   ]
  },
  {
   "cell_type": "markdown",
   "id": "cca61d75",
   "metadata": {},
   "source": [
    "#### Avec Numpy"
   ]
  },
  {
   "cell_type": "code",
   "execution_count": 41,
   "id": "4da0cc66",
   "metadata": {},
   "outputs": [
    {
     "name": "stdout",
     "output_type": "stream",
     "text": [
      "N = 100 et h = 0.01\n",
      "L'erreur est de : 3.5897400132554287\n",
      "elapsed time : 0.009903907775878906\n",
      "\n"
     ]
    }
   ],
   "source": [
    "start_time = time.time()\n",
    "N = 100\n",
    "h = 1.0/N\n",
    "print(f\"N = {N} et h = {h}\")\n",
    "\n",
    "alpha = 0\n",
    "beta = 10\n",
    "d = 2/h**2\n",
    "v = (-1/h**2) + 1/h\n",
    "l = (-1/h**2) - 1/h\n",
    "\n",
    "# Matrice A\n",
    "A = np.diag(np.zeros(N+1)+d,k=0)\n",
    "A = A + np.diag(np.zeros(N)+l,k=-1)\n",
    "A = A + np.diag(np.zeros(N)+v,k=1)\n",
    "A[0,0],A[0,1] = 1,0\n",
    "A[-1,-1] = 2/h**2 + 2/h\n",
    "A[-1,-2] = -2/h**2 - 1/h\n",
    "\n",
    "x = np.arange(1,N)*h\n",
    "\n",
    "b = np.zeros(N+1)\n",
    "b[0] = alpha\n",
    "b[-1] = beta\n",
    "b[1:N] = f(x)\n",
    "\n",
    "sol = np.zeros(N+1)\n",
    "sol[0] = alpha\n",
    "sol[-1] = 1\n",
    "sol[1:N] = x**10\n",
    "\n",
    "y = la.solve(A,b)\n",
    "\n",
    "print(f\"L'erreur est de : {la.norm(y-sol,np.inf)}\")\n",
    "print(f\"elapsed time : {time.time()-start_time}\\n\")"
   ]
  },
  {
   "cell_type": "markdown",
   "id": "8c3af839",
   "metadata": {},
   "source": [
    "#### Avec Numpy"
   ]
  },
  {
   "cell_type": "code",
   "execution_count": null,
   "id": "ebfc5cce",
   "metadata": {},
   "outputs": [],
   "source": []
  },
  {
   "cell_type": "markdown",
   "id": "5f031f01",
   "metadata": {},
   "source": [
    "# Partie C"
   ]
  },
  {
   "cell_type": "code",
   "execution_count": 1,
   "id": "d287c101",
   "metadata": {},
   "outputs": [],
   "source": [
    "def f_1(x):\n",
    "    return -90*x**8 + np.pi**2*x**10"
   ]
  },
  {
   "cell_type": "markdown",
   "id": "9b2e7fe7",
   "metadata": {},
   "source": [
    "## Schéma n°1"
   ]
  },
  {
   "cell_type": "markdown",
   "id": "a749973e",
   "metadata": {},
   "source": [
    "### Première méthode"
   ]
  },
  {
   "cell_type": "markdown",
   "id": "0524b358",
   "metadata": {},
   "source": [
    "#### Avec Numpy"
   ]
  },
  {
   "cell_type": "code",
   "execution_count": 25,
   "id": "44e7143e",
   "metadata": {},
   "outputs": [
    {
     "name": "stdout",
     "output_type": "stream",
     "text": [
      "N = 40 et h = 0.025\n",
      "L'erreur est de : 0.0019356167749897402\n",
      "elapsed time : 0.0009958744049072266\n",
      "\n"
     ]
    }
   ],
   "source": [
    "# Partie C : 1er systeme Premiere methode\n",
    "start_time = time.time()\n",
    "N = 40\n",
    "h = 1.0/N\n",
    "print(f\"N = {N} et h = {h}\")\n",
    "\n",
    "alpha = 0\n",
    "beta = 1\n",
    "d = 2/h**2 + np.pi**2\n",
    "v = -1/h**2\n",
    "l = -1/h**2\n",
    "\n",
    "# Matrice A\n",
    "A = np.diag(np.zeros(N-1)+d,k=0)\n",
    "A = A + np.diag(np.zeros(N-2)+l,k=-1)\n",
    "A = A + np.diag(np.zeros(N-2)+v,k=1)\n",
    "\n",
    "G = np.zeros(N-1)\n",
    "G[0] = alpha/h**2\n",
    "G[-1] = beta/h**2\n",
    "\n",
    "x = np.arange(1,N)*h\n",
    "\n",
    "b = f_1(x) + G\n",
    "\n",
    "sol = x**10\n",
    "\n",
    "y = la.solve(A,b)\n",
    "\n",
    "print(f\"L'erreur est de : {la.norm(y-sol,np.inf)}\")\n",
    "print(f\"elapsed time : {time.time()-start_time}\\n\")"
   ]
  },
  {
   "cell_type": "code",
   "execution_count": 26,
   "id": "b68cf7f8",
   "metadata": {
    "scrolled": true
   },
   "outputs": [
    {
     "data": {
      "image/png": "[encoded data removed]",
      "text/plain": [
       "<Figure size 640x480 with 1 Axes>"
      ]
     },
     "metadata": {},
     "output_type": "display_data"
    }
   ],
   "source": [
    "if (N<50):\n",
    "    plt.plot(x,y,'bo')\n",
    "plt.plot(x,sol)\n",
    "plt.xlabel(u'$x$',fontsize=14)\n",
    "plt.title(u'Solution u')\n",
    "plt.show()"
   ]
  },
  {
   "cell_type": "markdown",
   "id": "f15ff9c5",
   "metadata": {},
   "source": [
    "#### Avec Scipy"
   ]
  },
  {
   "cell_type": "code",
   "execution_count": null,
   "id": "289ee737",
   "metadata": {},
   "outputs": [],
   "source": []
  },
  {
   "cell_type": "markdown",
   "id": "c0c94152",
   "metadata": {},
   "source": [
    "### Deuxième méthode"
   ]
  },
  {
   "cell_type": "markdown",
   "id": "31261e55",
   "metadata": {},
   "source": [
    "#### Avec Numpy"
   ]
  },
  {
   "cell_type": "code",
   "execution_count": null,
   "id": "376b319b",
   "metadata": {},
   "outputs": [],
   "source": []
  },
  {
   "cell_type": "markdown",
   "id": "e7e3ab18",
   "metadata": {},
   "source": [
    "#### Avec Scipy"
   ]
  },
  {
   "cell_type": "code",
   "execution_count": null,
   "id": "66933e6e",
   "metadata": {},
   "outputs": [],
   "source": []
  },
  {
   "cell_type": "markdown",
   "id": "5897ff84",
   "metadata": {},
   "source": [
    "## Schéma n°2"
   ]
  },
  {
   "cell_type": "markdown",
   "id": "595fc741",
   "metadata": {},
   "source": [
    "### Première méthode"
   ]
  },
  {
   "cell_type": "markdown",
   "id": "337eb756",
   "metadata": {},
   "source": [
    "#### Avec Numpy"
   ]
  },
  {
   "cell_type": "code",
   "execution_count": 33,
   "id": "76edcd26",
   "metadata": {},
   "outputs": [],
   "source": [
    "def f_2(x):\n",
    "    return 90*x**8 + np.pi**2*x**10"
   ]
  },
  {
   "cell_type": "code",
   "execution_count": 34,
   "id": "9be4f2d2",
   "metadata": {},
   "outputs": [
    {
     "name": "stdout",
     "output_type": "stream",
     "text": [
      "N = 49 et h = 0.02040816326530612\n",
      "L'erreur est de : 5.204646278465421\n",
      "elapsed time : 0.0009975433349609375\n",
      "\n"
     ]
    }
   ],
   "source": [
    "# Partie C : 2e systeme Premiere methode\n",
    "start_time = time.time()\n",
    "N = 49\n",
    "h = 1.0/N\n",
    "print(f\"N = {N} et h = {h}\")\n",
    "\n",
    "alpha = 0\n",
    "beta = 1\n",
    "d = -2/h**2 + np.pi**2\n",
    "v = 1/h**2\n",
    "l = 1/h**2\n",
    "\n",
    "# Matrice A\n",
    "A = np.diag(np.zeros(N-1)+d,k=0)\n",
    "A = A + np.diag(np.zeros(N-2)+l,k=-1)\n",
    "A = A + np.diag(np.zeros(N-2)+v,k=1)\n",
    "\n",
    "G = np.zeros(N-1)\n",
    "G[0] = -alpha/h**2\n",
    "G[-1] = -beta/h**2\n",
    "\n",
    "x = np.arange(1,N)*h\n",
    "\n",
    "b = f_2(x) + G\n",
    "\n",
    "sol = x**10\n",
    "\n",
    "y = la.solve(A,b)\n",
    "\n",
    "print(f\"L'erreur est de : {la.norm(y-sol,np.inf)}\")\n",
    "print(f\"elapsed time : {time.time()-start_time}\\n\")"
   ]
  },
  {
   "cell_type": "code",
   "execution_count": 35,
   "id": "deec26ee",
   "metadata": {},
   "outputs": [
    {
     "data": {
      "image/png": "[encoded data removed]",
      "text/plain": [
       "<Figure size 640x480 with 1 Axes>"
      ]
     },
     "metadata": {},
     "output_type": "display_data"
    }
   ],
   "source": [
    "if (N<50):\n",
    "    plt.plot(x,y,'bo')\n",
    "plt.plot(x,sol)\n",
    "plt.xlabel(u'$x$',fontsize=14)\n",
    "plt.title(u'Solution u')\n",
    "plt.show()"
   ]
  },
  {
   "cell_type": "markdown",
   "id": "0ba9acf5",
   "metadata": {},
   "source": [
    "#### Avec Scipy"
   ]
  },
  {
   "cell_type": "code",
   "execution_count": null,
   "id": "e51c0c49",
   "metadata": {},
   "outputs": [],
   "source": []
  },
  {
   "cell_type": "markdown",
   "id": "9819b89a",
   "metadata": {},
   "source": [
    "### Deuxième méthode"
   ]
  },
  {
   "cell_type": "markdown",
   "id": "5d0a4b1b",
   "metadata": {},
   "source": [
    "#### Avec Numpy"
   ]
  },
  {
   "cell_type": "code",
   "execution_count": null,
   "id": "4b5bbcd2",
   "metadata": {},
   "outputs": [],
   "source": []
  },
  {
   "cell_type": "markdown",
   "id": "6d6a9fbd",
   "metadata": {},
   "source": [
    "#### Avec Scipy"
   ]
  },
  {
   "cell_type": "code",
   "execution_count": null,
   "id": "e7424489",
   "metadata": {},
   "outputs": [],
   "source": []
  }
 ],
 "metadata": {
  "kernelspec": {
   "display_name": "Python 3 (ipykernel)",
   "language": "python",
   "name": "python3"
  },
  "language_info": {
   "codemirror_mode": {
    "name": "ipython",
    "version": 3
   },
   "file_extension": ".py",
   "mimetype": "text/x-python",
   "name": "python",
   "nbconvert_exporter": "python",
   "pygments_lexer": "ipython3",
   "version": "3.10.9"
  }
 },
 "nbformat": 4,
 "nbformat_minor": 5
}
