{
 "cells": [
  {
   "cell_type": "code",
   "execution_count": 123,
   "id": "e9b508d6",
   "metadata": {},
   "outputs": [
    {
     "name": "stdout",
     "output_type": "stream",
     "text": [
      "N = 100 et h = 0.01\n",
      "L'erreur est de : 8.225076221157757e-05\n",
      "elapsed time : 0.08776521682739258\n",
      "\n"
     ]
    }
   ],
   "source": [
    "# Q1\n",
    "import numpy as np\n",
    "import time\n",
    "from numpy import linalg as la\n",
    "\n",
    "start_time = time.time()\n",
    "N = 100\n",
    "h = 1.0/N\n",
    "print(f\"N = {N} et h = {h}\")\n",
    "\n",
    "# Matrice A\n",
    "A = np.diag(np.zeros(N-1)+2,k=0)\n",
    "A = A + np.diag(np.zeros(N-2)-1,k=-1)\n",
    "A = A + np.diag(np.zeros(N-2)-1,k=1)\n",
    "A = A/h**2\n",
    "\n",
    "x = np.arange(1,N)*h\n",
    "b = np.pi**2*np.sin(x*np.pi)\n",
    "sol = np.sin(x*np.pi)\n",
    "y = la.solve(A,b)\n",
    "\n",
    "print(f\"L'erreur est de : {la.norm(y-sol,np.inf)}\")\n",
    "print(f\"elapsed time : {time.time()-start_time}\\n\")"
   ]
  },
  {
   "cell_type": "code",
   "execution_count": 130,
   "id": "8ec53193",
   "metadata": {},
   "outputs": [
    {
     "name": "stdout",
     "output_type": "stream",
     "text": [
      "N = 100 et h = 0.01\n",
      "L'erreur est de : 8.225076221202166e-05\n",
      "elapsed time : 0.0019943714141845703\n",
      "\n"
     ]
    }
   ],
   "source": [
    "# Q2\n",
    "import numpy as np\n",
    "import time\n",
    "from numpy import linalg as la\n",
    "import scipy.sparse as sp\n",
    "from scipy.sparse.linalg import spsolve\n",
    "\n",
    "start_time = time.time()\n",
    "N = 100\n",
    "h = 1.0/N\n",
    "print(f\"N = {N} et h = {h}\")\n",
    "\n",
    "offsets = np.array([-1,0,1])\n",
    "data = [-np.ones(N-1), 2*np.ones(N-1), -np.ones(N-1)]\n",
    "\n",
    "A = sp.dia_matrix((data,offsets), shape=(N-1,N-1))\n",
    "A = A/h**2\n",
    "\n",
    "x = np.arange(1,N)*h\n",
    "b = np.pi**2*np.sin(x*np.pi)\n",
    "sol = np.sin(x*np.pi)\n",
    "y = spsolve(A,b)\n",
    "\n",
    "print(f\"L'erreur est de : {la.norm(y-sol,np.inf)}\")\n",
    "print(f\"elapsed time : {time.time()-start_time}\\n\")"
   ]
  },
  {
   "cell_type": "code",
   "execution_count": 148,
   "id": "f3007d98",
   "metadata": {},
   "outputs": [
    {
     "name": "stdout",
     "output_type": "stream",
     "text": [
      "N = 1000 et h = 0.001\n",
      "L'erreur est de : 3.5127456499139953e-13\n",
      "elapsed time : 0.008975744247436523\n",
      "\n"
     ]
    }
   ],
   "source": [
    "# Q3 avec alpha=beta=0\n",
    "import numpy as np\n",
    "import time\n",
    "from numpy import linalg as la\n",
    "import scipy.sparse as sp\n",
    "from scipy.sparse.linalg import spsolve\n",
    "\n",
    "def f(x):\n",
    "    return np.pi**2*np.sin(x*np.pi)\n",
    "\n",
    "start_time = time.time()\n",
    "N = 1000\n",
    "h = 1.0/N\n",
    "print(f\"N = {N} et h = {h}\")\n",
    "\n",
    "offsets = np.array([-1,0,1])\n",
    "data = [-np.ones(N-1), 2*np.ones(N-1), -np.ones(N-1)]\n",
    "\n",
    "A = sp.dia_matrix((data,offsets), shape=(N-1,N-1))\n",
    "A = A/h**2\n",
    "\n",
    "alpha = 0\n",
    "beta = 0\n",
    "x = np.arange(1,N)*h\n",
    "b = np.zeros(x.shape)\n",
    "b[0] = (1/12)*(f(x[1])+10*f(x[0])) + alpha/h**2\n",
    "for i in range(1,x.shape[0]-1):\n",
    "    b[i] = (1/12)*(f(x[i-1])+10*f(x[i])+f(x[i+1]))\n",
    "b[-1] = (1/12)*(f(x[-2])+10*f(x[-1])) + beta/h**2\n",
    "sol = np.sin(x*np.pi)\n",
    "y = spsolve(A,b)\n",
    "\n",
    "print(f\"L'erreur est de : {la.norm(y-sol,np.inf)}\")\n",
    "print(f\"elapsed time : {time.time()-start_time}\\n\")"
   ]
  },
  {
   "cell_type": "code",
   "execution_count": 152,
   "id": "cfd35330",
   "metadata": {},
   "outputs": [
    {
     "name": "stdout",
     "output_type": "stream",
     "text": [
      "N = 100 et h = 0.01\n",
      "L'erreur est de : 4.05886479981632e-09\n",
      "elapsed time : 0.003991127014160156\n",
      "\n"
     ]
    }
   ],
   "source": [
    "# Q3 avec alpha=1 et beta=2\n",
    "import numpy as np\n",
    "import time\n",
    "from numpy import linalg as la\n",
    "import scipy.sparse as sp\n",
    "from scipy.sparse.linalg import spsolve\n",
    "\n",
    "def f(x):\n",
    "    return np.pi**2*np.sin(x*np.pi)\n",
    "\n",
    "start_time = time.time()\n",
    "N = 100\n",
    "h = 1.0/N\n",
    "print(f\"N = {N} et h = {h}\")\n",
    "\n",
    "offsets = np.array([-1,0,1])\n",
    "data = [-np.ones(N-1), 2*np.ones(N-1), -np.ones(N-1)]\n",
    "\n",
    "A = sp.dia_matrix((data,offsets), shape=(N-1,N-1))\n",
    "A = A/h**2\n",
    "\n",
    "alpha = 1\n",
    "beta = 2\n",
    "x = np.arange(1,N)*h\n",
    "b = np.zeros(x.shape)\n",
    "b[0] = (1/12)*(f(x[1])+10*f(x[0])) + alpha/h**2\n",
    "for i in range(1,x.shape[0]-1):\n",
    "    b[i] = (1/12)*(f(x[i-1])+10*f(x[i])+f(x[i+1]))\n",
    "b[-1] = (1/12)*(f(x[-2])+10*f(x[-1])) + beta/h**2\n",
    "sol = np.sin(x*np.pi)+x+1\n",
    "y = spsolve(A,b)\n",
    "\n",
    "print(f\"L'erreur est de : {la.norm(y-sol,np.inf)}\")\n",
    "print(f\"elapsed time : {time.time()-start_time}\\n\")"
   ]
  },
  {
   "cell_type": "code",
   "execution_count": 153,
   "id": "8fb1eec5",
   "metadata": {},
   "outputs": [
    {
     "name": "stdout",
     "output_type": "stream",
     "text": [
      "N = 10000 et h = 0.0001\n",
      "L'erreur est de : 0.0004934144050310341\n",
      "elapsed time : 0.006983041763305664\n",
      "\n"
     ]
    }
   ],
   "source": [
    "# Q4\n",
    "import numpy as np\n",
    "import time\n",
    "from numpy import linalg as la\n",
    "import scipy.sparse as sp\n",
    "from scipy.sparse.linalg import spsolve\n",
    "\n",
    "start_time = time.time()\n",
    "N = 10000\n",
    "h = 1.0/N\n",
    "print(f\"N = {N} et h = {h}\")\n",
    "\n",
    "offsets = np.array([-1,0,1])\n",
    "vect = 2*np.ones(N-1)\n",
    "vect[-1] = 1\n",
    "data = [-np.ones(N-1), vect, -np.ones(N-1)]\n",
    "\n",
    "A = sp.dia_matrix((data,offsets), shape=(N-1,N-1))\n",
    "A = A/h**2\n",
    "\n",
    "\n",
    "x = np.arange(1,N)*h\n",
    "b = np.pi**2*np.cos(x*np.pi)\n",
    "sol = np.cos(x*np.pi)-1\n",
    "y = spsolve(A,b)\n",
    "\n",
    "print(f\"L'erreur est de : {la.norm(y-sol,np.inf)}\")\n",
    "print(f\"elapsed time : {time.time()-start_time}\\n\")"
   ]
  },
  {
   "cell_type": "code",
   "execution_count": 157,
   "id": "e1ddc964",
   "metadata": {},
   "outputs": [
    {
     "name": "stdout",
     "output_type": "stream",
     "text": [
      "N = 100 et h = 0.01\n",
      "L'erreur est de : 0.012193076053544472\n",
      "elapsed time : 0.001979351043701172\n",
      "\n"
     ]
    }
   ],
   "source": [
    "# Q4\n",
    "import numpy as np\n",
    "import time\n",
    "from numpy import linalg as la\n",
    "import scipy.sparse as sp\n",
    "from scipy.sparse.linalg import spsolve\n",
    "\n",
    "start_time = time.time()\n",
    "N = 100\n",
    "h = 1.0/N\n",
    "print(f\"N = {N} et h = {h}\")\n",
    "\n",
    "offsets = np.array([-1,0,1])\n",
    "vect = 2*np.ones(N-1)\n",
    "vect[-1] = 1\n",
    "data = [-np.ones(N-1), vect, -np.ones(N-1)]\n",
    "\n",
    "A = sp.dia_matrix((data,offsets), shape=(N-1,N-1))\n",
    "A = A/h**2\n",
    "\n",
    "\n",
    "x = np.arange(1,N)*h\n",
    "b = (np.pi/2)**2*np.sin(x*(np.pi/2))\n",
    "sol = np.sin(x*(np.pi/2))\n",
    "y = spsolve(A,b)\n",
    "\n",
    "print(f\"L'erreur est de : {la.norm(y-sol,np.inf)}\")\n",
    "print(f\"elapsed time : {time.time()-start_time}\\n\")"
   ]
  }
 ],
 "metadata": {
  "kernelspec": {
   "display_name": "Python 3 (ipykernel)",
   "language": "python",
   "name": "python3"
  },
  "language_info": {
   "codemirror_mode": {
    "name": "ipython",
    "version": 3
   },
   "file_extension": ".py",
   "mimetype": "text/x-python",
   "name": "python",
   "nbconvert_exporter": "python",
   "pygments_lexer": "ipython3",
   "version": "3.7.16"
  }
 },
 "nbformat": 4,
 "nbformat_minor": 5
}
