{
 "cells": [
  {
   "cell_type": "code",
   "execution_count": 66,
   "metadata": {},
   "outputs": [],
   "source": [
    "# Importating libraries\n",
    "\n",
    "import numpy as np\n",
    "from keras import models, losses, layers, metrics\n",
    "import matplotlib.pyplot as plt\n",
    "from sklearn.model_selection import StratifiedKFold\n",
    "import pandas as pd"
   ]
  },
  {
   "cell_type": "code",
   "execution_count": 46,
   "metadata": {},
   "outputs": [
    {
     "data": {
      "text/plain": [
       "(768, 9)"
      ]
     },
     "execution_count": 46,
     "metadata": {},
     "output_type": "execute_result"
    }
   ],
   "source": [
    "#load dataset\n",
    "dataset = np.loadtxt(\"pima-indians-diabetes.csv\", delimiter = \",\")\n",
    "dataset.shape"
   ]
  },
  {
   "cell_type": "code",
   "execution_count": 50,
   "metadata": {},
   "outputs": [],
   "source": [
    "#split data\n",
    "X = dataset[:, :-1]\n",
    "y = dataset[:, -1]\n",
    "mean = X.mean(axis = 0)\n",
    "std = X.std(axis = 0)\n",
    "X = (X - mean)/std"
   ]
  },
  {
   "cell_type": "markdown",
   "metadata": {},
   "source": [
    "1. Basic neural networks"
   ]
  },
  {
   "cell_type": "code",
   "execution_count": 51,
   "metadata": {},
   "outputs": [
    {
     "name": "stdout",
     "output_type": "stream",
     "text": [
      "Epoch 1/30\n",
      "\u001b[1m26/26\u001b[0m \u001b[32m━━━━━━━━━━━━━━━━━━━━\u001b[0m\u001b[37m\u001b[0m \u001b[1m1s\u001b[0m 7ms/step - binary_accuracy: 0.6146 - loss: 1.2964 - val_binary_accuracy: 0.6732 - val_loss: 0.8531\n",
      "Epoch 2/30\n",
      "\u001b[1m26/26\u001b[0m \u001b[32m━━━━━━━━━━━━━━━━━━━━\u001b[0m\u001b[37m\u001b[0m \u001b[1m0s\u001b[0m 2ms/step - binary_accuracy: 0.6393 - loss: 0.8791 - val_binary_accuracy: 0.6772 - val_loss: 0.6910\n",
      "Epoch 3/30\n",
      "\u001b[1m26/26\u001b[0m \u001b[32m━━━━━━━━━━━━━━━━━━━━\u001b[0m\u001b[37m\u001b[0m \u001b[1m0s\u001b[0m 3ms/step - binary_accuracy: 0.6359 - loss: 0.7269 - val_binary_accuracy: 0.6929 - val_loss: 0.6157\n",
      "Epoch 4/30\n",
      "\u001b[1m26/26\u001b[0m \u001b[32m━━━━━━━━━━━━━━━━━━━━\u001b[0m\u001b[37m\u001b[0m \u001b[1m0s\u001b[0m 2ms/step - binary_accuracy: 0.6425 - loss: 0.6524 - val_binary_accuracy: 0.7165 - val_loss: 0.5709\n",
      "Epoch 5/30\n",
      "\u001b[1m26/26\u001b[0m \u001b[32m━━━━━━━━━━━━━━━━━━━━\u001b[0m\u001b[37m\u001b[0m \u001b[1m0s\u001b[0m 2ms/step - binary_accuracy: 0.6801 - loss: 0.5891 - val_binary_accuracy: 0.7441 - val_loss: 0.5367\n",
      "Epoch 6/30\n",
      "\u001b[1m26/26\u001b[0m \u001b[32m━━━━━━━━━━━━━━━━━━━━\u001b[0m\u001b[37m\u001b[0m \u001b[1m0s\u001b[0m 2ms/step - binary_accuracy: 0.7043 - loss: 0.5750 - val_binary_accuracy: 0.7402 - val_loss: 0.5093\n",
      "Epoch 7/30\n",
      "\u001b[1m26/26\u001b[0m \u001b[32m━━━━━━━━━━━━━━━━━━━━\u001b[0m\u001b[37m\u001b[0m \u001b[1m0s\u001b[0m 2ms/step - binary_accuracy: 0.7344 - loss: 0.5453 - val_binary_accuracy: 0.7559 - val_loss: 0.4901\n",
      "Epoch 8/30\n",
      "\u001b[1m26/26\u001b[0m \u001b[32m━━━━━━━━━━━━━━━━━━━━\u001b[0m\u001b[37m\u001b[0m \u001b[1m0s\u001b[0m 2ms/step - binary_accuracy: 0.7285 - loss: 0.5435 - val_binary_accuracy: 0.7677 - val_loss: 0.4728\n",
      "Epoch 9/30\n",
      "\u001b[1m26/26\u001b[0m \u001b[32m━━━━━━━━━━━━━━━━━━━━\u001b[0m\u001b[37m\u001b[0m \u001b[1m0s\u001b[0m 2ms/step - binary_accuracy: 0.7182 - loss: 0.5399 - val_binary_accuracy: 0.7795 - val_loss: 0.4626\n",
      "Epoch 10/30\n",
      "\u001b[1m26/26\u001b[0m \u001b[32m━━━━━━━━━━━━━━━━━━━━\u001b[0m\u001b[37m\u001b[0m \u001b[1m0s\u001b[0m 2ms/step - binary_accuracy: 0.7771 - loss: 0.4756 - val_binary_accuracy: 0.7874 - val_loss: 0.4548\n",
      "Epoch 11/30\n",
      "\u001b[1m26/26\u001b[0m \u001b[32m━━━━━━━━━━━━━━━━━━━━\u001b[0m\u001b[37m\u001b[0m \u001b[1m0s\u001b[0m 2ms/step - binary_accuracy: 0.7418 - loss: 0.5211 - val_binary_accuracy: 0.7835 - val_loss: 0.4494\n",
      "Epoch 12/30\n",
      "\u001b[1m26/26\u001b[0m \u001b[32m━━━━━━━━━━━━━━━━━━━━\u001b[0m\u001b[37m\u001b[0m \u001b[1m0s\u001b[0m 2ms/step - binary_accuracy: 0.7564 - loss: 0.4895 - val_binary_accuracy: 0.7874 - val_loss: 0.4468\n",
      "Epoch 13/30\n",
      "\u001b[1m26/26\u001b[0m \u001b[32m━━━━━━━━━━━━━━━━━━━━\u001b[0m\u001b[37m\u001b[0m \u001b[1m0s\u001b[0m 2ms/step - binary_accuracy: 0.7817 - loss: 0.4649 - val_binary_accuracy: 0.7953 - val_loss: 0.4445\n",
      "Epoch 14/30\n",
      "\u001b[1m26/26\u001b[0m \u001b[32m━━━━━━━━━━━━━━━━━━━━\u001b[0m\u001b[37m\u001b[0m \u001b[1m0s\u001b[0m 2ms/step - binary_accuracy: 0.7729 - loss: 0.4894 - val_binary_accuracy: 0.8071 - val_loss: 0.4412\n",
      "Epoch 15/30\n",
      "\u001b[1m26/26\u001b[0m \u001b[32m━━━━━━━━━━━━━━━━━━━━\u001b[0m\u001b[37m\u001b[0m \u001b[1m0s\u001b[0m 2ms/step - binary_accuracy: 0.7468 - loss: 0.4968 - val_binary_accuracy: 0.7992 - val_loss: 0.4398\n",
      "Epoch 16/30\n",
      "\u001b[1m26/26\u001b[0m \u001b[32m━━━━━━━━━━━━━━━━━━━━\u001b[0m\u001b[37m\u001b[0m \u001b[1m0s\u001b[0m 2ms/step - binary_accuracy: 0.7670 - loss: 0.4896 - val_binary_accuracy: 0.7992 - val_loss: 0.4369\n",
      "Epoch 17/30\n",
      "\u001b[1m26/26\u001b[0m \u001b[32m━━━━━━━━━━━━━━━━━━━━\u001b[0m\u001b[37m\u001b[0m \u001b[1m0s\u001b[0m 2ms/step - binary_accuracy: 0.7659 - loss: 0.4767 - val_binary_accuracy: 0.7992 - val_loss: 0.4360\n",
      "Epoch 18/30\n",
      "\u001b[1m26/26\u001b[0m \u001b[32m━━━━━━━━━━━━━━━━━━━━\u001b[0m\u001b[37m\u001b[0m \u001b[1m0s\u001b[0m 2ms/step - binary_accuracy: 0.7769 - loss: 0.4603 - val_binary_accuracy: 0.7992 - val_loss: 0.4341\n",
      "Epoch 19/30\n",
      "\u001b[1m26/26\u001b[0m \u001b[32m━━━━━━━━━━━━━━━━━━━━\u001b[0m\u001b[37m\u001b[0m \u001b[1m0s\u001b[0m 2ms/step - binary_accuracy: 0.7811 - loss: 0.4469 - val_binary_accuracy: 0.7953 - val_loss: 0.4333\n",
      "Epoch 20/30\n",
      "\u001b[1m26/26\u001b[0m \u001b[32m━━━━━━━━━━━━━━━━━━━━\u001b[0m\u001b[37m\u001b[0m \u001b[1m0s\u001b[0m 2ms/step - binary_accuracy: 0.7607 - loss: 0.4922 - val_binary_accuracy: 0.7913 - val_loss: 0.4319\n",
      "Epoch 21/30\n",
      "\u001b[1m26/26\u001b[0m \u001b[32m━━━━━━━━━━━━━━━━━━━━\u001b[0m\u001b[37m\u001b[0m \u001b[1m0s\u001b[0m 2ms/step - binary_accuracy: 0.7583 - loss: 0.4752 - val_binary_accuracy: 0.7953 - val_loss: 0.4314\n",
      "Epoch 22/30\n",
      "\u001b[1m26/26\u001b[0m \u001b[32m━━━━━━━━━━━━━━━━━━━━\u001b[0m\u001b[37m\u001b[0m \u001b[1m0s\u001b[0m 2ms/step - binary_accuracy: 0.7886 - loss: 0.4322 - val_binary_accuracy: 0.8031 - val_loss: 0.4332\n",
      "Epoch 23/30\n",
      "\u001b[1m26/26\u001b[0m \u001b[32m━━━━━━━━━━━━━━━━━━━━\u001b[0m\u001b[37m\u001b[0m \u001b[1m0s\u001b[0m 2ms/step - binary_accuracy: 0.7432 - loss: 0.4809 - val_binary_accuracy: 0.7953 - val_loss: 0.4293\n",
      "Epoch 24/30\n",
      "\u001b[1m26/26\u001b[0m \u001b[32m━━━━━━━━━━━━━━━━━━━━\u001b[0m\u001b[37m\u001b[0m \u001b[1m0s\u001b[0m 2ms/step - binary_accuracy: 0.7478 - loss: 0.4889 - val_binary_accuracy: 0.7953 - val_loss: 0.4293\n",
      "Epoch 25/30\n",
      "\u001b[1m26/26\u001b[0m \u001b[32m━━━━━━━━━━━━━━━━━━━━\u001b[0m\u001b[37m\u001b[0m \u001b[1m0s\u001b[0m 2ms/step - binary_accuracy: 0.7618 - loss: 0.4521 - val_binary_accuracy: 0.8031 - val_loss: 0.4298\n",
      "Epoch 26/30\n",
      "\u001b[1m26/26\u001b[0m \u001b[32m━━━━━━━━━━━━━━━━━━━━\u001b[0m\u001b[37m\u001b[0m \u001b[1m0s\u001b[0m 2ms/step - binary_accuracy: 0.7796 - loss: 0.4435 - val_binary_accuracy: 0.8031 - val_loss: 0.4307\n",
      "Epoch 27/30\n",
      "\u001b[1m26/26\u001b[0m \u001b[32m━━━━━━━━━━━━━━━━━━━━\u001b[0m\u001b[37m\u001b[0m \u001b[1m0s\u001b[0m 2ms/step - binary_accuracy: 0.7961 - loss: 0.4153 - val_binary_accuracy: 0.8071 - val_loss: 0.4309\n",
      "Epoch 28/30\n",
      "\u001b[1m26/26\u001b[0m \u001b[32m━━━━━━━━━━━━━━━━━━━━\u001b[0m\u001b[37m\u001b[0m \u001b[1m0s\u001b[0m 2ms/step - binary_accuracy: 0.7786 - loss: 0.4363 - val_binary_accuracy: 0.7992 - val_loss: 0.4301\n",
      "Epoch 29/30\n",
      "\u001b[1m26/26\u001b[0m \u001b[32m━━━━━━━━━━━━━━━━━━━━\u001b[0m\u001b[37m\u001b[0m \u001b[1m0s\u001b[0m 2ms/step - binary_accuracy: 0.7738 - loss: 0.4433 - val_binary_accuracy: 0.8031 - val_loss: 0.4313\n",
      "Epoch 30/30\n",
      "\u001b[1m26/26\u001b[0m \u001b[32m━━━━━━━━━━━━━━━━━━━━\u001b[0m\u001b[37m\u001b[0m \u001b[1m0s\u001b[0m 2ms/step - binary_accuracy: 0.7799 - loss: 0.4203 - val_binary_accuracy: 0.8031 - val_loss: 0.4314\n"
     ]
    }
   ],
   "source": [
    "np.random.seed(1)\n",
    "\n",
    "\n",
    "# create model\n",
    "model = models.Sequential()\n",
    "model.add(layers.Dense(16, activation = \"relu\", input_dim = 8))\n",
    "model.add(layers.Dense(16, activation = \"exponential\"))\n",
    "model.add(layers.Dense(1, activation = \"sigmoid\"))\n",
    "\n",
    "# compile model\n",
    "model.compile(optimizer='rmsprop',loss=losses.BinaryCrossentropy(),metrics=[metrics.BinaryAccuracy()])\n",
    "\n",
    "# fit model\n",
    "hist = model.fit(X, y, validation_split = 0.33, epochs = 30, batch_size = 20)"
   ]
  },
  {
   "cell_type": "code",
   "execution_count": 52,
   "metadata": {},
   "outputs": [
    {
     "data": {
      "text/plain": [
       "Text(0.5, 1.0, 'Training and validation loss')"
      ]
     },
     "execution_count": 52,
     "metadata": {},
     "output_type": "execute_result"
    },
    {
     "data": {
      "image/png": "[encoded data removed]",
      "text/plain": [
       "<Figure size 640x480 with 1 Axes>"
      ]
     },
     "metadata": {},
     "output_type": "display_data"
    }
   ],
   "source": [
    "# plot loss and validation loss curves\n",
    "\n",
    "loss = hist.history[\"loss\"]\n",
    "val_loss = hist.history[\"val_loss\"]\n",
    "ep = range(1, len(loss) + 1)\n",
    "plt.plot(ep, loss, \"r-\")\n",
    "plt.plot(ep, val_loss, \"b-\")\n",
    "plt.title(\"Training and validation loss\")"
   ]
  },
  {
   "cell_type": "markdown",
   "metadata": {},
   "source": [
    "2. Neural networks with K-Fold validation"
   ]
  },
  {
   "cell_type": "code",
   "execution_count": 101,
   "metadata": {},
   "outputs": [],
   "source": [
    "df = pd.DataFrame()"
   ]
  },
  {
   "cell_type": "code",
   "execution_count": 108,
   "metadata": {},
   "outputs": [],
   "source": [
    "# initialize parameters\n",
    "params = {\"N1\" : 12, \"N2\" : 16, \"N3\" : 8, \"act1\" : \"relu\", \"act2\" : \"exponential\", \"act3\" : \"relu\", \"opt\" : \"adam\", \"loss\" : losses.BinaryCrossentropy(),\n",
    "          \"epochs\" : 100, \"batch_size\" : 10}\n",
    "\n",
    "def create_model(X, y) :\n",
    "    \"\"\"create and return model\"\"\"\n",
    "\n",
    "    # create model\n",
    "    model = models.Sequential()\n",
    "    model.add(layers.Dense(params[\"N1\"], activation = params[\"act1\"], input_dim = 8))\n",
    "    model.add(layers.Dense(params[\"N2\"], activation = params[\"act2\"]))\n",
    "    model.add(layers.Dense(params[\"N3\"], activation = params[\"act3\"]))\n",
    "    model.add(layers.Dense(1, activation = \"sigmoid\"))\n",
    "\n",
    "    # compile model\n",
    "    model.compile(optimizer=params[\"opt\"],loss=params[\"loss\"],metrics=[\"accuracy\"])\n",
    "\n",
    "    # fit model\n",
    "    model.fit(X, y, validation_split = 0, epochs = params[\"epochs\"], batch_size = params[\"batch_size\"], verbose = 0)\n",
    "\n",
    "    return model"
   ]
  },
  {
   "cell_type": "code",
   "execution_count": 109,
   "metadata": {},
   "outputs": [
    {
     "name": "stderr",
     "output_type": "stream",
     "text": [
      "c:\\Users\\natha\\Documents\\GitHub\\4th year Polytech\\Deep Learning\\env_deep_learning\\Lib\\site-packages\\keras\\src\\layers\\core\\dense.py:87: UserWarning: Do not pass an `input_shape`/`input_dim` argument to a layer. When using Sequential models, prefer using an `Input(shape)` object as the first layer in the model instead.\n",
      "  super().__init__(activity_regularizer=activity_regularizer, **kwargs)\n"
     ]
    },
    {
     "name": "stdout",
     "output_type": "stream",
     "text": [
      "compile_metrics 70.1298713684082\n",
      "compile_metrics 74.02597665786743\n",
      "compile_metrics 76.6233742237091\n",
      "compile_metrics 67.53246784210205\n",
      "compile_metrics 76.6233742237091\n",
      "compile_metrics 75.32467246055603\n",
      "compile_metrics 81.81818127632141\n",
      "compile_metrics 77.92207598686218\n",
      "compile_metrics 78.94737124443054\n",
      "compile_metrics 69.73684430122375\n"
     ]
    }
   ],
   "source": [
    "# split data into 10 folds\n",
    "kfold = StratifiedKFold(n_splits = 10, shuffle = True, random_state = 0)\n",
    "\n",
    "# list that will store the results\n",
    "cv_score = []\n",
    "\n",
    "for train_index, test_index in kfold.split(X, y) :\n",
    "    # create model\n",
    "    model = create_model(X[train_index], y[train_index])\n",
    "    \n",
    "    # evaluate the model\n",
    "    score = model.evaluate(X[test_index], y[test_index], verbose = 0)\n",
    "    print(model.metrics_names[1], score[1]*100)\n",
    "    cv_score.append(score[1]*100)"
   ]
  },
  {
   "cell_type": "code",
   "execution_count": 110,
   "metadata": {},
   "outputs": [
    {
     "name": "stdout",
     "output_type": "stream",
     "text": [
      "average accuracy and standard deviation: 74.86842095851898 4.288852434331156\n"
     ]
    },
    {
     "data": {
      "text/html": [
       "<div>\n",
       "<style scoped>\n",
       "    .dataframe tbody tr th:only-of-type {\n",
       "        vertical-align: middle;\n",
       "    }\n",
       "\n",
       "    .dataframe tbody tr th {\n",
       "        vertical-align: top;\n",
       "    }\n",
       "\n",
       "    .dataframe thead th {\n",
       "        text-align: right;\n",
       "    }\n",
       "</style>\n",
       "<table border=\"1\" class=\"dataframe\">\n",
       "  <thead>\n",
       "    <tr style=\"text-align: right;\">\n",
       "      <th></th>\n",
       "      <th>0</th>\n",
       "      <th>0</th>\n",
       "      <th>0</th>\n",
       "    </tr>\n",
       "  </thead>\n",
       "  <tbody>\n",
       "    <tr>\n",
       "      <th>N1</th>\n",
       "      <td>16</td>\n",
       "      <td>32</td>\n",
       "      <td>12</td>\n",
       "    </tr>\n",
       "    <tr>\n",
       "      <th>N2</th>\n",
       "      <td>16</td>\n",
       "      <td>16</td>\n",
       "      <td>16</td>\n",
       "    </tr>\n",
       "    <tr>\n",
       "      <th>act1</th>\n",
       "      <td>relu</td>\n",
       "      <td>relu</td>\n",
       "      <td>relu</td>\n",
       "    </tr>\n",
       "    <tr>\n",
       "      <th>act2</th>\n",
       "      <td>exponential</td>\n",
       "      <td>exponential</td>\n",
       "      <td>exponential</td>\n",
       "    </tr>\n",
       "    <tr>\n",
       "      <th>opt</th>\n",
       "      <td>adam</td>\n",
       "      <td>adam</td>\n",
       "      <td>adam</td>\n",
       "    </tr>\n",
       "    <tr>\n",
       "      <th>loss</th>\n",
       "      <td>&lt;keras.src.losses.losses.BinaryCrossentropy ob...</td>\n",
       "      <td>&lt;keras.src.losses.losses.BinaryCrossentropy ob...</td>\n",
       "      <td>&lt;keras.src.losses.losses.BinaryCrossentropy ob...</td>\n",
       "    </tr>\n",
       "    <tr>\n",
       "      <th>epochs</th>\n",
       "      <td>100</td>\n",
       "      <td>100</td>\n",
       "      <td>100</td>\n",
       "    </tr>\n",
       "    <tr>\n",
       "      <th>batch_size</th>\n",
       "      <td>10</td>\n",
       "      <td>10</td>\n",
       "      <td>10</td>\n",
       "    </tr>\n",
       "    <tr>\n",
       "      <th>accuracy</th>\n",
       "      <td>74.606972</td>\n",
       "      <td>71.742994</td>\n",
       "      <td>74.868421</td>\n",
       "    </tr>\n",
       "    <tr>\n",
       "      <th>N3</th>\n",
       "      <td>NaN</td>\n",
       "      <td>NaN</td>\n",
       "      <td>8</td>\n",
       "    </tr>\n",
       "    <tr>\n",
       "      <th>act3</th>\n",
       "      <td>NaN</td>\n",
       "      <td>NaN</td>\n",
       "      <td>relu</td>\n",
       "    </tr>\n",
       "  </tbody>\n",
       "</table>\n",
       "</div>"
      ],
      "text/plain": [
       "                                                            0  \\\n",
       "N1                                                         16   \n",
       "N2                                                         16   \n",
       "act1                                                     relu   \n",
       "act2                                              exponential   \n",
       "opt                                                      adam   \n",
       "loss        <keras.src.losses.losses.BinaryCrossentropy ob...   \n",
       "epochs                                                    100   \n",
       "batch_size                                                 10   \n",
       "accuracy                                            74.606972   \n",
       "N3                                                        NaN   \n",
       "act3                                                      NaN   \n",
       "\n",
       "                                                            0  \\\n",
       "N1                                                         32   \n",
       "N2                                                         16   \n",
       "act1                                                     relu   \n",
       "act2                                              exponential   \n",
       "opt                                                      adam   \n",
       "loss        <keras.src.losses.losses.BinaryCrossentropy ob...   \n",
       "epochs                                                    100   \n",
       "batch_size                                                 10   \n",
       "accuracy                                            71.742994   \n",
       "N3                                                        NaN   \n",
       "act3                                                      NaN   \n",
       "\n",
       "                                                            0  \n",
       "N1                                                         12  \n",
       "N2                                                         16  \n",
       "act1                                                     relu  \n",
       "act2                                              exponential  \n",
       "opt                                                      adam  \n",
       "loss        <keras.src.losses.losses.BinaryCrossentropy ob...  \n",
       "epochs                                                    100  \n",
       "batch_size                                                 10  \n",
       "accuracy                                            74.868421  \n",
       "N3                                                          8  \n",
       "act3                                                     relu  "
      ]
     },
     "execution_count": 110,
     "metadata": {},
     "output_type": "execute_result"
    }
   ],
   "source": [
    "params[\"accuracy\"] = np.mean(cv_score)\n",
    "df = pd.concat([df, pd.Series(params)], axis = 1)\n",
    "print(\"average accuracy and standard deviation:\", np.mean(cv_score), np.std(cv_score))\n",
    "df"
   ]
  },
  {
   "cell_type": "code",
   "execution_count": null,
   "metadata": {},
   "outputs": [],
   "source": []
  },
  {
   "cell_type": "code",
   "execution_count": null,
   "metadata": {},
   "outputs": [],
   "source": []
  },
  {
   "cell_type": "code",
   "execution_count": null,
   "metadata": {},
   "outputs": [],
   "source": []
  },
  {
   "cell_type": "code",
   "execution_count": null,
   "metadata": {},
   "outputs": [],
   "source": []
  },
  {
   "cell_type": "code",
   "execution_count": null,
   "metadata": {},
   "outputs": [],
   "source": []
  }
 ],
 "metadata": {
  "kernelspec": {
   "display_name": "env_deep_learning",
   "language": "python",
   "name": "python3"
  },
  "language_info": {
   "codemirror_mode": {
    "name": "ipython",
    "version": 3
   },
   "file_extension": ".py",
   "mimetype": "text/x-python",
   "name": "python",
   "nbconvert_exporter": "python",
   "pygments_lexer": "ipython3",
   "version": "3.12.6"
  }
 },
 "nbformat": 4,
 "nbformat_minor": 2
}
