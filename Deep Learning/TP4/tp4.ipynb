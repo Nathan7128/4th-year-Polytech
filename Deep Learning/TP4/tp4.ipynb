{
 "cells": [
  {
   "cell_type": "code",
   "execution_count": 62,
   "metadata": {},
   "outputs": [],
   "source": [
    "# import libraries\n",
    "\n",
    "%reset -f\n",
    "\n",
    "from keras.models import Sequential\n",
    "from keras.layers import Dense\n",
    "import numpy as np\n",
    "from tensorflow.keras.callbacks import EarlyStopping"
   ]
  },
  {
   "cell_type": "code",
   "execution_count": 63,
   "metadata": {},
   "outputs": [],
   "source": [
    "# set seed\n",
    "np.random.seed(1)"
   ]
  },
  {
   "cell_type": "code",
   "execution_count": 64,
   "metadata": {},
   "outputs": [],
   "source": [
    "#load dataset\n",
    "dataset = np.loadtxt(\"../TP3/pima-indians-diabetes.csv\", delimiter = \",\")"
   ]
  },
  {
   "cell_type": "code",
   "execution_count": 65,
   "metadata": {},
   "outputs": [],
   "source": [
    "X = dataset[:, 0:8]\n",
    "Y = dataset[:, 8]\n",
    "\n",
    "X_train = X[:600, :]\n",
    "Y_train = Y[:600:]\n",
    "X_test = X[600:, :]\n",
    "Y_test = Y[600:]\n",
    "\n",
    "min, max = np.min(X_train, axis = 0), np.max(X_train, axis = 0)\n",
    "\n",
    "X_train = (X_train - min)/(max - min)\n",
    "X_test = (X_test - min)/(max - min)"
   ]
  },
  {
   "cell_type": "code",
   "execution_count": 67,
   "metadata": {},
   "outputs": [],
   "source": [
    "def create_model(opt, neuron) :\n",
    "\n",
    "    model = Sequential()\n",
    "    n = len(neuron)\n",
    "    model.add(Dense(neuron[0], activation = \"relu\", input_dim = 8))\n",
    "\n",
    "    for i in range(1, n) :\n",
    "        model.add(Dense(neuron[i], activation = \"relu\"))\n",
    "\n",
    "    model.add(Dense(1, activation = \"sigmoid\"))\n",
    "    model.compile(loss = \"binary_crossentropy\", optimizer = opt, metrics = [\"accuracy\"])\n",
    "\n",
    "    return model"
   ]
  },
  {
   "cell_type": "code",
   "execution_count": 56,
   "metadata": {},
   "outputs": [
    {
     "name": "stdout",
     "output_type": "stream",
     "text": [
      "neuron :  [12  8] \toptimizer :  rmsprop \tepoch :  15 \taccuracy =  0.6845238208770752\n",
      "neuron :  [12  8] \toptimizer :  rmsprop \tepoch :  25 \taccuracy =  0.738095223903656\n",
      "neuron :  [12  8] \toptimizer :  adam \tepoch :  15 \taccuracy =  0.738095223903656\n",
      "neuron :  [12  8] \toptimizer :  adam \tepoch :  25 \taccuracy =  0.7083333134651184\n",
      "neuron :  [24 16] \toptimizer :  rmsprop \tepoch :  15 \taccuracy =  0.738095223903656\n",
      "neuron :  [24 16] \toptimizer :  rmsprop \tepoch :  25 \taccuracy =  0.7797619104385376\n",
      "neuron :  [24 16] \toptimizer :  adam \tepoch :  15 \taccuracy =  0.761904776096344\n",
      "neuron :  [24 16] \toptimizer :  adam \tepoch :  25 \taccuracy =  0.7797619104385376\n"
     ]
    }
   ],
   "source": [
    "optimizers = [\"rmsprop\", \"adam\"]\n",
    "epochs = np.array([15, 25])\n",
    "neurons = np.array([[12, 8], [24, 16]])\n",
    "\n",
    "for neur in neurons :\n",
    "    for opt in optimizers :\n",
    "        for ep in epochs :\n",
    "            model = create_model(opt, neur)\n",
    "            model.fit(X_train, Y_train, epochs = ep, batch_size = 10, validation_data = (X_test, Y_test), verbose = 0)\n",
    "            score = model.evaluate(X_test, Y_test, verbose = 0)\n",
    "\n",
    "            print(\"neuron : \", neur, \"\\toptimizer : \", opt, \"\\tepoch : \", ep, \"\\taccuracy = \", score[1])"
   ]
  },
  {
   "cell_type": "code",
   "execution_count": 75,
   "metadata": {},
   "outputs": [],
   "source": [
    "def create_model(opt, neuron, act) :\n",
    "\n",
    "    model = Sequential()\n",
    "    n = len(neuron)\n",
    "    model.add(Dense(neuron[0], activation = act, input_dim = 8))\n",
    "\n",
    "    for i in range(1, n) :\n",
    "        model.add(Dense(neuron[i], activation = act))\n",
    "\n",
    "    model.add(Dense(1, activation = \"sigmoid\"))\n",
    "    model.compile(loss = \"binary_crossentropy\", optimizer = opt, metrics = [\"accuracy\"])\n",
    "\n",
    "    return model"
   ]
  },
  {
   "cell_type": "code",
   "execution_count": 77,
   "metadata": {},
   "outputs": [],
   "source": [
    "callbacks = EarlyStopping(monitor='val_accuracy', patience=20)"
   ]
  },
  {
   "cell_type": "code",
   "execution_count": 78,
   "metadata": {},
   "outputs": [
    {
     "name": "stdout",
     "output_type": "stream",
     "text": [
      "activation :  relu \tneuron :  [12  8  6] \toptimizer :  rmsprop \taccuracy =  0.7916666865348816\n",
      "activation :  relu \tneuron :  [12  8  6] \toptimizer :  adam \taccuracy =  0.7797619104385376\n",
      "activation :  relu \tneuron :  [24 16 12] \toptimizer :  rmsprop \taccuracy =  0.7857142686843872\n",
      "activation :  relu \tneuron :  [24 16 12] \toptimizer :  adam \taccuracy =  0.773809552192688\n",
      "activation :  selu \tneuron :  [12  8  6] \toptimizer :  rmsprop \taccuracy =  0.773809552192688\n",
      "activation :  selu \tneuron :  [12  8  6] \toptimizer :  adam \taccuracy =  0.8095238208770752\n",
      "activation :  selu \tneuron :  [24 16 12] \toptimizer :  rmsprop \taccuracy =  0.761904776096344\n",
      "activation :  selu \tneuron :  [24 16 12] \toptimizer :  adam \taccuracy =  0.7857142686843872\n",
      "activation :  exponential \tneuron :  [12  8  6] \toptimizer :  rmsprop \taccuracy =  0.7916666865348816\n",
      "activation :  exponential \tneuron :  [12  8  6] \toptimizer :  adam \taccuracy =  0.7023809552192688\n",
      "activation :  exponential \tneuron :  [24 16 12] \toptimizer :  rmsprop \taccuracy =  0.7797619104385376\n",
      "activation :  exponential \tneuron :  [24 16 12] \toptimizer :  adam \taccuracy =  0.761904776096344\n"
     ]
    }
   ],
   "source": [
    "optimizers = [\"rmsprop\", \"adam\"]\n",
    "neurons = np.array([[12, 8, 6], [24, 16, 12]])\n",
    "activations = [\"relu\", \"selu\", 'exponential']\n",
    "\n",
    "for activation in activations :\n",
    "    for neur in neurons :\n",
    "        for opt in optimizers :\n",
    "            model = create_model(opt, neur, activation)\n",
    "            model.fit(X_train, Y_train, epochs = 100, batch_size = 10, validation_data = (X_test, Y_test), verbose = 0, callbacks = callbacks)\n",
    "            score = model.evaluate(X_test, Y_test, verbose = 0)\n",
    "\n",
    "            print(\"activation : \", activation, \"\\tneuron : \", neur, \"\\toptimizer : \", opt, \"\\taccuracy = \", score[1])"
   ]
  }
 ],
 "metadata": {
  "kernelspec": {
   "display_name": "env_deep_learning",
   "language": "python",
   "name": "python3"
  },
  "language_info": {
   "codemirror_mode": {
    "name": "ipython",
    "version": 3
   },
   "file_extension": ".py",
   "mimetype": "text/x-python",
   "name": "python",
   "nbconvert_exporter": "python",
   "pygments_lexer": "ipython3",
   "version": "3.12.6"
  }
 },
 "nbformat": 4,
 "nbformat_minor": 2
}
